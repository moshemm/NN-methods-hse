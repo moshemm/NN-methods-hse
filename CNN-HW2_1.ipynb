{
  "nbformat": 4,
  "nbformat_minor": 0,
  "metadata": {
    "colab": {
      "name": "CNN HW2-1.ipynb",
      "provenance": [],
      "collapsed_sections": [],
      "toc_visible": true,
      "authorship_tag": "ABX9TyP9zmPxOTylMFGsXb2hK8jV",
      "include_colab_link": true
    },
    "kernelspec": {
      "name": "python3",
      "display_name": "Python 3"
    },
    "language_info": {
      "name": "python"
    },
    "accelerator": "GPU"
  },
  "cells": [
    {
      "cell_type": "markdown",
      "metadata": {
        "id": "view-in-github",
        "colab_type": "text"
      },
      "source": [
        "<a href=\"https://colab.research.google.com/github/moshemm/NN-methods-hse/blob/main/CNN-HW2_1.ipynb\" target=\"_parent\"><img src=\"https://colab.research.google.com/assets/colab-badge.svg\" alt=\"Open In Colab\"/></a>"
      ]
    },
    {
      "cell_type": "markdown",
      "source": [
        "I. CNN на уровне слов: модель берет слова, пропускает их через Embedding слой. По эмбеддингам проходит CNN c фильтрами с разным окном, полученные результаты конкатенируются друг с другом по глубине, по результату конкатенации еще один сверточный слой, далее max pooling over time, на выходе линейный слой + сигмоида, функция потерь BCELoss. "
      ],
      "metadata": {
        "id": "0mN23sC-LZSU"
      }
    },
    {
      "cell_type": "markdown",
      "source": [
        "## Импорты и загрузка датасета"
      ],
      "metadata": {
        "id": "hiCBpAwBXwjQ"
      }
    },
    {
      "cell_type": "code",
      "execution_count": 1,
      "metadata": {
        "id": "GLnxvMYQGWHX",
        "colab": {
          "base_uri": "https://localhost:8080/"
        },
        "outputId": "b2b3cdab-00d9-4e2f-8ad3-ce554f747e14"
      },
      "outputs": [
        {
          "output_type": "stream",
          "name": "stdout",
          "text": [
            "\u001b[?25l\r\u001b[K     |▉                               | 10 kB 30.3 MB/s eta 0:00:01\r\u001b[K     |█▋                              | 20 kB 37.6 MB/s eta 0:00:01\r\u001b[K     |██▍                             | 30 kB 32.5 MB/s eta 0:00:01\r\u001b[K     |███▏                            | 40 kB 20.8 MB/s eta 0:00:01\r\u001b[K     |████                            | 51 kB 16.4 MB/s eta 0:00:01\r\u001b[K     |████▊                           | 61 kB 18.9 MB/s eta 0:00:01\r\u001b[K     |█████▌                          | 71 kB 19.9 MB/s eta 0:00:01\r\u001b[K     |██████▎                         | 81 kB 19.4 MB/s eta 0:00:01\r\u001b[K     |███████                         | 92 kB 21.1 MB/s eta 0:00:01\r\u001b[K     |███████▉                        | 102 kB 22.8 MB/s eta 0:00:01\r\u001b[K     |████████▋                       | 112 kB 22.8 MB/s eta 0:00:01\r\u001b[K     |█████████▍                      | 122 kB 22.8 MB/s eta 0:00:01\r\u001b[K     |██████████▏                     | 133 kB 22.8 MB/s eta 0:00:01\r\u001b[K     |███████████                     | 143 kB 22.8 MB/s eta 0:00:01\r\u001b[K     |███████████▊                    | 153 kB 22.8 MB/s eta 0:00:01\r\u001b[K     |████████████▌                   | 163 kB 22.8 MB/s eta 0:00:01\r\u001b[K     |█████████████▎                  | 174 kB 22.8 MB/s eta 0:00:01\r\u001b[K     |██████████████                  | 184 kB 22.8 MB/s eta 0:00:01\r\u001b[K     |██████████████▉                 | 194 kB 22.8 MB/s eta 0:00:01\r\u001b[K     |███████████████▊                | 204 kB 22.8 MB/s eta 0:00:01\r\u001b[K     |████████████████▌               | 215 kB 22.8 MB/s eta 0:00:01\r\u001b[K     |█████████████████▎              | 225 kB 22.8 MB/s eta 0:00:01\r\u001b[K     |██████████████████              | 235 kB 22.8 MB/s eta 0:00:01\r\u001b[K     |██████████████████▉             | 245 kB 22.8 MB/s eta 0:00:01\r\u001b[K     |███████████████████▋            | 256 kB 22.8 MB/s eta 0:00:01\r\u001b[K     |████████████████████▍           | 266 kB 22.8 MB/s eta 0:00:01\r\u001b[K     |█████████████████████▏          | 276 kB 22.8 MB/s eta 0:00:01\r\u001b[K     |██████████████████████          | 286 kB 22.8 MB/s eta 0:00:01\r\u001b[K     |██████████████████████▊         | 296 kB 22.8 MB/s eta 0:00:01\r\u001b[K     |███████████████████████▌        | 307 kB 22.8 MB/s eta 0:00:01\r\u001b[K     |████████████████████████▎       | 317 kB 22.8 MB/s eta 0:00:01\r\u001b[K     |█████████████████████████       | 327 kB 22.8 MB/s eta 0:00:01\r\u001b[K     |█████████████████████████▉      | 337 kB 22.8 MB/s eta 0:00:01\r\u001b[K     |██████████████████████████▋     | 348 kB 22.8 MB/s eta 0:00:01\r\u001b[K     |███████████████████████████▍    | 358 kB 22.8 MB/s eta 0:00:01\r\u001b[K     |████████████████████████████▏   | 368 kB 22.8 MB/s eta 0:00:01\r\u001b[K     |█████████████████████████████   | 378 kB 22.8 MB/s eta 0:00:01\r\u001b[K     |█████████████████████████████▊  | 389 kB 22.8 MB/s eta 0:00:01\r\u001b[K     |██████████████████████████████▋ | 399 kB 22.8 MB/s eta 0:00:01\r\u001b[K     |███████████████████████████████▍| 409 kB 22.8 MB/s eta 0:00:01\r\u001b[K     |████████████████████████████████| 418 kB 22.8 MB/s \n",
            "\u001b[?25h"
          ]
        }
      ],
      "source": [
        "!pip install torchmetrics -q"
      ]
    },
    {
      "cell_type": "code",
      "source": [
        "!pip install ipdb -q"
      ],
      "metadata": {
        "id": "cNZHGzVgGs8M",
        "colab": {
          "base_uri": "https://localhost:8080/"
        },
        "outputId": "b6ececf3-d021-4df5-f79c-d84717fd5b45"
      },
      "execution_count": 2,
      "outputs": [
        {
          "output_type": "stream",
          "name": "stdout",
          "text": [
            "\u001b[K     |████████████████████████████████| 793 kB 51.3 MB/s \n",
            "\u001b[K     |████████████████████████████████| 381 kB 64.9 MB/s \n",
            "\u001b[?25h  Building wheel for ipdb (setup.py) ... \u001b[?25l\u001b[?25hdone\n",
            "\u001b[31mERROR: pip's dependency resolver does not currently take into account all the packages that are installed. This behaviour is the source of the following dependency conflicts.\n",
            "jupyter-console 5.2.0 requires prompt-toolkit<2.0.0,>=1.0.0, but you have prompt-toolkit 3.0.29 which is incompatible.\n",
            "google-colab 1.0.0 requires ipython~=5.5.0, but you have ipython 7.34.0 which is incompatible.\u001b[0m\n"
          ]
        }
      ]
    },
    {
      "cell_type": "code",
      "source": [
        "import pandas as pd\n",
        "import numpy as np\n",
        "from string import punctuation\n",
        "from collections import Counter\n",
        "import re\n",
        "from nltk.tokenize import TweetTokenizer\n",
        "import tqdm\n",
        "\n",
        "\n",
        "from sklearn.model_selection import train_test_split\n",
        "from sklearn.utils import shuffle\n",
        "import torch\n",
        "import torch.nn as nn\n",
        "import torch.nn.functional as F\n",
        "from torch.utils.data import Dataset, DataLoader, RandomSampler, SequentialSampler\n",
        "from torch.nn.utils.rnn import pad_sequence\n",
        "import torch.optim as optim\n",
        "from torchmetrics import F1Score as F1\n",
        "from torchmetrics.functional import f1_score as f1\n",
        "from torchmetrics.functional import recall\n",
        "import ipdb\n",
        "import seaborn as sns\n",
        "import matplotlib.pyplot as plt\n",
        "%matplotlib inline"
      ],
      "metadata": {
        "id": "yzfv4EoGGa5e"
      },
      "execution_count": 3,
      "outputs": []
    },
    {
      "cell_type": "code",
      "source": [
        "!wget https://www.dropbox.com/s/r6u59ljhhjdg6j0/negative.csv\n",
        "!wget https://www.dropbox.com/s/fnpq3z4bcnoktiv/positive.csv "
      ],
      "metadata": {
        "colab": {
          "base_uri": "https://localhost:8080/"
        },
        "id": "cEyor1neGxcW",
        "outputId": "d6c67014-772b-42a1-f4fe-4473a52c421e"
      },
      "execution_count": 4,
      "outputs": [
        {
          "output_type": "stream",
          "name": "stdout",
          "text": [
            "--2022-06-06 15:44:37--  https://www.dropbox.com/s/r6u59ljhhjdg6j0/negative.csv\n",
            "Resolving www.dropbox.com (www.dropbox.com)... 162.125.6.18, 2620:100:6019:18::a27d:412\n",
            "Connecting to www.dropbox.com (www.dropbox.com)|162.125.6.18|:443... connected.\n",
            "HTTP request sent, awaiting response... 301 Moved Permanently\n",
            "Location: /s/raw/r6u59ljhhjdg6j0/negative.csv [following]\n",
            "--2022-06-06 15:44:37--  https://www.dropbox.com/s/raw/r6u59ljhhjdg6j0/negative.csv\n",
            "Reusing existing connection to www.dropbox.com:443.\n",
            "HTTP request sent, awaiting response... 302 Found\n",
            "Location: https://uc3467ef7d3f6bdbe547cd06b43d.dl.dropboxusercontent.com/cd/0/inline/Bmtk4fBQj9aBvPWjYncdH_Q2TYUrRlscEZGs27HExtPRGpXrNeZjJlhb4qMlGxXtoScuDqDHWjPqBqxy9ZbZ9pXDDTTcS7a1TVkMLneEUKRehCY92AhfZxlP23IrsUKDLWqJVLCycODCxMoCRwgSUWi1pTODDSjVmVbzrr-5USq_Zw/file# [following]\n",
            "--2022-06-06 15:44:37--  https://uc3467ef7d3f6bdbe547cd06b43d.dl.dropboxusercontent.com/cd/0/inline/Bmtk4fBQj9aBvPWjYncdH_Q2TYUrRlscEZGs27HExtPRGpXrNeZjJlhb4qMlGxXtoScuDqDHWjPqBqxy9ZbZ9pXDDTTcS7a1TVkMLneEUKRehCY92AhfZxlP23IrsUKDLWqJVLCycODCxMoCRwgSUWi1pTODDSjVmVbzrr-5USq_Zw/file\n",
            "Resolving uc3467ef7d3f6bdbe547cd06b43d.dl.dropboxusercontent.com (uc3467ef7d3f6bdbe547cd06b43d.dl.dropboxusercontent.com)... 162.125.6.15, 2620:100:6019:15::a27d:40f\n",
            "Connecting to uc3467ef7d3f6bdbe547cd06b43d.dl.dropboxusercontent.com (uc3467ef7d3f6bdbe547cd06b43d.dl.dropboxusercontent.com)|162.125.6.15|:443... connected.\n",
            "HTTP request sent, awaiting response... 200 OK\n",
            "Length: 24450101 (23M) [text/plain]\n",
            "Saving to: ‘negative.csv’\n",
            "\n",
            "negative.csv        100%[===================>]  23.32M   105MB/s    in 0.2s    \n",
            "\n",
            "2022-06-06 15:44:38 (105 MB/s) - ‘negative.csv’ saved [24450101/24450101]\n",
            "\n",
            "--2022-06-06 15:44:38--  https://www.dropbox.com/s/fnpq3z4bcnoktiv/positive.csv\n",
            "Resolving www.dropbox.com (www.dropbox.com)... 162.125.6.18, 2620:100:6019:18::a27d:412\n",
            "Connecting to www.dropbox.com (www.dropbox.com)|162.125.6.18|:443... connected.\n",
            "HTTP request sent, awaiting response... 301 Moved Permanently\n",
            "Location: /s/raw/fnpq3z4bcnoktiv/positive.csv [following]\n",
            "--2022-06-06 15:44:38--  https://www.dropbox.com/s/raw/fnpq3z4bcnoktiv/positive.csv\n",
            "Reusing existing connection to www.dropbox.com:443.\n",
            "HTTP request sent, awaiting response... 302 Found\n",
            "Location: https://uc224200a6203170af12c02d4aa0.dl.dropboxusercontent.com/cd/0/inline/BmvpsBKQdODExFtJ28XGv8OW7nTbLCMN6ymIFz4Y0BkMR-FbVpJO9bd1QiEioEO1Kefmu_ma_qeUiAWmRlUub1PSRVYXj0mEiNhdbjcaO1ENYmBT71jvnGyzCP8LKQ4tczVFglKltG97Nik5G4DSIonxPoBIHoViLe7dRQthKK7fkA/file# [following]\n",
            "--2022-06-06 15:44:38--  https://uc224200a6203170af12c02d4aa0.dl.dropboxusercontent.com/cd/0/inline/BmvpsBKQdODExFtJ28XGv8OW7nTbLCMN6ymIFz4Y0BkMR-FbVpJO9bd1QiEioEO1Kefmu_ma_qeUiAWmRlUub1PSRVYXj0mEiNhdbjcaO1ENYmBT71jvnGyzCP8LKQ4tczVFglKltG97Nik5G4DSIonxPoBIHoViLe7dRQthKK7fkA/file\n",
            "Resolving uc224200a6203170af12c02d4aa0.dl.dropboxusercontent.com (uc224200a6203170af12c02d4aa0.dl.dropboxusercontent.com)... 162.125.6.15, 2620:100:6020:15::a27d:400f\n",
            "Connecting to uc224200a6203170af12c02d4aa0.dl.dropboxusercontent.com (uc224200a6203170af12c02d4aa0.dl.dropboxusercontent.com)|162.125.6.15|:443... connected.\n",
            "HTTP request sent, awaiting response... 200 OK\n",
            "Length: 26233379 (25M) [text/plain]\n",
            "Saving to: ‘positive.csv’\n",
            "\n",
            "positive.csv        100%[===================>]  25.02M  15.1MB/s    in 1.7s    \n",
            "\n",
            "2022-06-06 15:44:40 (15.1 MB/s) - ‘positive.csv’ saved [26233379/26233379]\n",
            "\n"
          ]
        }
      ]
    },
    {
      "cell_type": "markdown",
      "source": [
        "## Пандас. Объединяем датасеты, "
      ],
      "metadata": {
        "id": "F9qNUIzXX3M6"
      }
    },
    {
      "cell_type": "code",
      "source": [
        "positive = pd.read_csv('positive.csv', sep=';', usecols=[3], header=None, names=['text'])\n",
        "positive.head()"
      ],
      "metadata": {
        "colab": {
          "base_uri": "https://localhost:8080/",
          "height": 204
        },
        "id": "xH8KX0KSHMxN",
        "outputId": "7cc04b3f-ff86-4405-8d4c-4165d23c3234"
      },
      "execution_count": 5,
      "outputs": [
        {
          "output_type": "execute_result",
          "data": {
            "text/plain": [
              "                                                text\n",
              "0  @first_timee хоть я и школота, но поверь, у на...\n",
              "1  Да, все-таки он немного похож на него. Но мой ...\n",
              "2  RT @KatiaCheh: Ну ты идиотка) я испугалась за ...\n",
              "3  RT @digger2912: \"Кто то в углу сидит и погибае...\n",
              "4  @irina_dyshkant Вот что значит страшилка :D\\nН..."
            ],
            "text/html": [
              "\n",
              "  <div id=\"df-515cd9b6-703f-43ef-9a78-184771b0f9ff\">\n",
              "    <div class=\"colab-df-container\">\n",
              "      <div>\n",
              "<style scoped>\n",
              "    .dataframe tbody tr th:only-of-type {\n",
              "        vertical-align: middle;\n",
              "    }\n",
              "\n",
              "    .dataframe tbody tr th {\n",
              "        vertical-align: top;\n",
              "    }\n",
              "\n",
              "    .dataframe thead th {\n",
              "        text-align: right;\n",
              "    }\n",
              "</style>\n",
              "<table border=\"1\" class=\"dataframe\">\n",
              "  <thead>\n",
              "    <tr style=\"text-align: right;\">\n",
              "      <th></th>\n",
              "      <th>text</th>\n",
              "    </tr>\n",
              "  </thead>\n",
              "  <tbody>\n",
              "    <tr>\n",
              "      <th>0</th>\n",
              "      <td>@first_timee хоть я и школота, но поверь, у на...</td>\n",
              "    </tr>\n",
              "    <tr>\n",
              "      <th>1</th>\n",
              "      <td>Да, все-таки он немного похож на него. Но мой ...</td>\n",
              "    </tr>\n",
              "    <tr>\n",
              "      <th>2</th>\n",
              "      <td>RT @KatiaCheh: Ну ты идиотка) я испугалась за ...</td>\n",
              "    </tr>\n",
              "    <tr>\n",
              "      <th>3</th>\n",
              "      <td>RT @digger2912: \"Кто то в углу сидит и погибае...</td>\n",
              "    </tr>\n",
              "    <tr>\n",
              "      <th>4</th>\n",
              "      <td>@irina_dyshkant Вот что значит страшилка :D\\nН...</td>\n",
              "    </tr>\n",
              "  </tbody>\n",
              "</table>\n",
              "</div>\n",
              "      <button class=\"colab-df-convert\" onclick=\"convertToInteractive('df-515cd9b6-703f-43ef-9a78-184771b0f9ff')\"\n",
              "              title=\"Convert this dataframe to an interactive table.\"\n",
              "              style=\"display:none;\">\n",
              "        \n",
              "  <svg xmlns=\"http://www.w3.org/2000/svg\" height=\"24px\"viewBox=\"0 0 24 24\"\n",
              "       width=\"24px\">\n",
              "    <path d=\"M0 0h24v24H0V0z\" fill=\"none\"/>\n",
              "    <path d=\"M18.56 5.44l.94 2.06.94-2.06 2.06-.94-2.06-.94-.94-2.06-.94 2.06-2.06.94zm-11 1L8.5 8.5l.94-2.06 2.06-.94-2.06-.94L8.5 2.5l-.94 2.06-2.06.94zm10 10l.94 2.06.94-2.06 2.06-.94-2.06-.94-.94-2.06-.94 2.06-2.06.94z\"/><path d=\"M17.41 7.96l-1.37-1.37c-.4-.4-.92-.59-1.43-.59-.52 0-1.04.2-1.43.59L10.3 9.45l-7.72 7.72c-.78.78-.78 2.05 0 2.83L4 21.41c.39.39.9.59 1.41.59.51 0 1.02-.2 1.41-.59l7.78-7.78 2.81-2.81c.8-.78.8-2.07 0-2.86zM5.41 20L4 18.59l7.72-7.72 1.47 1.35L5.41 20z\"/>\n",
              "  </svg>\n",
              "      </button>\n",
              "      \n",
              "  <style>\n",
              "    .colab-df-container {\n",
              "      display:flex;\n",
              "      flex-wrap:wrap;\n",
              "      gap: 12px;\n",
              "    }\n",
              "\n",
              "    .colab-df-convert {\n",
              "      background-color: #E8F0FE;\n",
              "      border: none;\n",
              "      border-radius: 50%;\n",
              "      cursor: pointer;\n",
              "      display: none;\n",
              "      fill: #1967D2;\n",
              "      height: 32px;\n",
              "      padding: 0 0 0 0;\n",
              "      width: 32px;\n",
              "    }\n",
              "\n",
              "    .colab-df-convert:hover {\n",
              "      background-color: #E2EBFA;\n",
              "      box-shadow: 0px 1px 2px rgba(60, 64, 67, 0.3), 0px 1px 3px 1px rgba(60, 64, 67, 0.15);\n",
              "      fill: #174EA6;\n",
              "    }\n",
              "\n",
              "    [theme=dark] .colab-df-convert {\n",
              "      background-color: #3B4455;\n",
              "      fill: #D2E3FC;\n",
              "    }\n",
              "\n",
              "    [theme=dark] .colab-df-convert:hover {\n",
              "      background-color: #434B5C;\n",
              "      box-shadow: 0px 1px 3px 1px rgba(0, 0, 0, 0.15);\n",
              "      filter: drop-shadow(0px 1px 2px rgba(0, 0, 0, 0.3));\n",
              "      fill: #FFFFFF;\n",
              "    }\n",
              "  </style>\n",
              "\n",
              "      <script>\n",
              "        const buttonEl =\n",
              "          document.querySelector('#df-515cd9b6-703f-43ef-9a78-184771b0f9ff button.colab-df-convert');\n",
              "        buttonEl.style.display =\n",
              "          google.colab.kernel.accessAllowed ? 'block' : 'none';\n",
              "\n",
              "        async function convertToInteractive(key) {\n",
              "          const element = document.querySelector('#df-515cd9b6-703f-43ef-9a78-184771b0f9ff');\n",
              "          const dataTable =\n",
              "            await google.colab.kernel.invokeFunction('convertToInteractive',\n",
              "                                                     [key], {});\n",
              "          if (!dataTable) return;\n",
              "\n",
              "          const docLinkHtml = 'Like what you see? Visit the ' +\n",
              "            '<a target=\"_blank\" href=https://colab.research.google.com/notebooks/data_table.ipynb>data table notebook</a>'\n",
              "            + ' to learn more about interactive tables.';\n",
              "          element.innerHTML = '';\n",
              "          dataTable['output_type'] = 'display_data';\n",
              "          await google.colab.output.renderOutput(dataTable, element);\n",
              "          const docLink = document.createElement('div');\n",
              "          docLink.innerHTML = docLinkHtml;\n",
              "          element.appendChild(docLink);\n",
              "        }\n",
              "      </script>\n",
              "    </div>\n",
              "  </div>\n",
              "  "
            ]
          },
          "metadata": {},
          "execution_count": 5
        }
      ]
    },
    {
      "cell_type": "code",
      "source": [
        "negative = pd.read_csv('negative.csv', sep=';', usecols=[3], header=None, names=['text'])\n",
        "negative.head()"
      ],
      "metadata": {
        "colab": {
          "base_uri": "https://localhost:8080/",
          "height": 204
        },
        "id": "FRQD23btHanQ",
        "outputId": "c67c0a02-82d8-4774-a11b-5ccaa2b210b2"
      },
      "execution_count": 6,
      "outputs": [
        {
          "output_type": "execute_result",
          "data": {
            "text/plain": [
              "                                                text\n",
              "0  на работе был полный пиддес :| и так каждое за...\n",
              "1  Коллеги сидят рубятся в Urban terror, а я из-з...\n",
              "2  @elina_4post как говорят обещаного три года жд...\n",
              "3  Желаю хорошего полёта и удачной посадки,я буду...\n",
              "4  Обновил за каким-то лешим surf, теперь не рабо..."
            ],
            "text/html": [
              "\n",
              "  <div id=\"df-7a273fca-23fe-4ad7-ac1f-e04d3ee7c8f4\">\n",
              "    <div class=\"colab-df-container\">\n",
              "      <div>\n",
              "<style scoped>\n",
              "    .dataframe tbody tr th:only-of-type {\n",
              "        vertical-align: middle;\n",
              "    }\n",
              "\n",
              "    .dataframe tbody tr th {\n",
              "        vertical-align: top;\n",
              "    }\n",
              "\n",
              "    .dataframe thead th {\n",
              "        text-align: right;\n",
              "    }\n",
              "</style>\n",
              "<table border=\"1\" class=\"dataframe\">\n",
              "  <thead>\n",
              "    <tr style=\"text-align: right;\">\n",
              "      <th></th>\n",
              "      <th>text</th>\n",
              "    </tr>\n",
              "  </thead>\n",
              "  <tbody>\n",
              "    <tr>\n",
              "      <th>0</th>\n",
              "      <td>на работе был полный пиддес :| и так каждое за...</td>\n",
              "    </tr>\n",
              "    <tr>\n",
              "      <th>1</th>\n",
              "      <td>Коллеги сидят рубятся в Urban terror, а я из-з...</td>\n",
              "    </tr>\n",
              "    <tr>\n",
              "      <th>2</th>\n",
              "      <td>@elina_4post как говорят обещаного три года жд...</td>\n",
              "    </tr>\n",
              "    <tr>\n",
              "      <th>3</th>\n",
              "      <td>Желаю хорошего полёта и удачной посадки,я буду...</td>\n",
              "    </tr>\n",
              "    <tr>\n",
              "      <th>4</th>\n",
              "      <td>Обновил за каким-то лешим surf, теперь не рабо...</td>\n",
              "    </tr>\n",
              "  </tbody>\n",
              "</table>\n",
              "</div>\n",
              "      <button class=\"colab-df-convert\" onclick=\"convertToInteractive('df-7a273fca-23fe-4ad7-ac1f-e04d3ee7c8f4')\"\n",
              "              title=\"Convert this dataframe to an interactive table.\"\n",
              "              style=\"display:none;\">\n",
              "        \n",
              "  <svg xmlns=\"http://www.w3.org/2000/svg\" height=\"24px\"viewBox=\"0 0 24 24\"\n",
              "       width=\"24px\">\n",
              "    <path d=\"M0 0h24v24H0V0z\" fill=\"none\"/>\n",
              "    <path d=\"M18.56 5.44l.94 2.06.94-2.06 2.06-.94-2.06-.94-.94-2.06-.94 2.06-2.06.94zm-11 1L8.5 8.5l.94-2.06 2.06-.94-2.06-.94L8.5 2.5l-.94 2.06-2.06.94zm10 10l.94 2.06.94-2.06 2.06-.94-2.06-.94-.94-2.06-.94 2.06-2.06.94z\"/><path d=\"M17.41 7.96l-1.37-1.37c-.4-.4-.92-.59-1.43-.59-.52 0-1.04.2-1.43.59L10.3 9.45l-7.72 7.72c-.78.78-.78 2.05 0 2.83L4 21.41c.39.39.9.59 1.41.59.51 0 1.02-.2 1.41-.59l7.78-7.78 2.81-2.81c.8-.78.8-2.07 0-2.86zM5.41 20L4 18.59l7.72-7.72 1.47 1.35L5.41 20z\"/>\n",
              "  </svg>\n",
              "      </button>\n",
              "      \n",
              "  <style>\n",
              "    .colab-df-container {\n",
              "      display:flex;\n",
              "      flex-wrap:wrap;\n",
              "      gap: 12px;\n",
              "    }\n",
              "\n",
              "    .colab-df-convert {\n",
              "      background-color: #E8F0FE;\n",
              "      border: none;\n",
              "      border-radius: 50%;\n",
              "      cursor: pointer;\n",
              "      display: none;\n",
              "      fill: #1967D2;\n",
              "      height: 32px;\n",
              "      padding: 0 0 0 0;\n",
              "      width: 32px;\n",
              "    }\n",
              "\n",
              "    .colab-df-convert:hover {\n",
              "      background-color: #E2EBFA;\n",
              "      box-shadow: 0px 1px 2px rgba(60, 64, 67, 0.3), 0px 1px 3px 1px rgba(60, 64, 67, 0.15);\n",
              "      fill: #174EA6;\n",
              "    }\n",
              "\n",
              "    [theme=dark] .colab-df-convert {\n",
              "      background-color: #3B4455;\n",
              "      fill: #D2E3FC;\n",
              "    }\n",
              "\n",
              "    [theme=dark] .colab-df-convert:hover {\n",
              "      background-color: #434B5C;\n",
              "      box-shadow: 0px 1px 3px 1px rgba(0, 0, 0, 0.15);\n",
              "      filter: drop-shadow(0px 1px 2px rgba(0, 0, 0, 0.3));\n",
              "      fill: #FFFFFF;\n",
              "    }\n",
              "  </style>\n",
              "\n",
              "      <script>\n",
              "        const buttonEl =\n",
              "          document.querySelector('#df-7a273fca-23fe-4ad7-ac1f-e04d3ee7c8f4 button.colab-df-convert');\n",
              "        buttonEl.style.display =\n",
              "          google.colab.kernel.accessAllowed ? 'block' : 'none';\n",
              "\n",
              "        async function convertToInteractive(key) {\n",
              "          const element = document.querySelector('#df-7a273fca-23fe-4ad7-ac1f-e04d3ee7c8f4');\n",
              "          const dataTable =\n",
              "            await google.colab.kernel.invokeFunction('convertToInteractive',\n",
              "                                                     [key], {});\n",
              "          if (!dataTable) return;\n",
              "\n",
              "          const docLinkHtml = 'Like what you see? Visit the ' +\n",
              "            '<a target=\"_blank\" href=https://colab.research.google.com/notebooks/data_table.ipynb>data table notebook</a>'\n",
              "            + ' to learn more about interactive tables.';\n",
              "          element.innerHTML = '';\n",
              "          dataTable['output_type'] = 'display_data';\n",
              "          await google.colab.output.renderOutput(dataTable, element);\n",
              "          const docLink = document.createElement('div');\n",
              "          docLink.innerHTML = docLinkHtml;\n",
              "          element.appendChild(docLink);\n",
              "        }\n",
              "      </script>\n",
              "    </div>\n",
              "  </div>\n",
              "  "
            ]
          },
          "metadata": {},
          "execution_count": 6
        }
      ]
    },
    {
      "cell_type": "code",
      "source": [
        "positive['label'] = 1\n",
        "positive.head()"
      ],
      "metadata": {
        "colab": {
          "base_uri": "https://localhost:8080/",
          "height": 204
        },
        "id": "W5UK5hxYIN5q",
        "outputId": "2d9d9e9c-5e57-4777-825f-0101c3b600bd"
      },
      "execution_count": 7,
      "outputs": [
        {
          "output_type": "execute_result",
          "data": {
            "text/plain": [
              "                                                text  label\n",
              "0  @first_timee хоть я и школота, но поверь, у на...      1\n",
              "1  Да, все-таки он немного похож на него. Но мой ...      1\n",
              "2  RT @KatiaCheh: Ну ты идиотка) я испугалась за ...      1\n",
              "3  RT @digger2912: \"Кто то в углу сидит и погибае...      1\n",
              "4  @irina_dyshkant Вот что значит страшилка :D\\nН...      1"
            ],
            "text/html": [
              "\n",
              "  <div id=\"df-e99e5d53-8b26-4a09-a9b5-b4b607f854ad\">\n",
              "    <div class=\"colab-df-container\">\n",
              "      <div>\n",
              "<style scoped>\n",
              "    .dataframe tbody tr th:only-of-type {\n",
              "        vertical-align: middle;\n",
              "    }\n",
              "\n",
              "    .dataframe tbody tr th {\n",
              "        vertical-align: top;\n",
              "    }\n",
              "\n",
              "    .dataframe thead th {\n",
              "        text-align: right;\n",
              "    }\n",
              "</style>\n",
              "<table border=\"1\" class=\"dataframe\">\n",
              "  <thead>\n",
              "    <tr style=\"text-align: right;\">\n",
              "      <th></th>\n",
              "      <th>text</th>\n",
              "      <th>label</th>\n",
              "    </tr>\n",
              "  </thead>\n",
              "  <tbody>\n",
              "    <tr>\n",
              "      <th>0</th>\n",
              "      <td>@first_timee хоть я и школота, но поверь, у на...</td>\n",
              "      <td>1</td>\n",
              "    </tr>\n",
              "    <tr>\n",
              "      <th>1</th>\n",
              "      <td>Да, все-таки он немного похож на него. Но мой ...</td>\n",
              "      <td>1</td>\n",
              "    </tr>\n",
              "    <tr>\n",
              "      <th>2</th>\n",
              "      <td>RT @KatiaCheh: Ну ты идиотка) я испугалась за ...</td>\n",
              "      <td>1</td>\n",
              "    </tr>\n",
              "    <tr>\n",
              "      <th>3</th>\n",
              "      <td>RT @digger2912: \"Кто то в углу сидит и погибае...</td>\n",
              "      <td>1</td>\n",
              "    </tr>\n",
              "    <tr>\n",
              "      <th>4</th>\n",
              "      <td>@irina_dyshkant Вот что значит страшилка :D\\nН...</td>\n",
              "      <td>1</td>\n",
              "    </tr>\n",
              "  </tbody>\n",
              "</table>\n",
              "</div>\n",
              "      <button class=\"colab-df-convert\" onclick=\"convertToInteractive('df-e99e5d53-8b26-4a09-a9b5-b4b607f854ad')\"\n",
              "              title=\"Convert this dataframe to an interactive table.\"\n",
              "              style=\"display:none;\">\n",
              "        \n",
              "  <svg xmlns=\"http://www.w3.org/2000/svg\" height=\"24px\"viewBox=\"0 0 24 24\"\n",
              "       width=\"24px\">\n",
              "    <path d=\"M0 0h24v24H0V0z\" fill=\"none\"/>\n",
              "    <path d=\"M18.56 5.44l.94 2.06.94-2.06 2.06-.94-2.06-.94-.94-2.06-.94 2.06-2.06.94zm-11 1L8.5 8.5l.94-2.06 2.06-.94-2.06-.94L8.5 2.5l-.94 2.06-2.06.94zm10 10l.94 2.06.94-2.06 2.06-.94-2.06-.94-.94-2.06-.94 2.06-2.06.94z\"/><path d=\"M17.41 7.96l-1.37-1.37c-.4-.4-.92-.59-1.43-.59-.52 0-1.04.2-1.43.59L10.3 9.45l-7.72 7.72c-.78.78-.78 2.05 0 2.83L4 21.41c.39.39.9.59 1.41.59.51 0 1.02-.2 1.41-.59l7.78-7.78 2.81-2.81c.8-.78.8-2.07 0-2.86zM5.41 20L4 18.59l7.72-7.72 1.47 1.35L5.41 20z\"/>\n",
              "  </svg>\n",
              "      </button>\n",
              "      \n",
              "  <style>\n",
              "    .colab-df-container {\n",
              "      display:flex;\n",
              "      flex-wrap:wrap;\n",
              "      gap: 12px;\n",
              "    }\n",
              "\n",
              "    .colab-df-convert {\n",
              "      background-color: #E8F0FE;\n",
              "      border: none;\n",
              "      border-radius: 50%;\n",
              "      cursor: pointer;\n",
              "      display: none;\n",
              "      fill: #1967D2;\n",
              "      height: 32px;\n",
              "      padding: 0 0 0 0;\n",
              "      width: 32px;\n",
              "    }\n",
              "\n",
              "    .colab-df-convert:hover {\n",
              "      background-color: #E2EBFA;\n",
              "      box-shadow: 0px 1px 2px rgba(60, 64, 67, 0.3), 0px 1px 3px 1px rgba(60, 64, 67, 0.15);\n",
              "      fill: #174EA6;\n",
              "    }\n",
              "\n",
              "    [theme=dark] .colab-df-convert {\n",
              "      background-color: #3B4455;\n",
              "      fill: #D2E3FC;\n",
              "    }\n",
              "\n",
              "    [theme=dark] .colab-df-convert:hover {\n",
              "      background-color: #434B5C;\n",
              "      box-shadow: 0px 1px 3px 1px rgba(0, 0, 0, 0.15);\n",
              "      filter: drop-shadow(0px 1px 2px rgba(0, 0, 0, 0.3));\n",
              "      fill: #FFFFFF;\n",
              "    }\n",
              "  </style>\n",
              "\n",
              "      <script>\n",
              "        const buttonEl =\n",
              "          document.querySelector('#df-e99e5d53-8b26-4a09-a9b5-b4b607f854ad button.colab-df-convert');\n",
              "        buttonEl.style.display =\n",
              "          google.colab.kernel.accessAllowed ? 'block' : 'none';\n",
              "\n",
              "        async function convertToInteractive(key) {\n",
              "          const element = document.querySelector('#df-e99e5d53-8b26-4a09-a9b5-b4b607f854ad');\n",
              "          const dataTable =\n",
              "            await google.colab.kernel.invokeFunction('convertToInteractive',\n",
              "                                                     [key], {});\n",
              "          if (!dataTable) return;\n",
              "\n",
              "          const docLinkHtml = 'Like what you see? Visit the ' +\n",
              "            '<a target=\"_blank\" href=https://colab.research.google.com/notebooks/data_table.ipynb>data table notebook</a>'\n",
              "            + ' to learn more about interactive tables.';\n",
              "          element.innerHTML = '';\n",
              "          dataTable['output_type'] = 'display_data';\n",
              "          await google.colab.output.renderOutput(dataTable, element);\n",
              "          const docLink = document.createElement('div');\n",
              "          docLink.innerHTML = docLinkHtml;\n",
              "          element.appendChild(docLink);\n",
              "        }\n",
              "      </script>\n",
              "    </div>\n",
              "  </div>\n",
              "  "
            ]
          },
          "metadata": {},
          "execution_count": 7
        }
      ]
    },
    {
      "cell_type": "code",
      "source": [
        "negative['label'] = 0"
      ],
      "metadata": {
        "id": "9EKl-GmlI4BB"
      },
      "execution_count": 8,
      "outputs": []
    },
    {
      "cell_type": "code",
      "source": [
        "frames = [positive, negative]\n",
        "data = pd.concat(frames)\n",
        "data.tail()"
      ],
      "metadata": {
        "colab": {
          "base_uri": "https://localhost:8080/",
          "height": 204
        },
        "id": "ba_YZ4n5I7HG",
        "outputId": "38c5f41b-870b-46bf-f05a-a10f92a1b8ac"
      },
      "execution_count": 9,
      "outputs": [
        {
          "output_type": "execute_result",
          "data": {
            "text/plain": [
              "                                                     text  label\n",
              "111918  Но не каждый хочет что то исправлять:( http://...      0\n",
              "111919  скучаю так :-( только @taaannyaaa вправляет мо...      0\n",
              "111920          Вот и в школу, в говно это идти уже надо(      0\n",
              "111921  RT @_Them__: @LisaBeroud Тауриэль, не грусти :...      0\n",
              "111922  Такси везет меня на работу. Раздумываю приплат...      0"
            ],
            "text/html": [
              "\n",
              "  <div id=\"df-af800222-b968-4b28-9fd5-9273b9385a1b\">\n",
              "    <div class=\"colab-df-container\">\n",
              "      <div>\n",
              "<style scoped>\n",
              "    .dataframe tbody tr th:only-of-type {\n",
              "        vertical-align: middle;\n",
              "    }\n",
              "\n",
              "    .dataframe tbody tr th {\n",
              "        vertical-align: top;\n",
              "    }\n",
              "\n",
              "    .dataframe thead th {\n",
              "        text-align: right;\n",
              "    }\n",
              "</style>\n",
              "<table border=\"1\" class=\"dataframe\">\n",
              "  <thead>\n",
              "    <tr style=\"text-align: right;\">\n",
              "      <th></th>\n",
              "      <th>text</th>\n",
              "      <th>label</th>\n",
              "    </tr>\n",
              "  </thead>\n",
              "  <tbody>\n",
              "    <tr>\n",
              "      <th>111918</th>\n",
              "      <td>Но не каждый хочет что то исправлять:( http://...</td>\n",
              "      <td>0</td>\n",
              "    </tr>\n",
              "    <tr>\n",
              "      <th>111919</th>\n",
              "      <td>скучаю так :-( только @taaannyaaa вправляет мо...</td>\n",
              "      <td>0</td>\n",
              "    </tr>\n",
              "    <tr>\n",
              "      <th>111920</th>\n",
              "      <td>Вот и в школу, в говно это идти уже надо(</td>\n",
              "      <td>0</td>\n",
              "    </tr>\n",
              "    <tr>\n",
              "      <th>111921</th>\n",
              "      <td>RT @_Them__: @LisaBeroud Тауриэль, не грусти :...</td>\n",
              "      <td>0</td>\n",
              "    </tr>\n",
              "    <tr>\n",
              "      <th>111922</th>\n",
              "      <td>Такси везет меня на работу. Раздумываю приплат...</td>\n",
              "      <td>0</td>\n",
              "    </tr>\n",
              "  </tbody>\n",
              "</table>\n",
              "</div>\n",
              "      <button class=\"colab-df-convert\" onclick=\"convertToInteractive('df-af800222-b968-4b28-9fd5-9273b9385a1b')\"\n",
              "              title=\"Convert this dataframe to an interactive table.\"\n",
              "              style=\"display:none;\">\n",
              "        \n",
              "  <svg xmlns=\"http://www.w3.org/2000/svg\" height=\"24px\"viewBox=\"0 0 24 24\"\n",
              "       width=\"24px\">\n",
              "    <path d=\"M0 0h24v24H0V0z\" fill=\"none\"/>\n",
              "    <path d=\"M18.56 5.44l.94 2.06.94-2.06 2.06-.94-2.06-.94-.94-2.06-.94 2.06-2.06.94zm-11 1L8.5 8.5l.94-2.06 2.06-.94-2.06-.94L8.5 2.5l-.94 2.06-2.06.94zm10 10l.94 2.06.94-2.06 2.06-.94-2.06-.94-.94-2.06-.94 2.06-2.06.94z\"/><path d=\"M17.41 7.96l-1.37-1.37c-.4-.4-.92-.59-1.43-.59-.52 0-1.04.2-1.43.59L10.3 9.45l-7.72 7.72c-.78.78-.78 2.05 0 2.83L4 21.41c.39.39.9.59 1.41.59.51 0 1.02-.2 1.41-.59l7.78-7.78 2.81-2.81c.8-.78.8-2.07 0-2.86zM5.41 20L4 18.59l7.72-7.72 1.47 1.35L5.41 20z\"/>\n",
              "  </svg>\n",
              "      </button>\n",
              "      \n",
              "  <style>\n",
              "    .colab-df-container {\n",
              "      display:flex;\n",
              "      flex-wrap:wrap;\n",
              "      gap: 12px;\n",
              "    }\n",
              "\n",
              "    .colab-df-convert {\n",
              "      background-color: #E8F0FE;\n",
              "      border: none;\n",
              "      border-radius: 50%;\n",
              "      cursor: pointer;\n",
              "      display: none;\n",
              "      fill: #1967D2;\n",
              "      height: 32px;\n",
              "      padding: 0 0 0 0;\n",
              "      width: 32px;\n",
              "    }\n",
              "\n",
              "    .colab-df-convert:hover {\n",
              "      background-color: #E2EBFA;\n",
              "      box-shadow: 0px 1px 2px rgba(60, 64, 67, 0.3), 0px 1px 3px 1px rgba(60, 64, 67, 0.15);\n",
              "      fill: #174EA6;\n",
              "    }\n",
              "\n",
              "    [theme=dark] .colab-df-convert {\n",
              "      background-color: #3B4455;\n",
              "      fill: #D2E3FC;\n",
              "    }\n",
              "\n",
              "    [theme=dark] .colab-df-convert:hover {\n",
              "      background-color: #434B5C;\n",
              "      box-shadow: 0px 1px 3px 1px rgba(0, 0, 0, 0.15);\n",
              "      filter: drop-shadow(0px 1px 2px rgba(0, 0, 0, 0.3));\n",
              "      fill: #FFFFFF;\n",
              "    }\n",
              "  </style>\n",
              "\n",
              "      <script>\n",
              "        const buttonEl =\n",
              "          document.querySelector('#df-af800222-b968-4b28-9fd5-9273b9385a1b button.colab-df-convert');\n",
              "        buttonEl.style.display =\n",
              "          google.colab.kernel.accessAllowed ? 'block' : 'none';\n",
              "\n",
              "        async function convertToInteractive(key) {\n",
              "          const element = document.querySelector('#df-af800222-b968-4b28-9fd5-9273b9385a1b');\n",
              "          const dataTable =\n",
              "            await google.colab.kernel.invokeFunction('convertToInteractive',\n",
              "                                                     [key], {});\n",
              "          if (!dataTable) return;\n",
              "\n",
              "          const docLinkHtml = 'Like what you see? Visit the ' +\n",
              "            '<a target=\"_blank\" href=https://colab.research.google.com/notebooks/data_table.ipynb>data table notebook</a>'\n",
              "            + ' to learn more about interactive tables.';\n",
              "          element.innerHTML = '';\n",
              "          dataTable['output_type'] = 'display_data';\n",
              "          await google.colab.output.renderOutput(dataTable, element);\n",
              "          const docLink = document.createElement('div');\n",
              "          docLink.innerHTML = docLinkHtml;\n",
              "          element.appendChild(docLink);\n",
              "        }\n",
              "      </script>\n",
              "    </div>\n",
              "  </div>\n",
              "  "
            ]
          },
          "metadata": {},
          "execution_count": 9
        }
      ]
    },
    {
      "cell_type": "code",
      "source": [
        "data.shape"
      ],
      "metadata": {
        "colab": {
          "base_uri": "https://localhost:8080/"
        },
        "id": "RInerOFLJo_t",
        "outputId": "87b76384-eb06-406a-e052-df95003cbf95"
      },
      "execution_count": 10,
      "outputs": [
        {
          "output_type": "execute_result",
          "data": {
            "text/plain": [
              "(226834, 2)"
            ]
          },
          "metadata": {},
          "execution_count": 10
        }
      ]
    },
    {
      "cell_type": "code",
      "source": [
        "data.reset_index(drop=True, inplace=True)\n",
        "data.tail()"
      ],
      "metadata": {
        "colab": {
          "base_uri": "https://localhost:8080/",
          "height": 204
        },
        "id": "LBm-QT5ZJ2-v",
        "outputId": "2dc8d856-d56b-44cf-ec92-5061ef698e12"
      },
      "execution_count": 11,
      "outputs": [
        {
          "output_type": "execute_result",
          "data": {
            "text/plain": [
              "                                                     text  label\n",
              "226829  Но не каждый хочет что то исправлять:( http://...      0\n",
              "226830  скучаю так :-( только @taaannyaaa вправляет мо...      0\n",
              "226831          Вот и в школу, в говно это идти уже надо(      0\n",
              "226832  RT @_Them__: @LisaBeroud Тауриэль, не грусти :...      0\n",
              "226833  Такси везет меня на работу. Раздумываю приплат...      0"
            ],
            "text/html": [
              "\n",
              "  <div id=\"df-43eb27ab-2f9c-4c7e-807f-6c2e44d03d52\">\n",
              "    <div class=\"colab-df-container\">\n",
              "      <div>\n",
              "<style scoped>\n",
              "    .dataframe tbody tr th:only-of-type {\n",
              "        vertical-align: middle;\n",
              "    }\n",
              "\n",
              "    .dataframe tbody tr th {\n",
              "        vertical-align: top;\n",
              "    }\n",
              "\n",
              "    .dataframe thead th {\n",
              "        text-align: right;\n",
              "    }\n",
              "</style>\n",
              "<table border=\"1\" class=\"dataframe\">\n",
              "  <thead>\n",
              "    <tr style=\"text-align: right;\">\n",
              "      <th></th>\n",
              "      <th>text</th>\n",
              "      <th>label</th>\n",
              "    </tr>\n",
              "  </thead>\n",
              "  <tbody>\n",
              "    <tr>\n",
              "      <th>226829</th>\n",
              "      <td>Но не каждый хочет что то исправлять:( http://...</td>\n",
              "      <td>0</td>\n",
              "    </tr>\n",
              "    <tr>\n",
              "      <th>226830</th>\n",
              "      <td>скучаю так :-( только @taaannyaaa вправляет мо...</td>\n",
              "      <td>0</td>\n",
              "    </tr>\n",
              "    <tr>\n",
              "      <th>226831</th>\n",
              "      <td>Вот и в школу, в говно это идти уже надо(</td>\n",
              "      <td>0</td>\n",
              "    </tr>\n",
              "    <tr>\n",
              "      <th>226832</th>\n",
              "      <td>RT @_Them__: @LisaBeroud Тауриэль, не грусти :...</td>\n",
              "      <td>0</td>\n",
              "    </tr>\n",
              "    <tr>\n",
              "      <th>226833</th>\n",
              "      <td>Такси везет меня на работу. Раздумываю приплат...</td>\n",
              "      <td>0</td>\n",
              "    </tr>\n",
              "  </tbody>\n",
              "</table>\n",
              "</div>\n",
              "      <button class=\"colab-df-convert\" onclick=\"convertToInteractive('df-43eb27ab-2f9c-4c7e-807f-6c2e44d03d52')\"\n",
              "              title=\"Convert this dataframe to an interactive table.\"\n",
              "              style=\"display:none;\">\n",
              "        \n",
              "  <svg xmlns=\"http://www.w3.org/2000/svg\" height=\"24px\"viewBox=\"0 0 24 24\"\n",
              "       width=\"24px\">\n",
              "    <path d=\"M0 0h24v24H0V0z\" fill=\"none\"/>\n",
              "    <path d=\"M18.56 5.44l.94 2.06.94-2.06 2.06-.94-2.06-.94-.94-2.06-.94 2.06-2.06.94zm-11 1L8.5 8.5l.94-2.06 2.06-.94-2.06-.94L8.5 2.5l-.94 2.06-2.06.94zm10 10l.94 2.06.94-2.06 2.06-.94-2.06-.94-.94-2.06-.94 2.06-2.06.94z\"/><path d=\"M17.41 7.96l-1.37-1.37c-.4-.4-.92-.59-1.43-.59-.52 0-1.04.2-1.43.59L10.3 9.45l-7.72 7.72c-.78.78-.78 2.05 0 2.83L4 21.41c.39.39.9.59 1.41.59.51 0 1.02-.2 1.41-.59l7.78-7.78 2.81-2.81c.8-.78.8-2.07 0-2.86zM5.41 20L4 18.59l7.72-7.72 1.47 1.35L5.41 20z\"/>\n",
              "  </svg>\n",
              "      </button>\n",
              "      \n",
              "  <style>\n",
              "    .colab-df-container {\n",
              "      display:flex;\n",
              "      flex-wrap:wrap;\n",
              "      gap: 12px;\n",
              "    }\n",
              "\n",
              "    .colab-df-convert {\n",
              "      background-color: #E8F0FE;\n",
              "      border: none;\n",
              "      border-radius: 50%;\n",
              "      cursor: pointer;\n",
              "      display: none;\n",
              "      fill: #1967D2;\n",
              "      height: 32px;\n",
              "      padding: 0 0 0 0;\n",
              "      width: 32px;\n",
              "    }\n",
              "\n",
              "    .colab-df-convert:hover {\n",
              "      background-color: #E2EBFA;\n",
              "      box-shadow: 0px 1px 2px rgba(60, 64, 67, 0.3), 0px 1px 3px 1px rgba(60, 64, 67, 0.15);\n",
              "      fill: #174EA6;\n",
              "    }\n",
              "\n",
              "    [theme=dark] .colab-df-convert {\n",
              "      background-color: #3B4455;\n",
              "      fill: #D2E3FC;\n",
              "    }\n",
              "\n",
              "    [theme=dark] .colab-df-convert:hover {\n",
              "      background-color: #434B5C;\n",
              "      box-shadow: 0px 1px 3px 1px rgba(0, 0, 0, 0.15);\n",
              "      filter: drop-shadow(0px 1px 2px rgba(0, 0, 0, 0.3));\n",
              "      fill: #FFFFFF;\n",
              "    }\n",
              "  </style>\n",
              "\n",
              "      <script>\n",
              "        const buttonEl =\n",
              "          document.querySelector('#df-43eb27ab-2f9c-4c7e-807f-6c2e44d03d52 button.colab-df-convert');\n",
              "        buttonEl.style.display =\n",
              "          google.colab.kernel.accessAllowed ? 'block' : 'none';\n",
              "\n",
              "        async function convertToInteractive(key) {\n",
              "          const element = document.querySelector('#df-43eb27ab-2f9c-4c7e-807f-6c2e44d03d52');\n",
              "          const dataTable =\n",
              "            await google.colab.kernel.invokeFunction('convertToInteractive',\n",
              "                                                     [key], {});\n",
              "          if (!dataTable) return;\n",
              "\n",
              "          const docLinkHtml = 'Like what you see? Visit the ' +\n",
              "            '<a target=\"_blank\" href=https://colab.research.google.com/notebooks/data_table.ipynb>data table notebook</a>'\n",
              "            + ' to learn more about interactive tables.';\n",
              "          element.innerHTML = '';\n",
              "          dataTable['output_type'] = 'display_data';\n",
              "          await google.colab.output.renderOutput(dataTable, element);\n",
              "          const docLink = document.createElement('div');\n",
              "          docLink.innerHTML = docLinkHtml;\n",
              "          element.appendChild(docLink);\n",
              "        }\n",
              "      </script>\n",
              "    </div>\n",
              "  </div>\n",
              "  "
            ]
          },
          "metadata": {},
          "execution_count": 11
        }
      ]
    },
    {
      "cell_type": "code",
      "source": [
        "pd.set_option('display.max_colwidth', None)"
      ],
      "metadata": {
        "id": "AwhrlcrsPPtX"
      },
      "execution_count": 12,
      "outputs": []
    },
    {
      "cell_type": "code",
      "source": [
        "data.sample(50)"
      ],
      "metadata": {
        "colab": {
          "base_uri": "https://localhost:8080/",
          "height": 1000
        },
        "id": "HpFs-VLTPRFz",
        "outputId": "88092500-d354-4f2b-b969-829eda8f9021"
      },
      "execution_count": 13,
      "outputs": [
        {
          "output_type": "execute_result",
          "data": {
            "text/plain": [
              "                                                                                                                             text  \\\n",
              "75101                                                                     Вот такой фасад школы получился) http://t.co/mo7RD4A4Wx   \n",
              "181084                                                                  Работать хорошо и без эпикфейлов? Не, не слышал. :( #котэ   \n",
              "134952                                                                           Проиграли 1:2 Ак Барсу :( Вот такая пятница 13..   \n",
              "208235                                                                            какой-то не здоровый #туман в городе!( #Барнаул   \n",
              "219287                                                                    давно я в пробке не стояла, на экзамен бы не опоздать:(   \n",
              "41418                                                       причём это на паре)))) ээто норма☺ #пара #конституционноеправо #учёба   \n",
              "55705                                                         RT @Eblya69: @ThomasPorn1 @Vika_Winchester эхэхэ это шедеврально :D   \n",
              "121632                                               Глупею на глазах :( Внутренние фильтры, ограничивающие глупость, отказывают.   \n",
              "31322                            Наивный соседи) думают что у меня звук , ударами по батарее убавляется))) http://t.co/8kiIsgrN5l   \n",
              "91416        RT @SamatIsaev: Думаю вне зависимости от возраста, каждый из нас ждёт чуда в новогоднюю ночь...заложено с детства)))   \n",
              "95314                                             ишь ты на хабре что то любопытное   типа как бынкоматы работают, ну частично :)   \n",
              "117352                               @allen_ylonen а мне не лень, у меня просто нет времени сесть и в удовольствие писать фики :(   \n",
              "121365                                                      Теперь диета:(Много чего нельзя в том числе, шоколад и мандарины  :((   \n",
              "216512                            @inga_killerpilz @Braffschein а то меня примета - покупаю билет рано - никуда нахер не попадаю(   \n",
              "205033                                                              Чем больше я узнаю людей,тем больше я начинаю любить собак(((   \n",
              "176793                         @Natasha_Tuz ахха,а у вас хто веде??\\nблін,мої 4 креслення сусід в тубусі загубив... ска-пдр!!! :(   \n",
              "151195                                                                         @yury_skripko Ото ж... :( ВСЕХ пережила - кроме...   \n",
              "31669                     @JulJulianapai Это неважно. Была бы подходящая компания.) Но если в магазин отправят меня - возьму ром.   \n",
              "124511                                                        @alexradchenko не хочу такую погоду до марта((( хочу осеннюю погоду   \n",
              "38834                              @Nekrasova_Ya а ну да, те кто работают на этом представлении, у них такие мысли согласен ;))))   \n",
              "45095                                                             Завтрашнее утро будет дико стрессовым... Уснуть бы еще сегодня)   \n",
              "20841                               @N_Malinaa АХАХАХАХА потому что это по ходу кадр со скрытой камеры, которая следит за дэли)))   \n",
              "90276                  @destielgreenday чуваак, не надо моих фоток :D зачем они тебе? К тому же у меня на телефоне их даже нет С:   \n",
              "96361                                                                 Disturbed —  The Infection Под это даже лучше работается :)   \n",
              "133676                                   @planca а у нас люди беднее. Малые потребительские кредиты теперь на жетоны будут брать(   \n",
              "204352                                                                       RT @iicaoea: @kseniastich у меня вообще не заходит:(   \n",
              "204148                               Я сейчас немного зла,спасибо девкам,что с собой позвали гулять,будто позвонить было трудно:(   \n",
              "152902                        @aleshinalera не очень норм ахах. У меня, конечно, иногда синяки оставались, но далекооо не такие;(   \n",
              "86784                                                      Кристина любииит меня и заботиться, на фитнес приглашает. Вот так вот)   \n",
              "87168                             RT @Alexandervolf: @Neringa285 А вот так уходили...Радует,что вернулись) http://t.co/u6ysvI9gOJ   \n",
              "22872                                                            не могу остановиться писать об этом дне, это просто МЕГА!!! =)))   \n",
              "122423                                                               ну и лфк(( элементарные движения, а толком сделать не могу((   \n",
              "164566                                                                                  @gorod095 @KSHN животных мучить - плохо!(   \n",
              "131673                                                                     Закончился любимый сериал(((((( http://t.co/q0xT4vH92Q   \n",
              "217040                                                                 @izkalizka @doublevit где Жасмин и Алладдин???  Не вижу =(   \n",
              "60984                                                      Ха, влез на форум   новый утюг под linux уже собран. =) Будем тестить.   \n",
              "85730                                                                  Ананидзе поругалась с подругой\\nА я над ней угораю сижу:DD   \n",
              "144309  Что может быть с компом если он после нажатия кнопки включения включается на секунду и тут-же выключается? ( мат-плата Zo   \n",
              "40862                                                                @mashavsl ну как можно было устоять перед таким юзерпиком :)   \n",
              "68902                                                     Не понимаю: как девчонки могут лайкать девчонок? Это же не по-девчачьи)   \n",
              "128941                                                                             Не думал, что настолько сильно ненавижу дожди(   \n",
              "50470                                                         @flerforsyte ответ очевиден - усидеть на двух стульях, как всегда.)   \n",
              "93312                   \"@zenit_spb: ГОООООООООЛ! АЛЕКСААААНДРРР КЕРРРЖАКООООВ! 0:1! #АустрияЗенит\"Кержаков!!!!!Я верила в это)))   \n",
              "150225                                                     мне опять всё лениво, я проспала 12 часов, а всё равно не выспалась :(   \n",
              "169299                                                                           @rediceberg не смотря на DOC, гамно редкостное((   \n",
              "16533                                                  Все прошло замечательно =) я с новинками)) makeup48 http://t.co/4GxEqE0sn4   \n",
              "56111                                                         а в 14 лет уже считается ПАРНЕМ? по моему еще совсем мальчик)))))))   \n",
              "160195   @Ester_swan @YoDindi да, да, да! Это была одна из немногих песен Джексона, которая мне нравится, и он ее так испортил :(   \n",
              "192438                                                                         Саш не стоит(((( #webcamtoy http://t.co/t44qCJnrux   \n",
              "115912                                                                @viktoria_sohan да один человек говорил позвонит, и тишина(   \n",
              "\n",
              "        label  \n",
              "75101       1  \n",
              "181084      0  \n",
              "134952      0  \n",
              "208235      0  \n",
              "219287      0  \n",
              "41418       1  \n",
              "55705       1  \n",
              "121632      0  \n",
              "31322       1  \n",
              "91416       1  \n",
              "95314       1  \n",
              "117352      0  \n",
              "121365      0  \n",
              "216512      0  \n",
              "205033      0  \n",
              "176793      0  \n",
              "151195      0  \n",
              "31669       1  \n",
              "124511      0  \n",
              "38834       1  \n",
              "45095       1  \n",
              "20841       1  \n",
              "90276       1  \n",
              "96361       1  \n",
              "133676      0  \n",
              "204352      0  \n",
              "204148      0  \n",
              "152902      0  \n",
              "86784       1  \n",
              "87168       1  \n",
              "22872       1  \n",
              "122423      0  \n",
              "164566      0  \n",
              "131673      0  \n",
              "217040      0  \n",
              "60984       1  \n",
              "85730       1  \n",
              "144309      0  \n",
              "40862       1  \n",
              "68902       1  \n",
              "128941      0  \n",
              "50470       1  \n",
              "93312       1  \n",
              "150225      0  \n",
              "169299      0  \n",
              "16533       1  \n",
              "56111       1  \n",
              "160195      0  \n",
              "192438      0  \n",
              "115912      0  "
            ],
            "text/html": [
              "\n",
              "  <div id=\"df-b43b717e-23d3-492c-87cd-ebb44265ff70\">\n",
              "    <div class=\"colab-df-container\">\n",
              "      <div>\n",
              "<style scoped>\n",
              "    .dataframe tbody tr th:only-of-type {\n",
              "        vertical-align: middle;\n",
              "    }\n",
              "\n",
              "    .dataframe tbody tr th {\n",
              "        vertical-align: top;\n",
              "    }\n",
              "\n",
              "    .dataframe thead th {\n",
              "        text-align: right;\n",
              "    }\n",
              "</style>\n",
              "<table border=\"1\" class=\"dataframe\">\n",
              "  <thead>\n",
              "    <tr style=\"text-align: right;\">\n",
              "      <th></th>\n",
              "      <th>text</th>\n",
              "      <th>label</th>\n",
              "    </tr>\n",
              "  </thead>\n",
              "  <tbody>\n",
              "    <tr>\n",
              "      <th>75101</th>\n",
              "      <td>Вот такой фасад школы получился) http://t.co/mo7RD4A4Wx</td>\n",
              "      <td>1</td>\n",
              "    </tr>\n",
              "    <tr>\n",
              "      <th>181084</th>\n",
              "      <td>Работать хорошо и без эпикфейлов? Не, не слышал. :( #котэ</td>\n",
              "      <td>0</td>\n",
              "    </tr>\n",
              "    <tr>\n",
              "      <th>134952</th>\n",
              "      <td>Проиграли 1:2 Ак Барсу :( Вот такая пятница 13..</td>\n",
              "      <td>0</td>\n",
              "    </tr>\n",
              "    <tr>\n",
              "      <th>208235</th>\n",
              "      <td>какой-то не здоровый #туман в городе!( #Барнаул</td>\n",
              "      <td>0</td>\n",
              "    </tr>\n",
              "    <tr>\n",
              "      <th>219287</th>\n",
              "      <td>давно я в пробке не стояла, на экзамен бы не опоздать:(</td>\n",
              "      <td>0</td>\n",
              "    </tr>\n",
              "    <tr>\n",
              "      <th>41418</th>\n",
              "      <td>причём это на паре)))) ээто норма☺ #пара #конституционноеправо #учёба</td>\n",
              "      <td>1</td>\n",
              "    </tr>\n",
              "    <tr>\n",
              "      <th>55705</th>\n",
              "      <td>RT @Eblya69: @ThomasPorn1 @Vika_Winchester эхэхэ это шедеврально :D</td>\n",
              "      <td>1</td>\n",
              "    </tr>\n",
              "    <tr>\n",
              "      <th>121632</th>\n",
              "      <td>Глупею на глазах :( Внутренние фильтры, ограничивающие глупость, отказывают.</td>\n",
              "      <td>0</td>\n",
              "    </tr>\n",
              "    <tr>\n",
              "      <th>31322</th>\n",
              "      <td>Наивный соседи) думают что у меня звук , ударами по батарее убавляется))) http://t.co/8kiIsgrN5l</td>\n",
              "      <td>1</td>\n",
              "    </tr>\n",
              "    <tr>\n",
              "      <th>91416</th>\n",
              "      <td>RT @SamatIsaev: Думаю вне зависимости от возраста, каждый из нас ждёт чуда в новогоднюю ночь...заложено с детства)))</td>\n",
              "      <td>1</td>\n",
              "    </tr>\n",
              "    <tr>\n",
              "      <th>95314</th>\n",
              "      <td>ишь ты на хабре что то любопытное   типа как бынкоматы работают, ну частично :)</td>\n",
              "      <td>1</td>\n",
              "    </tr>\n",
              "    <tr>\n",
              "      <th>117352</th>\n",
              "      <td>@allen_ylonen а мне не лень, у меня просто нет времени сесть и в удовольствие писать фики :(</td>\n",
              "      <td>0</td>\n",
              "    </tr>\n",
              "    <tr>\n",
              "      <th>121365</th>\n",
              "      <td>Теперь диета:(Много чего нельзя в том числе, шоколад и мандарины  :((</td>\n",
              "      <td>0</td>\n",
              "    </tr>\n",
              "    <tr>\n",
              "      <th>216512</th>\n",
              "      <td>@inga_killerpilz @Braffschein а то меня примета - покупаю билет рано - никуда нахер не попадаю(</td>\n",
              "      <td>0</td>\n",
              "    </tr>\n",
              "    <tr>\n",
              "      <th>205033</th>\n",
              "      <td>Чем больше я узнаю людей,тем больше я начинаю любить собак(((</td>\n",
              "      <td>0</td>\n",
              "    </tr>\n",
              "    <tr>\n",
              "      <th>176793</th>\n",
              "      <td>@Natasha_Tuz ахха,а у вас хто веде??\\nблін,мої 4 креслення сусід в тубусі загубив... ска-пдр!!! :(</td>\n",
              "      <td>0</td>\n",
              "    </tr>\n",
              "    <tr>\n",
              "      <th>151195</th>\n",
              "      <td>@yury_skripko Ото ж... :( ВСЕХ пережила - кроме...</td>\n",
              "      <td>0</td>\n",
              "    </tr>\n",
              "    <tr>\n",
              "      <th>31669</th>\n",
              "      <td>@JulJulianapai Это неважно. Была бы подходящая компания.) Но если в магазин отправят меня - возьму ром.</td>\n",
              "      <td>1</td>\n",
              "    </tr>\n",
              "    <tr>\n",
              "      <th>124511</th>\n",
              "      <td>@alexradchenko не хочу такую погоду до марта((( хочу осеннюю погоду</td>\n",
              "      <td>0</td>\n",
              "    </tr>\n",
              "    <tr>\n",
              "      <th>38834</th>\n",
              "      <td>@Nekrasova_Ya а ну да, те кто работают на этом представлении, у них такие мысли согласен ;))))</td>\n",
              "      <td>1</td>\n",
              "    </tr>\n",
              "    <tr>\n",
              "      <th>45095</th>\n",
              "      <td>Завтрашнее утро будет дико стрессовым... Уснуть бы еще сегодня)</td>\n",
              "      <td>1</td>\n",
              "    </tr>\n",
              "    <tr>\n",
              "      <th>20841</th>\n",
              "      <td>@N_Malinaa АХАХАХАХА потому что это по ходу кадр со скрытой камеры, которая следит за дэли)))</td>\n",
              "      <td>1</td>\n",
              "    </tr>\n",
              "    <tr>\n",
              "      <th>90276</th>\n",
              "      <td>@destielgreenday чуваак, не надо моих фоток :D зачем они тебе? К тому же у меня на телефоне их даже нет С:</td>\n",
              "      <td>1</td>\n",
              "    </tr>\n",
              "    <tr>\n",
              "      <th>96361</th>\n",
              "      <td>Disturbed —  The Infection Под это даже лучше работается :)</td>\n",
              "      <td>1</td>\n",
              "    </tr>\n",
              "    <tr>\n",
              "      <th>133676</th>\n",
              "      <td>@planca а у нас люди беднее. Малые потребительские кредиты теперь на жетоны будут брать(</td>\n",
              "      <td>0</td>\n",
              "    </tr>\n",
              "    <tr>\n",
              "      <th>204352</th>\n",
              "      <td>RT @iicaoea: @kseniastich у меня вообще не заходит:(</td>\n",
              "      <td>0</td>\n",
              "    </tr>\n",
              "    <tr>\n",
              "      <th>204148</th>\n",
              "      <td>Я сейчас немного зла,спасибо девкам,что с собой позвали гулять,будто позвонить было трудно:(</td>\n",
              "      <td>0</td>\n",
              "    </tr>\n",
              "    <tr>\n",
              "      <th>152902</th>\n",
              "      <td>@aleshinalera не очень норм ахах. У меня, конечно, иногда синяки оставались, но далекооо не такие;(</td>\n",
              "      <td>0</td>\n",
              "    </tr>\n",
              "    <tr>\n",
              "      <th>86784</th>\n",
              "      <td>Кристина любииит меня и заботиться, на фитнес приглашает. Вот так вот)</td>\n",
              "      <td>1</td>\n",
              "    </tr>\n",
              "    <tr>\n",
              "      <th>87168</th>\n",
              "      <td>RT @Alexandervolf: @Neringa285 А вот так уходили...Радует,что вернулись) http://t.co/u6ysvI9gOJ</td>\n",
              "      <td>1</td>\n",
              "    </tr>\n",
              "    <tr>\n",
              "      <th>22872</th>\n",
              "      <td>не могу остановиться писать об этом дне, это просто МЕГА!!! =)))</td>\n",
              "      <td>1</td>\n",
              "    </tr>\n",
              "    <tr>\n",
              "      <th>122423</th>\n",
              "      <td>ну и лфк(( элементарные движения, а толком сделать не могу((</td>\n",
              "      <td>0</td>\n",
              "    </tr>\n",
              "    <tr>\n",
              "      <th>164566</th>\n",
              "      <td>@gorod095 @KSHN животных мучить - плохо!(</td>\n",
              "      <td>0</td>\n",
              "    </tr>\n",
              "    <tr>\n",
              "      <th>131673</th>\n",
              "      <td>Закончился любимый сериал(((((( http://t.co/q0xT4vH92Q</td>\n",
              "      <td>0</td>\n",
              "    </tr>\n",
              "    <tr>\n",
              "      <th>217040</th>\n",
              "      <td>@izkalizka @doublevit где Жасмин и Алладдин???  Не вижу =(</td>\n",
              "      <td>0</td>\n",
              "    </tr>\n",
              "    <tr>\n",
              "      <th>60984</th>\n",
              "      <td>Ха, влез на форум   новый утюг под linux уже собран. =) Будем тестить.</td>\n",
              "      <td>1</td>\n",
              "    </tr>\n",
              "    <tr>\n",
              "      <th>85730</th>\n",
              "      <td>Ананидзе поругалась с подругой\\nА я над ней угораю сижу:DD</td>\n",
              "      <td>1</td>\n",
              "    </tr>\n",
              "    <tr>\n",
              "      <th>144309</th>\n",
              "      <td>Что может быть с компом если он после нажатия кнопки включения включается на секунду и тут-же выключается? ( мат-плата Zo</td>\n",
              "      <td>0</td>\n",
              "    </tr>\n",
              "    <tr>\n",
              "      <th>40862</th>\n",
              "      <td>@mashavsl ну как можно было устоять перед таким юзерпиком :)</td>\n",
              "      <td>1</td>\n",
              "    </tr>\n",
              "    <tr>\n",
              "      <th>68902</th>\n",
              "      <td>Не понимаю: как девчонки могут лайкать девчонок? Это же не по-девчачьи)</td>\n",
              "      <td>1</td>\n",
              "    </tr>\n",
              "    <tr>\n",
              "      <th>128941</th>\n",
              "      <td>Не думал, что настолько сильно ненавижу дожди(</td>\n",
              "      <td>0</td>\n",
              "    </tr>\n",
              "    <tr>\n",
              "      <th>50470</th>\n",
              "      <td>@flerforsyte ответ очевиден - усидеть на двух стульях, как всегда.)</td>\n",
              "      <td>1</td>\n",
              "    </tr>\n",
              "    <tr>\n",
              "      <th>93312</th>\n",
              "      <td>\"@zenit_spb: ГОООООООООЛ! АЛЕКСААААНДРРР КЕРРРЖАКООООВ! 0:1! #АустрияЗенит\"Кержаков!!!!!Я верила в это)))</td>\n",
              "      <td>1</td>\n",
              "    </tr>\n",
              "    <tr>\n",
              "      <th>150225</th>\n",
              "      <td>мне опять всё лениво, я проспала 12 часов, а всё равно не выспалась :(</td>\n",
              "      <td>0</td>\n",
              "    </tr>\n",
              "    <tr>\n",
              "      <th>169299</th>\n",
              "      <td>@rediceberg не смотря на DOC, гамно редкостное((</td>\n",
              "      <td>0</td>\n",
              "    </tr>\n",
              "    <tr>\n",
              "      <th>16533</th>\n",
              "      <td>Все прошло замечательно =) я с новинками)) makeup48 http://t.co/4GxEqE0sn4</td>\n",
              "      <td>1</td>\n",
              "    </tr>\n",
              "    <tr>\n",
              "      <th>56111</th>\n",
              "      <td>а в 14 лет уже считается ПАРНЕМ? по моему еще совсем мальчик)))))))</td>\n",
              "      <td>1</td>\n",
              "    </tr>\n",
              "    <tr>\n",
              "      <th>160195</th>\n",
              "      <td>@Ester_swan @YoDindi да, да, да! Это была одна из немногих песен Джексона, которая мне нравится, и он ее так испортил :(</td>\n",
              "      <td>0</td>\n",
              "    </tr>\n",
              "    <tr>\n",
              "      <th>192438</th>\n",
              "      <td>Саш не стоит(((( #webcamtoy http://t.co/t44qCJnrux</td>\n",
              "      <td>0</td>\n",
              "    </tr>\n",
              "    <tr>\n",
              "      <th>115912</th>\n",
              "      <td>@viktoria_sohan да один человек говорил позвонит, и тишина(</td>\n",
              "      <td>0</td>\n",
              "    </tr>\n",
              "  </tbody>\n",
              "</table>\n",
              "</div>\n",
              "      <button class=\"colab-df-convert\" onclick=\"convertToInteractive('df-b43b717e-23d3-492c-87cd-ebb44265ff70')\"\n",
              "              title=\"Convert this dataframe to an interactive table.\"\n",
              "              style=\"display:none;\">\n",
              "        \n",
              "  <svg xmlns=\"http://www.w3.org/2000/svg\" height=\"24px\"viewBox=\"0 0 24 24\"\n",
              "       width=\"24px\">\n",
              "    <path d=\"M0 0h24v24H0V0z\" fill=\"none\"/>\n",
              "    <path d=\"M18.56 5.44l.94 2.06.94-2.06 2.06-.94-2.06-.94-.94-2.06-.94 2.06-2.06.94zm-11 1L8.5 8.5l.94-2.06 2.06-.94-2.06-.94L8.5 2.5l-.94 2.06-2.06.94zm10 10l.94 2.06.94-2.06 2.06-.94-2.06-.94-.94-2.06-.94 2.06-2.06.94z\"/><path d=\"M17.41 7.96l-1.37-1.37c-.4-.4-.92-.59-1.43-.59-.52 0-1.04.2-1.43.59L10.3 9.45l-7.72 7.72c-.78.78-.78 2.05 0 2.83L4 21.41c.39.39.9.59 1.41.59.51 0 1.02-.2 1.41-.59l7.78-7.78 2.81-2.81c.8-.78.8-2.07 0-2.86zM5.41 20L4 18.59l7.72-7.72 1.47 1.35L5.41 20z\"/>\n",
              "  </svg>\n",
              "      </button>\n",
              "      \n",
              "  <style>\n",
              "    .colab-df-container {\n",
              "      display:flex;\n",
              "      flex-wrap:wrap;\n",
              "      gap: 12px;\n",
              "    }\n",
              "\n",
              "    .colab-df-convert {\n",
              "      background-color: #E8F0FE;\n",
              "      border: none;\n",
              "      border-radius: 50%;\n",
              "      cursor: pointer;\n",
              "      display: none;\n",
              "      fill: #1967D2;\n",
              "      height: 32px;\n",
              "      padding: 0 0 0 0;\n",
              "      width: 32px;\n",
              "    }\n",
              "\n",
              "    .colab-df-convert:hover {\n",
              "      background-color: #E2EBFA;\n",
              "      box-shadow: 0px 1px 2px rgba(60, 64, 67, 0.3), 0px 1px 3px 1px rgba(60, 64, 67, 0.15);\n",
              "      fill: #174EA6;\n",
              "    }\n",
              "\n",
              "    [theme=dark] .colab-df-convert {\n",
              "      background-color: #3B4455;\n",
              "      fill: #D2E3FC;\n",
              "    }\n",
              "\n",
              "    [theme=dark] .colab-df-convert:hover {\n",
              "      background-color: #434B5C;\n",
              "      box-shadow: 0px 1px 3px 1px rgba(0, 0, 0, 0.15);\n",
              "      filter: drop-shadow(0px 1px 2px rgba(0, 0, 0, 0.3));\n",
              "      fill: #FFFFFF;\n",
              "    }\n",
              "  </style>\n",
              "\n",
              "      <script>\n",
              "        const buttonEl =\n",
              "          document.querySelector('#df-b43b717e-23d3-492c-87cd-ebb44265ff70 button.colab-df-convert');\n",
              "        buttonEl.style.display =\n",
              "          google.colab.kernel.accessAllowed ? 'block' : 'none';\n",
              "\n",
              "        async function convertToInteractive(key) {\n",
              "          const element = document.querySelector('#df-b43b717e-23d3-492c-87cd-ebb44265ff70');\n",
              "          const dataTable =\n",
              "            await google.colab.kernel.invokeFunction('convertToInteractive',\n",
              "                                                     [key], {});\n",
              "          if (!dataTable) return;\n",
              "\n",
              "          const docLinkHtml = 'Like what you see? Visit the ' +\n",
              "            '<a target=\"_blank\" href=https://colab.research.google.com/notebooks/data_table.ipynb>data table notebook</a>'\n",
              "            + ' to learn more about interactive tables.';\n",
              "          element.innerHTML = '';\n",
              "          dataTable['output_type'] = 'display_data';\n",
              "          await google.colab.output.renderOutput(dataTable, element);\n",
              "          const docLink = document.createElement('div');\n",
              "          docLink.innerHTML = docLinkHtml;\n",
              "          element.appendChild(docLink);\n",
              "        }\n",
              "      </script>\n",
              "    </div>\n",
              "  </div>\n",
              "  "
            ]
          },
          "metadata": {},
          "execution_count": 13
        }
      ]
    },
    {
      "cell_type": "code",
      "source": [
        "def preprocess(text):\n",
        "  text = re.sub('https?:\\S+', ' ', text) # убрать urls\n",
        "  text = re.sub('@\\S+', ' ', text) # убрать никнеймы\n",
        "  text = TweetTokenizer().tokenize(text)\n",
        "  return text"
      ],
      "metadata": {
        "id": "MSaGxvg6L0dl"
      },
      "execution_count": 14,
      "outputs": []
    },
    {
      "cell_type": "code",
      "source": [
        "data['text'] = data['text'].apply(preprocess)\n",
        "data.sample(10)"
      ],
      "metadata": {
        "colab": {
          "base_uri": "https://localhost:8080/",
          "height": 437
        },
        "id": "T9Xce0IXVTRy",
        "outputId": "d7f6d930-f7b6-469a-f6fe-473c10dfd9ae"
      },
      "execution_count": 15,
      "outputs": [
        {
          "output_type": "execute_result",
          "data": {
            "text/plain": [
              "                                                                                                                                                                    text  \\\n",
              "22975                                                                                    [Данюш, у, меня, завтра, днюха, .., добавишь, хоть, ?, ), пожалууйста, ), ), )]   \n",
              "69297                                   [RT, Странно, -, с, ходу, вспоминаю, еще, двух, Миш-девочек, ., А, как, у, них, полное, имя, ?, Михаила, ?, ), ), Мишанна, ?, )]   \n",
              "24615                                                                            [все, ,, теперь, я, могу, смело, сказать, :, \", Я, свободен, !, \", ..., или, спеть, :)]   \n",
              "85558                                                                                        [ахах, :), ), ох, да, ,, ну, у, мальчиков, зато, нет, такой, логики, :), )]   \n",
              "137934                 [Два, сеошника, общаются, по, скайпу, ,, один, другому, :, -, Сижу, злой, и, голодный, ,, микроволновка, сломалась, (, (, (, -, И, что, пишет, ?]   \n",
              "224435                                                                                                                    [:(, А, ВСЁ, ЭТА, ЧЕРТОВА, Ш, К, О, Л, А, ЫЫЫ]   \n",
              "131183                                             [первым, не, выдержал, Вася, Шандыбин, ;(, (, (, где, Вася, ?, (, (, (, нету, Васи, (, (, (, убили, Василия, (, (, (]   \n",
              "122957                                                                                                    [День, тупой, !, нет, настроение, и, по, здоровью, хреного, (]   \n",
              "215003                                  [я, идиот, последний, иду, же, ., От, волнения, всю, очередь, прлпустила, ., Скоро, пойду, :(, там, говорят, не, реально, сдать]   \n",
              "159442  [Освободив, МБХ, он, тут, же, посадил, на, 3, года, эколога, за, надпись, на, заборе, Ткачева, и, доклад, об, олимп, ., нарушениях, ., Балланс, восстановлен, (]   \n",
              "\n",
              "        label  \n",
              "22975       1  \n",
              "69297       1  \n",
              "24615       1  \n",
              "85558       1  \n",
              "137934      0  \n",
              "224435      0  \n",
              "131183      0  \n",
              "122957      0  \n",
              "215003      0  \n",
              "159442      0  "
            ],
            "text/html": [
              "\n",
              "  <div id=\"df-55ff8627-6edd-4e96-bdcb-47a92b6904f0\">\n",
              "    <div class=\"colab-df-container\">\n",
              "      <div>\n",
              "<style scoped>\n",
              "    .dataframe tbody tr th:only-of-type {\n",
              "        vertical-align: middle;\n",
              "    }\n",
              "\n",
              "    .dataframe tbody tr th {\n",
              "        vertical-align: top;\n",
              "    }\n",
              "\n",
              "    .dataframe thead th {\n",
              "        text-align: right;\n",
              "    }\n",
              "</style>\n",
              "<table border=\"1\" class=\"dataframe\">\n",
              "  <thead>\n",
              "    <tr style=\"text-align: right;\">\n",
              "      <th></th>\n",
              "      <th>text</th>\n",
              "      <th>label</th>\n",
              "    </tr>\n",
              "  </thead>\n",
              "  <tbody>\n",
              "    <tr>\n",
              "      <th>22975</th>\n",
              "      <td>[Данюш, у, меня, завтра, днюха, .., добавишь, хоть, ?, ), пожалууйста, ), ), )]</td>\n",
              "      <td>1</td>\n",
              "    </tr>\n",
              "    <tr>\n",
              "      <th>69297</th>\n",
              "      <td>[RT, Странно, -, с, ходу, вспоминаю, еще, двух, Миш-девочек, ., А, как, у, них, полное, имя, ?, Михаила, ?, ), ), Мишанна, ?, )]</td>\n",
              "      <td>1</td>\n",
              "    </tr>\n",
              "    <tr>\n",
              "      <th>24615</th>\n",
              "      <td>[все, ,, теперь, я, могу, смело, сказать, :, \", Я, свободен, !, \", ..., или, спеть, :)]</td>\n",
              "      <td>1</td>\n",
              "    </tr>\n",
              "    <tr>\n",
              "      <th>85558</th>\n",
              "      <td>[ахах, :), ), ох, да, ,, ну, у, мальчиков, зато, нет, такой, логики, :), )]</td>\n",
              "      <td>1</td>\n",
              "    </tr>\n",
              "    <tr>\n",
              "      <th>137934</th>\n",
              "      <td>[Два, сеошника, общаются, по, скайпу, ,, один, другому, :, -, Сижу, злой, и, голодный, ,, микроволновка, сломалась, (, (, (, -, И, что, пишет, ?]</td>\n",
              "      <td>0</td>\n",
              "    </tr>\n",
              "    <tr>\n",
              "      <th>224435</th>\n",
              "      <td>[:(, А, ВСЁ, ЭТА, ЧЕРТОВА, Ш, К, О, Л, А, ЫЫЫ]</td>\n",
              "      <td>0</td>\n",
              "    </tr>\n",
              "    <tr>\n",
              "      <th>131183</th>\n",
              "      <td>[первым, не, выдержал, Вася, Шандыбин, ;(, (, (, где, Вася, ?, (, (, (, нету, Васи, (, (, (, убили, Василия, (, (, (]</td>\n",
              "      <td>0</td>\n",
              "    </tr>\n",
              "    <tr>\n",
              "      <th>122957</th>\n",
              "      <td>[День, тупой, !, нет, настроение, и, по, здоровью, хреного, (]</td>\n",
              "      <td>0</td>\n",
              "    </tr>\n",
              "    <tr>\n",
              "      <th>215003</th>\n",
              "      <td>[я, идиот, последний, иду, же, ., От, волнения, всю, очередь, прлпустила, ., Скоро, пойду, :(, там, говорят, не, реально, сдать]</td>\n",
              "      <td>0</td>\n",
              "    </tr>\n",
              "    <tr>\n",
              "      <th>159442</th>\n",
              "      <td>[Освободив, МБХ, он, тут, же, посадил, на, 3, года, эколога, за, надпись, на, заборе, Ткачева, и, доклад, об, олимп, ., нарушениях, ., Балланс, восстановлен, (]</td>\n",
              "      <td>0</td>\n",
              "    </tr>\n",
              "  </tbody>\n",
              "</table>\n",
              "</div>\n",
              "      <button class=\"colab-df-convert\" onclick=\"convertToInteractive('df-55ff8627-6edd-4e96-bdcb-47a92b6904f0')\"\n",
              "              title=\"Convert this dataframe to an interactive table.\"\n",
              "              style=\"display:none;\">\n",
              "        \n",
              "  <svg xmlns=\"http://www.w3.org/2000/svg\" height=\"24px\"viewBox=\"0 0 24 24\"\n",
              "       width=\"24px\">\n",
              "    <path d=\"M0 0h24v24H0V0z\" fill=\"none\"/>\n",
              "    <path d=\"M18.56 5.44l.94 2.06.94-2.06 2.06-.94-2.06-.94-.94-2.06-.94 2.06-2.06.94zm-11 1L8.5 8.5l.94-2.06 2.06-.94-2.06-.94L8.5 2.5l-.94 2.06-2.06.94zm10 10l.94 2.06.94-2.06 2.06-.94-2.06-.94-.94-2.06-.94 2.06-2.06.94z\"/><path d=\"M17.41 7.96l-1.37-1.37c-.4-.4-.92-.59-1.43-.59-.52 0-1.04.2-1.43.59L10.3 9.45l-7.72 7.72c-.78.78-.78 2.05 0 2.83L4 21.41c.39.39.9.59 1.41.59.51 0 1.02-.2 1.41-.59l7.78-7.78 2.81-2.81c.8-.78.8-2.07 0-2.86zM5.41 20L4 18.59l7.72-7.72 1.47 1.35L5.41 20z\"/>\n",
              "  </svg>\n",
              "      </button>\n",
              "      \n",
              "  <style>\n",
              "    .colab-df-container {\n",
              "      display:flex;\n",
              "      flex-wrap:wrap;\n",
              "      gap: 12px;\n",
              "    }\n",
              "\n",
              "    .colab-df-convert {\n",
              "      background-color: #E8F0FE;\n",
              "      border: none;\n",
              "      border-radius: 50%;\n",
              "      cursor: pointer;\n",
              "      display: none;\n",
              "      fill: #1967D2;\n",
              "      height: 32px;\n",
              "      padding: 0 0 0 0;\n",
              "      width: 32px;\n",
              "    }\n",
              "\n",
              "    .colab-df-convert:hover {\n",
              "      background-color: #E2EBFA;\n",
              "      box-shadow: 0px 1px 2px rgba(60, 64, 67, 0.3), 0px 1px 3px 1px rgba(60, 64, 67, 0.15);\n",
              "      fill: #174EA6;\n",
              "    }\n",
              "\n",
              "    [theme=dark] .colab-df-convert {\n",
              "      background-color: #3B4455;\n",
              "      fill: #D2E3FC;\n",
              "    }\n",
              "\n",
              "    [theme=dark] .colab-df-convert:hover {\n",
              "      background-color: #434B5C;\n",
              "      box-shadow: 0px 1px 3px 1px rgba(0, 0, 0, 0.15);\n",
              "      filter: drop-shadow(0px 1px 2px rgba(0, 0, 0, 0.3));\n",
              "      fill: #FFFFFF;\n",
              "    }\n",
              "  </style>\n",
              "\n",
              "      <script>\n",
              "        const buttonEl =\n",
              "          document.querySelector('#df-55ff8627-6edd-4e96-bdcb-47a92b6904f0 button.colab-df-convert');\n",
              "        buttonEl.style.display =\n",
              "          google.colab.kernel.accessAllowed ? 'block' : 'none';\n",
              "\n",
              "        async function convertToInteractive(key) {\n",
              "          const element = document.querySelector('#df-55ff8627-6edd-4e96-bdcb-47a92b6904f0');\n",
              "          const dataTable =\n",
              "            await google.colab.kernel.invokeFunction('convertToInteractive',\n",
              "                                                     [key], {});\n",
              "          if (!dataTable) return;\n",
              "\n",
              "          const docLinkHtml = 'Like what you see? Visit the ' +\n",
              "            '<a target=\"_blank\" href=https://colab.research.google.com/notebooks/data_table.ipynb>data table notebook</a>'\n",
              "            + ' to learn more about interactive tables.';\n",
              "          element.innerHTML = '';\n",
              "          dataTable['output_type'] = 'display_data';\n",
              "          await google.colab.output.renderOutput(dataTable, element);\n",
              "          const docLink = document.createElement('div');\n",
              "          docLink.innerHTML = docLinkHtml;\n",
              "          element.appendChild(docLink);\n",
              "        }\n",
              "      </script>\n",
              "    </div>\n",
              "  </div>\n",
              "  "
            ]
          },
          "metadata": {},
          "execution_count": 15
        }
      ]
    },
    {
      "cell_type": "code",
      "source": [
        "train_data, notrain_data = train_test_split(data, test_size=0.2)\n",
        "val_data, test_data = train_test_split(data, test_size=0.5)\n",
        "print(train_data.shape, val_data.shape, test_data.shape)"
      ],
      "metadata": {
        "colab": {
          "base_uri": "https://localhost:8080/"
        },
        "id": "AP7h8acbJ91Z",
        "outputId": "129c672b-51b3-4904-ca8a-47bc9eae4123"
      },
      "execution_count": 16,
      "outputs": [
        {
          "output_type": "stream",
          "name": "stdout",
          "text": [
            "(181467, 2) (113417, 2) (113417, 2)\n"
          ]
        }
      ]
    },
    {
      "cell_type": "code",
      "source": [
        "print(train_data['label'].value_counts())\n",
        "print(val_data['label'].value_counts())\n",
        "print(test_data['label'].value_counts())"
      ],
      "metadata": {
        "colab": {
          "base_uri": "https://localhost:8080/"
        },
        "id": "BSu47fiWKyfl",
        "outputId": "75058063-d6e9-4e1a-8637-4c915383b3fd"
      },
      "execution_count": 17,
      "outputs": [
        {
          "output_type": "stream",
          "name": "stdout",
          "text": [
            "1    91786\n",
            "0    89681\n",
            "Name: label, dtype: int64\n",
            "1    57585\n",
            "0    55832\n",
            "Name: label, dtype: int64\n",
            "1    57326\n",
            "0    56091\n",
            "Name: label, dtype: int64\n"
          ]
        }
      ]
    },
    {
      "cell_type": "code",
      "source": [
        "train_data.sample(10)"
      ],
      "metadata": {
        "colab": {
          "base_uri": "https://localhost:8080/",
          "height": 359
        },
        "id": "nEdho4JNRALK",
        "outputId": "ee5d5d9c-8624-4fe9-a116-285a7ce3b8b2"
      },
      "execution_count": 18,
      "outputs": [
        {
          "output_type": "execute_result",
          "data": {
            "text/plain": [
              "                                                                                                                                 text  \\\n",
              "210195                                                                      [Еле, проснулся, ,, а, обещал, себе, встать, в, 9, ., :(]   \n",
              "59736         [ага, ,, я, про, твиттер, ), однако, количество, откликов, тесно, коррелирует, с, ответами, на, предыдущие, отклики, )]   \n",
              "54727                                                                                 [пора, начинать, ,, уже, взрослая, девочка, :)]   \n",
              "1568                        [gozunuz, aydinnnn, ), ), ), Баку, вошел, в, список, самых, дорогих, городов, мира, –, ФОТО, -, 1NEWS.AZ]   \n",
              "161345                            [бля, ,, я, пожалела, брата, и, пошла, с, ним, искать, карточку, и, наша, (, (, (, кина, не, будет]   \n",
              "104672  [А, то, если, честно, впечатлило, моё, нежданное, знакомство, ), Так, впечатлило, ,, что, не, знаю, даже, что, и, сказать, )]   \n",
              "37630                                                 [что, достается, в, айтишной, семье, после, койки, ?, правильно, ,, сервер, :)]   \n",
              "152051                                                                         [каждый, день, добиваю, ,, ему, не, нравится, это, :(]   \n",
              "175655                                                                               [спорт, еще, сложнее, ,, чем, меньше, жрать, :(]   \n",
              "115048                             [Мало, того, что, я, потеряла, из-за, него, сережки, ,, он, их, так, и, не, нашел, !, !, !, :(, (]   \n",
              "\n",
              "        label  \n",
              "210195      0  \n",
              "59736       1  \n",
              "54727       1  \n",
              "1568        1  \n",
              "161345      0  \n",
              "104672      1  \n",
              "37630       1  \n",
              "152051      0  \n",
              "175655      0  \n",
              "115048      0  "
            ],
            "text/html": [
              "\n",
              "  <div id=\"df-0f2367a6-f26f-4251-a10a-5a8e8eede6b2\">\n",
              "    <div class=\"colab-df-container\">\n",
              "      <div>\n",
              "<style scoped>\n",
              "    .dataframe tbody tr th:only-of-type {\n",
              "        vertical-align: middle;\n",
              "    }\n",
              "\n",
              "    .dataframe tbody tr th {\n",
              "        vertical-align: top;\n",
              "    }\n",
              "\n",
              "    .dataframe thead th {\n",
              "        text-align: right;\n",
              "    }\n",
              "</style>\n",
              "<table border=\"1\" class=\"dataframe\">\n",
              "  <thead>\n",
              "    <tr style=\"text-align: right;\">\n",
              "      <th></th>\n",
              "      <th>text</th>\n",
              "      <th>label</th>\n",
              "    </tr>\n",
              "  </thead>\n",
              "  <tbody>\n",
              "    <tr>\n",
              "      <th>210195</th>\n",
              "      <td>[Еле, проснулся, ,, а, обещал, себе, встать, в, 9, ., :(]</td>\n",
              "      <td>0</td>\n",
              "    </tr>\n",
              "    <tr>\n",
              "      <th>59736</th>\n",
              "      <td>[ага, ,, я, про, твиттер, ), однако, количество, откликов, тесно, коррелирует, с, ответами, на, предыдущие, отклики, )]</td>\n",
              "      <td>1</td>\n",
              "    </tr>\n",
              "    <tr>\n",
              "      <th>54727</th>\n",
              "      <td>[пора, начинать, ,, уже, взрослая, девочка, :)]</td>\n",
              "      <td>1</td>\n",
              "    </tr>\n",
              "    <tr>\n",
              "      <th>1568</th>\n",
              "      <td>[gozunuz, aydinnnn, ), ), ), Баку, вошел, в, список, самых, дорогих, городов, мира, –, ФОТО, -, 1NEWS.AZ]</td>\n",
              "      <td>1</td>\n",
              "    </tr>\n",
              "    <tr>\n",
              "      <th>161345</th>\n",
              "      <td>[бля, ,, я, пожалела, брата, и, пошла, с, ним, искать, карточку, и, наша, (, (, (, кина, не, будет]</td>\n",
              "      <td>0</td>\n",
              "    </tr>\n",
              "    <tr>\n",
              "      <th>104672</th>\n",
              "      <td>[А, то, если, честно, впечатлило, моё, нежданное, знакомство, ), Так, впечатлило, ,, что, не, знаю, даже, что, и, сказать, )]</td>\n",
              "      <td>1</td>\n",
              "    </tr>\n",
              "    <tr>\n",
              "      <th>37630</th>\n",
              "      <td>[что, достается, в, айтишной, семье, после, койки, ?, правильно, ,, сервер, :)]</td>\n",
              "      <td>1</td>\n",
              "    </tr>\n",
              "    <tr>\n",
              "      <th>152051</th>\n",
              "      <td>[каждый, день, добиваю, ,, ему, не, нравится, это, :(]</td>\n",
              "      <td>0</td>\n",
              "    </tr>\n",
              "    <tr>\n",
              "      <th>175655</th>\n",
              "      <td>[спорт, еще, сложнее, ,, чем, меньше, жрать, :(]</td>\n",
              "      <td>0</td>\n",
              "    </tr>\n",
              "    <tr>\n",
              "      <th>115048</th>\n",
              "      <td>[Мало, того, что, я, потеряла, из-за, него, сережки, ,, он, их, так, и, не, нашел, !, !, !, :(, (]</td>\n",
              "      <td>0</td>\n",
              "    </tr>\n",
              "  </tbody>\n",
              "</table>\n",
              "</div>\n",
              "      <button class=\"colab-df-convert\" onclick=\"convertToInteractive('df-0f2367a6-f26f-4251-a10a-5a8e8eede6b2')\"\n",
              "              title=\"Convert this dataframe to an interactive table.\"\n",
              "              style=\"display:none;\">\n",
              "        \n",
              "  <svg xmlns=\"http://www.w3.org/2000/svg\" height=\"24px\"viewBox=\"0 0 24 24\"\n",
              "       width=\"24px\">\n",
              "    <path d=\"M0 0h24v24H0V0z\" fill=\"none\"/>\n",
              "    <path d=\"M18.56 5.44l.94 2.06.94-2.06 2.06-.94-2.06-.94-.94-2.06-.94 2.06-2.06.94zm-11 1L8.5 8.5l.94-2.06 2.06-.94-2.06-.94L8.5 2.5l-.94 2.06-2.06.94zm10 10l.94 2.06.94-2.06 2.06-.94-2.06-.94-.94-2.06-.94 2.06-2.06.94z\"/><path d=\"M17.41 7.96l-1.37-1.37c-.4-.4-.92-.59-1.43-.59-.52 0-1.04.2-1.43.59L10.3 9.45l-7.72 7.72c-.78.78-.78 2.05 0 2.83L4 21.41c.39.39.9.59 1.41.59.51 0 1.02-.2 1.41-.59l7.78-7.78 2.81-2.81c.8-.78.8-2.07 0-2.86zM5.41 20L4 18.59l7.72-7.72 1.47 1.35L5.41 20z\"/>\n",
              "  </svg>\n",
              "      </button>\n",
              "      \n",
              "  <style>\n",
              "    .colab-df-container {\n",
              "      display:flex;\n",
              "      flex-wrap:wrap;\n",
              "      gap: 12px;\n",
              "    }\n",
              "\n",
              "    .colab-df-convert {\n",
              "      background-color: #E8F0FE;\n",
              "      border: none;\n",
              "      border-radius: 50%;\n",
              "      cursor: pointer;\n",
              "      display: none;\n",
              "      fill: #1967D2;\n",
              "      height: 32px;\n",
              "      padding: 0 0 0 0;\n",
              "      width: 32px;\n",
              "    }\n",
              "\n",
              "    .colab-df-convert:hover {\n",
              "      background-color: #E2EBFA;\n",
              "      box-shadow: 0px 1px 2px rgba(60, 64, 67, 0.3), 0px 1px 3px 1px rgba(60, 64, 67, 0.15);\n",
              "      fill: #174EA6;\n",
              "    }\n",
              "\n",
              "    [theme=dark] .colab-df-convert {\n",
              "      background-color: #3B4455;\n",
              "      fill: #D2E3FC;\n",
              "    }\n",
              "\n",
              "    [theme=dark] .colab-df-convert:hover {\n",
              "      background-color: #434B5C;\n",
              "      box-shadow: 0px 1px 3px 1px rgba(0, 0, 0, 0.15);\n",
              "      filter: drop-shadow(0px 1px 2px rgba(0, 0, 0, 0.3));\n",
              "      fill: #FFFFFF;\n",
              "    }\n",
              "  </style>\n",
              "\n",
              "      <script>\n",
              "        const buttonEl =\n",
              "          document.querySelector('#df-0f2367a6-f26f-4251-a10a-5a8e8eede6b2 button.colab-df-convert');\n",
              "        buttonEl.style.display =\n",
              "          google.colab.kernel.accessAllowed ? 'block' : 'none';\n",
              "\n",
              "        async function convertToInteractive(key) {\n",
              "          const element = document.querySelector('#df-0f2367a6-f26f-4251-a10a-5a8e8eede6b2');\n",
              "          const dataTable =\n",
              "            await google.colab.kernel.invokeFunction('convertToInteractive',\n",
              "                                                     [key], {});\n",
              "          if (!dataTable) return;\n",
              "\n",
              "          const docLinkHtml = 'Like what you see? Visit the ' +\n",
              "            '<a target=\"_blank\" href=https://colab.research.google.com/notebooks/data_table.ipynb>data table notebook</a>'\n",
              "            + ' to learn more about interactive tables.';\n",
              "          element.innerHTML = '';\n",
              "          dataTable['output_type'] = 'display_data';\n",
              "          await google.colab.output.renderOutput(dataTable, element);\n",
              "          const docLink = document.createElement('div');\n",
              "          docLink.innerHTML = docLinkHtml;\n",
              "          element.appendChild(docLink);\n",
              "        }\n",
              "      </script>\n",
              "    </div>\n",
              "  </div>\n",
              "  "
            ]
          },
          "metadata": {},
          "execution_count": 18
        }
      ]
    },
    {
      "cell_type": "code",
      "source": [
        "vocab = Counter()\n",
        "\n",
        "for row in train_data.text:\n",
        "  for tok in row:\n",
        "    vocab[tok] += 1\n",
        "\n",
        "print(f'Уникальных слов: {len(vocab)}')"
      ],
      "metadata": {
        "colab": {
          "base_uri": "https://localhost:8080/"
        },
        "id": "Sz3idMvvSLUh",
        "outputId": "8226fdb8-1239-454e-d2e2-59ae7ecd2a26"
      },
      "execution_count": 19,
      "outputs": [
        {
          "output_type": "stream",
          "name": "stdout",
          "text": [
            "Уникальных слов: 197200\n"
          ]
        }
      ]
    },
    {
      "cell_type": "code",
      "source": [
        "vocab.most_common(20)"
      ],
      "metadata": {
        "colab": {
          "base_uri": "https://localhost:8080/"
        },
        "id": "RC2EHPSRTzz9",
        "outputId": "6303b079-c587-449a-8d11-da74ab89b905"
      },
      "execution_count": 20,
      "outputs": [
        {
          "output_type": "execute_result",
          "data": {
            "text/plain": [
              "[(',', 149759),\n",
              " (')', 112690),\n",
              " ('(', 103117),\n",
              " ('не', 55653),\n",
              " ('.', 54806),\n",
              " ('!', 48711),\n",
              " ('и', 44249),\n",
              " ('я', 42487),\n",
              " ('в', 42226),\n",
              " (':(', 30322),\n",
              " ('RT', 29907),\n",
              " ('на', 28703),\n",
              " ('?', 27965),\n",
              " ('что', 25399),\n",
              " ('...', 21907),\n",
              " ('с', 21881),\n",
              " ('а', 21647),\n",
              " ('\"', 18958),\n",
              " (':)', 18406),\n",
              " ('меня', 16677)]"
            ]
          },
          "metadata": {},
          "execution_count": 20
        }
      ]
    },
    {
      "cell_type": "code",
      "source": [
        "filtered_vocab = set()\n",
        "\n",
        "for word in vocab:\n",
        "  if vocab[word] >= 3:\n",
        "    filtered_vocab.add(word)\n",
        "\n",
        "print(f'Слова встретились 3 и больше раз: {len(filtered_vocab)}')"
      ],
      "metadata": {
        "colab": {
          "base_uri": "https://localhost:8080/"
        },
        "id": "_b0JtD7vVz1t",
        "outputId": "ed5c9e15-beaf-4cbf-9df8-435d5c9daace"
      },
      "execution_count": 21,
      "outputs": [
        {
          "output_type": "stream",
          "name": "stdout",
          "text": [
            "Слова встретились 3 и больше раз: 49940\n"
          ]
        }
      ]
    },
    {
      "cell_type": "code",
      "source": [
        "word2id = {'PAD': 0,\n",
        "           'UNK': 1}\n",
        "\n",
        "for word in filtered_vocab:\n",
        "  word2id[word] = len(word2id)"
      ],
      "metadata": {
        "id": "zljQyILyWPT9"
      },
      "execution_count": 22,
      "outputs": []
    },
    {
      "cell_type": "code",
      "source": [
        "id2word = {idx:word for word, idx in word2id.items()}"
      ],
      "metadata": {
        "id": "z6Pvs0WzW5NR"
      },
      "execution_count": 23,
      "outputs": []
    },
    {
      "cell_type": "code",
      "source": [
        "DEVICE = torch.device('cuda') if torch.cuda.is_available() else torch.device('cpu')\n",
        "DEVICE"
      ],
      "metadata": {
        "colab": {
          "base_uri": "https://localhost:8080/"
        },
        "id": "ysOAMwtDXDBm",
        "outputId": "8c4df106-4f54-4bc3-8f6b-6fc02c6bc840"
      },
      "execution_count": 24,
      "outputs": [
        {
          "output_type": "execute_result",
          "data": {
            "text/plain": [
              "device(type='cuda')"
            ]
          },
          "metadata": {},
          "execution_count": 24
        }
      ]
    },
    {
      "cell_type": "markdown",
      "source": [
        "## Dataset и DataLoader"
      ],
      "metadata": {
        "id": "hWQKdJ4lwWnL"
      }
    },
    {
      "cell_type": "markdown",
      "source": [
        "Определим, до какой длинны будем паддить"
      ],
      "metadata": {
        "id": "X0pwiQ9_9TPK"
      }
    },
    {
      "cell_type": "code",
      "source": [
        "np.percentile(data['text'].apply(len), 97)"
      ],
      "metadata": {
        "colab": {
          "base_uri": "https://localhost:8080/"
        },
        "id": "NjwSBy4DzaGE",
        "outputId": "215881b7-e363-4938-d046-27e775cddfe6"
      },
      "execution_count": 25,
      "outputs": [
        {
          "output_type": "execute_result",
          "data": {
            "text/plain": [
              "29.0"
            ]
          },
          "metadata": {},
          "execution_count": 25
        }
      ]
    },
    {
      "cell_type": "code",
      "source": [
        "lengths = [data['text'].apply(len)]\n",
        "\n",
        "\n",
        "plt.figure(figsize=(16, 10))\n",
        "plt.grid()\n",
        "plt.title(\"Распределение длин\")\n",
        "plt.xlabel(\"Длина в токенах\")\n",
        "sns.histplot(lengths);"
      ],
      "metadata": {
        "colab": {
          "base_uri": "https://localhost:8080/",
          "height": 622
        },
        "id": "0ksCBP3N15Ii",
        "outputId": "a41169fc-5a8c-443c-947c-5451fe7c07f5"
      },
      "execution_count": 26,
      "outputs": [
        {
          "output_type": "display_data",
          "data": {
            "text/plain": [
              "<Figure size 1152x720 with 1 Axes>"
            ],
            "image/png": "[encoded data removed]"
          },
          "metadata": {
            "needs_background": "light"
          }
        }
      ]
    },
    {
      "cell_type": "markdown",
      "source": [
        "Определим Dataset"
      ],
      "metadata": {
        "id": "D1BXzpqP9XBL"
      }
    },
    {
      "cell_type": "code",
      "source": [
        "class SentDataset(Dataset):\n",
        "  def __init__(self, x, y, word2id, DEVICE, pad=0, max_len=30):\n",
        "\n",
        "    super().__init__()\n",
        "\n",
        "    self.x = x\n",
        "    self.y = y\n",
        "\n",
        "    self.word2id = word2id\n",
        "    self.pad = pad\n",
        "    self.max_len = max_len\n",
        "    self.device = DEVICE\n",
        "\n",
        "\n",
        "  def __len__(self):\n",
        "    return len(self.x)\n",
        "\n",
        "\n",
        "  def indexing(self, text):\n",
        "    text_ids = [word2id[tok] if tok in word2id else word2id['UNK'] for tok in text]\n",
        "    return text_ids\n",
        "\n",
        "  def padding(self, text):\n",
        "    text = text[:self.max_len]\n",
        "    text = F.pad(text, (0, self.max_len - len(text)))\n",
        "\n",
        "    return text\n",
        "\n",
        "\n",
        "  def __getitem__(self, idx):\n",
        "\n",
        "    text = self.x.iloc[idx]\n",
        "    text = self.indexing(text)\n",
        "\n",
        "    text = torch.tensor(text).to(self.device)\n",
        "    target = torch.Tensor([self.y.iloc[idx]]).to(self.device) # нам нужен float, а не int\n",
        "\n",
        "    text = self.padding(text)\n",
        "\n",
        "    return(text, target)\n",
        "  \n"
      ],
      "metadata": {
        "id": "CujlsSZHwYia"
      },
      "execution_count": 27,
      "outputs": []
    },
    {
      "cell_type": "code",
      "source": [
        "train_dataset = SentDataset(x=train_data['text'], y=train_data['label'], word2id=word2id, DEVICE=DEVICE)"
      ],
      "metadata": {
        "id": "ZlKce02l3bej"
      },
      "execution_count": 28,
      "outputs": []
    },
    {
      "cell_type": "code",
      "source": [
        "# Проверочка\n",
        "x, y = train_dataset[5]\n",
        "print(x, x.shape)\n",
        "print(y, y.shape)"
      ],
      "metadata": {
        "colab": {
          "base_uri": "https://localhost:8080/"
        },
        "id": "2mOC21UE8pRg",
        "outputId": "a3b7b4d6-52df-4d9b-91a0-78a78cccd535"
      },
      "execution_count": 29,
      "outputs": [
        {
          "output_type": "stream",
          "name": "stdout",
          "text": [
            "tensor([ 9041, 14605,  7560, 19643, 19285,     1, 15866, 15379,     1, 46032,\n",
            "            1,  5415, 20356, 22956,     1, 11159, 40885,  5415, 31161, 11326,\n",
            "          507,    91,  6999,  6999,     0,     0,     0,     0,     0,     0],\n",
            "       device='cuda:0') torch.Size([30])\n",
            "tensor([0.], device='cuda:0') torch.Size([1])\n"
          ]
        }
      ]
    },
    {
      "cell_type": "code",
      "source": [
        "train_loader = DataLoader(train_dataset, batch_size=128)"
      ],
      "metadata": {
        "id": "D-7NS6nR-1SM"
      },
      "execution_count": 30,
      "outputs": []
    },
    {
      "cell_type": "code",
      "source": [
        "batch = next(iter(train_loader))[0]\n",
        "print(batch, f'\\nBatch size: {batch.shape}')"
      ],
      "metadata": {
        "colab": {
          "base_uri": "https://localhost:8080/"
        },
        "id": "a2pEhZ1s_g0c",
        "outputId": "72c743cb-7a7c-4c23-e723-d3076623e69c"
      },
      "execution_count": 31,
      "outputs": [
        {
          "output_type": "stream",
          "name": "stdout",
          "text": [
            "tensor([[42216, 15866, 38734,  ...,     0,     0,     0],\n",
            "        [ 2511,  7257,  1121,  ...,     0,     0,     0],\n",
            "        [49479, 49479, 15866,  ...,     0,     0,     0],\n",
            "        ...,\n",
            "        [ 4353, 44591,     1,  ...,     0,     0,     0],\n",
            "        [32506, 11085,  2299,  ...,     0,     0,     0],\n",
            "        [45837,  3123, 25076,  ...,     0,     0,     0]], device='cuda:0') \n",
            "Batch size: torch.Size([128, 30])\n"
          ]
        }
      ]
    },
    {
      "cell_type": "code",
      "source": [
        "val_dataset = SentDataset(x=val_data['text'], y=val_data['label'], word2id=word2id, DEVICE=DEVICE)\n",
        "val_loader = DataLoader(val_dataset, batch_size=128)\n",
        "print(next(iter(val_loader))[0].shape)\n",
        "\n",
        "test_dataset = SentDataset(x=test_data['text'], y=test_data['label'], word2id=word2id, DEVICE=DEVICE)\n",
        "test_loader = DataLoader(test_dataset, batch_size=128)\n",
        "print(next(iter(test_loader))[0].shape)\n",
        "\n"
      ],
      "metadata": {
        "colab": {
          "base_uri": "https://localhost:8080/"
        },
        "id": "TRHXix4eal8n",
        "outputId": "9e9d9815-a465-4b0a-bab4-37a19c9772fb"
      },
      "execution_count": 32,
      "outputs": [
        {
          "output_type": "stream",
          "name": "stdout",
          "text": [
            "torch.Size([128, 30])\n",
            "torch.Size([128, 30])\n"
          ]
        }
      ]
    },
    {
      "cell_type": "markdown",
      "source": [
        "## CNN Model"
      ],
      "metadata": {
        "id": "ekXLA1U1bbzi"
      }
    },
    {
      "cell_type": "code",
      "source": [
        "class CNN(nn.Module):\n",
        "  def __init__(self, vocab_size, emb_dim):\n",
        "\n",
        "    super().__init__()\n",
        "\n",
        "    self.embedding = nn.Embedding(vocab_size, emb_dim) # логично emb_dim делать размером корень из vocab_size\n",
        "    self.bigram = nn.Conv1d(in_channels=emb_dim, out_channels=50, kernel_size=2, padding='same') # out_channels - кол-во разных фильтров\n",
        "    self.trigram = nn.Conv1d(in_channels=emb_dim, out_channels=50, kernel_size=3, padding='same')\n",
        "    self.pooling = nn.MaxPool1d(kernel_size=2, stride=2)\n",
        "    self.conv2 = nn.Conv1d(in_channels=100, out_channels=100, kernel_size=2, padding='same')\n",
        "    self.linear = nn.Linear(in_features=100, out_features=1)\n",
        "    self.relu = nn.ReLU()\n",
        "    self.sigm = nn.Sigmoid()\n",
        "\n",
        "  def forward(self, sent):\n",
        "    # batch_size x seq_len\n",
        "    embedded = self.embedding(sent) # -> batch_size x seq_len x emb_dim\n",
        "    # Conv1d берет на вход (batch_size, in_channels, seq_len) - \n",
        "    # надо транспонировать (менять 1 и 2 размерность местами)\n",
        "    embedded = embedded.transpose(1, 2)\n",
        "\n",
        "    # первый слой со свертками\n",
        "    feature_map_bigram = self.pooling(self.relu(self.bigram(embedded))) # -> batch_size x filter_out_channel x seq_len (padding?)\n",
        "    feature_map_trigram = self.pooling(self.relu(self.trigram(embedded)))\n",
        "\n",
        "    concat = torch.concat((feature_map_bigram, feature_map_trigram), 1)\n",
        "\n",
        "    feature_map_final = self.relu(self.conv2(concat))\n",
        "\n",
        "    # Хотим избавиться от seq_len - max pooling over time\n",
        "    pool = feature_map_final.max(2)[0] # -> batch_size x filter_out_channel\n",
        "\n",
        "    hidden = self.linear(pool)\n",
        "    out = self.sigm(hidden)\n",
        "\n",
        "    return out\n",
        "\n",
        "\n",
        "\n",
        "  "
      ],
      "metadata": {
        "id": "F5X3F5_ZbfYw"
      },
      "execution_count": 33,
      "outputs": []
    },
    {
      "cell_type": "markdown",
      "source": [
        "Попробуем пропустить один батч через модель - должны получит ьвероятности для каждого элемента батча (batch_size=16) "
      ],
      "metadata": {
        "id": "X7YP4xotGpJv"
      }
    },
    {
      "cell_type": "code",
      "source": [
        "batch, y = next(iter(train_loader))\n",
        "batch, y = batch.to(DEVICE), y.to(DEVICE)\n",
        "print(batch, y)\n",
        "print(batch.shape, y.shape)"
      ],
      "metadata": {
        "colab": {
          "base_uri": "https://localhost:8080/"
        },
        "id": "RSmnS2372Q6S",
        "outputId": "fd16f9ec-05b1-49ce-a647-f3ee97f08db5"
      },
      "execution_count": 34,
      "outputs": [
        {
          "output_type": "stream",
          "name": "stdout",
          "text": [
            "tensor([[42216, 15866, 38734,  ...,     0,     0,     0],\n",
            "        [ 2511,  7257,  1121,  ...,     0,     0,     0],\n",
            "        [49479, 49479, 15866,  ...,     0,     0,     0],\n",
            "        ...,\n",
            "        [ 4353, 44591,     1,  ...,     0,     0,     0],\n",
            "        [32506, 11085,  2299,  ...,     0,     0,     0],\n",
            "        [45837,  3123, 25076,  ...,     0,     0,     0]], device='cuda:0') tensor([[1.],\n",
            "        [1.],\n",
            "        [1.],\n",
            "        [0.],\n",
            "        [0.],\n",
            "        [0.],\n",
            "        [0.],\n",
            "        [0.],\n",
            "        [1.],\n",
            "        [0.],\n",
            "        [1.],\n",
            "        [1.],\n",
            "        [1.],\n",
            "        [0.],\n",
            "        [0.],\n",
            "        [1.],\n",
            "        [1.],\n",
            "        [0.],\n",
            "        [0.],\n",
            "        [1.],\n",
            "        [1.],\n",
            "        [0.],\n",
            "        [1.],\n",
            "        [1.],\n",
            "        [1.],\n",
            "        [1.],\n",
            "        [1.],\n",
            "        [1.],\n",
            "        [0.],\n",
            "        [0.],\n",
            "        [0.],\n",
            "        [0.],\n",
            "        [0.],\n",
            "        [1.],\n",
            "        [0.],\n",
            "        [0.],\n",
            "        [1.],\n",
            "        [0.],\n",
            "        [0.],\n",
            "        [1.],\n",
            "        [1.],\n",
            "        [0.],\n",
            "        [0.],\n",
            "        [0.],\n",
            "        [1.],\n",
            "        [0.],\n",
            "        [0.],\n",
            "        [0.],\n",
            "        [0.],\n",
            "        [0.],\n",
            "        [1.],\n",
            "        [0.],\n",
            "        [0.],\n",
            "        [0.],\n",
            "        [1.],\n",
            "        [1.],\n",
            "        [0.],\n",
            "        [1.],\n",
            "        [0.],\n",
            "        [1.],\n",
            "        [0.],\n",
            "        [0.],\n",
            "        [1.],\n",
            "        [0.],\n",
            "        [0.],\n",
            "        [0.],\n",
            "        [0.],\n",
            "        [1.],\n",
            "        [0.],\n",
            "        [0.],\n",
            "        [0.],\n",
            "        [0.],\n",
            "        [1.],\n",
            "        [0.],\n",
            "        [1.],\n",
            "        [1.],\n",
            "        [1.],\n",
            "        [0.],\n",
            "        [0.],\n",
            "        [1.],\n",
            "        [1.],\n",
            "        [0.],\n",
            "        [1.],\n",
            "        [0.],\n",
            "        [1.],\n",
            "        [1.],\n",
            "        [1.],\n",
            "        [1.],\n",
            "        [1.],\n",
            "        [1.],\n",
            "        [1.],\n",
            "        [1.],\n",
            "        [0.],\n",
            "        [1.],\n",
            "        [1.],\n",
            "        [0.],\n",
            "        [0.],\n",
            "        [1.],\n",
            "        [0.],\n",
            "        [1.],\n",
            "        [0.],\n",
            "        [0.],\n",
            "        [0.],\n",
            "        [0.],\n",
            "        [0.],\n",
            "        [0.],\n",
            "        [1.],\n",
            "        [1.],\n",
            "        [0.],\n",
            "        [0.],\n",
            "        [0.],\n",
            "        [1.],\n",
            "        [0.],\n",
            "        [1.],\n",
            "        [1.],\n",
            "        [1.],\n",
            "        [1.],\n",
            "        [0.],\n",
            "        [1.],\n",
            "        [0.],\n",
            "        [1.],\n",
            "        [1.],\n",
            "        [1.],\n",
            "        [1.],\n",
            "        [0.],\n",
            "        [1.],\n",
            "        [1.],\n",
            "        [1.]], device='cuda:0')\n",
            "torch.Size([128, 30]) torch.Size([128, 1])\n"
          ]
        }
      ]
    },
    {
      "cell_type": "code",
      "source": [
        "model = CNN(len(word2id), 256)\n",
        "model = model.to(DEVICE)\n",
        "output = model(batch)\n",
        "print(output)"
      ],
      "metadata": {
        "colab": {
          "base_uri": "https://localhost:8080/"
        },
        "id": "-joSxuo3Eced",
        "outputId": "61f8447f-25f4-4745-cffc-3f8c2887bc25"
      },
      "execution_count": 35,
      "outputs": [
        {
          "output_type": "stream",
          "name": "stdout",
          "text": [
            "tensor([[0.5105],\n",
            "        [0.5216],\n",
            "        [0.4993],\n",
            "        [0.5076],\n",
            "        [0.5180],\n",
            "        [0.5028],\n",
            "        [0.4998],\n",
            "        [0.5173],\n",
            "        [0.5078],\n",
            "        [0.5104],\n",
            "        [0.5137],\n",
            "        [0.5274],\n",
            "        [0.5101],\n",
            "        [0.5455],\n",
            "        [0.5225],\n",
            "        [0.4979],\n",
            "        [0.5174],\n",
            "        [0.5107],\n",
            "        [0.5571],\n",
            "        [0.5127],\n",
            "        [0.5115],\n",
            "        [0.5125],\n",
            "        [0.5160],\n",
            "        [0.4992],\n",
            "        [0.5170],\n",
            "        [0.5212],\n",
            "        [0.5058],\n",
            "        [0.5576],\n",
            "        [0.5095],\n",
            "        [0.5306],\n",
            "        [0.5000],\n",
            "        [0.4890],\n",
            "        [0.5168],\n",
            "        [0.5274],\n",
            "        [0.4922],\n",
            "        [0.5423],\n",
            "        [0.5208],\n",
            "        [0.5326],\n",
            "        [0.5263],\n",
            "        [0.4953],\n",
            "        [0.5141],\n",
            "        [0.5212],\n",
            "        [0.4852],\n",
            "        [0.5149],\n",
            "        [0.4999],\n",
            "        [0.4778],\n",
            "        [0.5037],\n",
            "        [0.5221],\n",
            "        [0.5173],\n",
            "        [0.5182],\n",
            "        [0.5023],\n",
            "        [0.5440],\n",
            "        [0.5255],\n",
            "        [0.5133],\n",
            "        [0.5095],\n",
            "        [0.5166],\n",
            "        [0.5075],\n",
            "        [0.5117],\n",
            "        [0.5510],\n",
            "        [0.4953],\n",
            "        [0.5173],\n",
            "        [0.4923],\n",
            "        [0.5197],\n",
            "        [0.5444],\n",
            "        [0.5117],\n",
            "        [0.4922],\n",
            "        [0.5155],\n",
            "        [0.4958],\n",
            "        [0.5081],\n",
            "        [0.4816],\n",
            "        [0.5329],\n",
            "        [0.4896],\n",
            "        [0.5252],\n",
            "        [0.5105],\n",
            "        [0.5306],\n",
            "        [0.4971],\n",
            "        [0.5094],\n",
            "        [0.5019],\n",
            "        [0.5124],\n",
            "        [0.5012],\n",
            "        [0.5243],\n",
            "        [0.5168],\n",
            "        [0.4918],\n",
            "        [0.4839],\n",
            "        [0.5312],\n",
            "        [0.4938],\n",
            "        [0.5274],\n",
            "        [0.5110],\n",
            "        [0.5465],\n",
            "        [0.5309],\n",
            "        [0.5025],\n",
            "        [0.5032],\n",
            "        [0.5187],\n",
            "        [0.5099],\n",
            "        [0.5260],\n",
            "        [0.5128],\n",
            "        [0.5116],\n",
            "        [0.5132],\n",
            "        [0.5336],\n",
            "        [0.5129],\n",
            "        [0.5119],\n",
            "        [0.4926],\n",
            "        [0.5395],\n",
            "        [0.5234],\n",
            "        [0.4985],\n",
            "        [0.5359],\n",
            "        [0.5037],\n",
            "        [0.5266],\n",
            "        [0.5169],\n",
            "        [0.5276],\n",
            "        [0.5104],\n",
            "        [0.5258],\n",
            "        [0.5062],\n",
            "        [0.5098],\n",
            "        [0.5264],\n",
            "        [0.5199],\n",
            "        [0.4938],\n",
            "        [0.5280],\n",
            "        [0.5050],\n",
            "        [0.5398],\n",
            "        [0.4706],\n",
            "        [0.5202],\n",
            "        [0.5363],\n",
            "        [0.5005],\n",
            "        [0.5248],\n",
            "        [0.5168],\n",
            "        [0.5019],\n",
            "        [0.4975]], device='cuda:0', grad_fn=<SigmoidBackward0>)\n"
          ]
        },
        {
          "output_type": "stream",
          "name": "stderr",
          "text": [
            "/usr/local/lib/python3.7/dist-packages/torch/nn/modules/conv.py:299: UserWarning: Using padding='same' with even kernel lengths and odd dilation may require a zero-padded copy of the input be created (Triggered internally at  ../aten/src/ATen/native/Convolution.cpp:744.)\n",
            "  self.padding, self.dilation, self.groups)\n"
          ]
        }
      ]
    },
    {
      "cell_type": "code",
      "source": [
        "loss = nn.BCELoss()\n",
        "loss(output, y)"
      ],
      "metadata": {
        "colab": {
          "base_uri": "https://localhost:8080/"
        },
        "id": "HEakVp39G7z-",
        "outputId": "4026ad14-476d-4fa9-aacc-ef3f4885365f"
      },
      "execution_count": 36,
      "outputs": [
        {
          "output_type": "execute_result",
          "data": {
            "text/plain": [
              "tensor(0.6970, device='cuda:0', grad_fn=<BinaryCrossEntropyBackward0>)"
            ]
          },
          "metadata": {},
          "execution_count": 36
        }
      ]
    },
    {
      "cell_type": "code",
      "source": [
        "f1(output, y.long()) # The `target` has to be an integer tensor."
      ],
      "metadata": {
        "colab": {
          "base_uri": "https://localhost:8080/"
        },
        "id": "4jKT6cDDHI6q",
        "outputId": "9d3b1660-0252-486d-daa4-16ea10107aec"
      },
      "execution_count": 37,
      "outputs": [
        {
          "output_type": "execute_result",
          "data": {
            "text/plain": [
              "tensor(0.6061, device='cuda:0')"
            ]
          },
          "metadata": {},
          "execution_count": 37
        }
      ]
    },
    {
      "cell_type": "markdown",
      "source": [
        "# Train & eval loops"
      ],
      "metadata": {
        "id": "ab2r8R82ME6t"
      }
    },
    {
      "cell_type": "code",
      "source": [
        "model = CNN(len(word2id), 256)\n",
        "optimizer = optim.Adam(model.parameters(), lr=0.0005)\n",
        "criterion = nn.BCELoss()  \n",
        "\n",
        "# веса модели и значения лосса храним в одном месте\n",
        "model = model.to(DEVICE)\n",
        "criterion = criterion.to(DEVICE)"
      ],
      "metadata": {
        "id": "i49DC_fMVve4"
      },
      "execution_count": 38,
      "outputs": []
    },
    {
      "cell_type": "code",
      "source": [
        "def train(model, iterator, optimizer, criterion):\n",
        "\n",
        "  epoch_loss = []\n",
        "  epoch_f1 = []\n",
        "  \n",
        "  print('Training...')\n",
        "  model.train()\n",
        "\n",
        "  for i, (text, y) in enumerate(iterator):\n",
        "    optimizer.zero_grad()\n",
        "    pred = model(text)\n",
        "    loss = criterion(pred, y)\n",
        "    loss.backward()\n",
        "\n",
        "    optimizer.step()\n",
        "    epoch_loss.append(loss.item()) # item() converts its value to a standard Python number (to CPU)\n",
        "\n",
        "    batch_f1 = f1(pred.round().long(), y.long(), ignore_index=0)\n",
        "    epoch_f1.append(batch_f1.item())\n",
        "\n",
        "    \n",
        "  return sum(epoch_loss) / len(iterator), sum(epoch_f1) / len(iterator), epoch_loss, epoch_f1"
      ],
      "metadata": {
        "id": "Iqt_iYrtJEKS"
      },
      "execution_count": 39,
      "outputs": []
    },
    {
      "cell_type": "code",
      "source": [
        "def evaluate(model, iterator, optimizer, criterion):\n",
        "  epoch_loss = []\n",
        "  epoch_f1 = []\n",
        "  \n",
        "  print('Evaluating...')\n",
        "  model.eval()\n",
        "  with torch.no_grad():\n",
        "    for i, (text, y) in enumerate(iterator):\n",
        "      pred = model(text)\n",
        "      loss = criterion(pred, y)\n",
        "      epoch_loss.append(loss.item()) # item() converts its value to a standard Python number (to CPU)\n",
        "\n",
        "      batch_f1 = f1(pred.round().long(), y.long(), ignore_index=0)\n",
        "      epoch_f1.append(batch_f1.item())\n",
        "      \n",
        "    return sum(epoch_loss) / len(iterator), sum(epoch_f1) / len(iterator), epoch_loss, epoch_f1\n",
        "\n"
      ],
      "metadata": {
        "id": "RZnWkxgpU5Ox"
      },
      "execution_count": 40,
      "outputs": []
    },
    {
      "cell_type": "code",
      "source": [
        "# Start\n",
        "\n",
        "losses = []\n",
        "f1s = []\n",
        "eval_losses = []\n",
        "eval_f1s = []\n",
        "\n",
        "for epoch in tqdm.tqdm(range(1)):\n",
        "\n",
        "    print(f'\\nEpoch {epoch + 1}')\n",
        "    epoch_loss, epoch_f1, batch_loss, batch_f1 = train(model, train_loader, optimizer, criterion)\n",
        "    losses.append(epoch_loss)\n",
        "    f1s.append(epoch_f1)\n",
        "    print(f'Train loss: {epoch_loss}, Train_f1: {epoch_f1}')\n",
        "    print('. . . ' * 5)\n",
        "    epoch_val_loss, epoch_val_f1, val_batch_loss, val_batch_f1 = evaluate(model, val_loader, optimizer, criterion)\n",
        "    eval_losses.append(epoch_val_loss)\n",
        "    eval_f1s.append(epoch_val_f1)\n",
        "    print(f'\\n\\nEval loss: {epoch_val_loss}, eval_f1: {epoch_val_f1}')\n",
        "    print('. . . ' * 5)"
      ],
      "metadata": {
        "colab": {
          "base_uri": "https://localhost:8080/"
        },
        "id": "diRLvZ1wU8u5",
        "outputId": "395f679f-5fcf-4165-9d0f-7bece16c17e4"
      },
      "execution_count": 41,
      "outputs": [
        {
          "output_type": "stream",
          "name": "stderr",
          "text": [
            "\r  0%|          | 0/1 [00:00<?, ?it/s]"
          ]
        },
        {
          "output_type": "stream",
          "name": "stdout",
          "text": [
            "\n",
            "Epoch 1\n",
            "Training...\n",
            "Train loss: 0.02270032107363042, Train_f1: 0.9918524288744449\n",
            ". . . . . . . . . . . . . . . \n",
            "Evaluating...\n"
          ]
        },
        {
          "output_type": "stream",
          "name": "stderr",
          "text": [
            "100%|██████████| 1/1 [00:54<00:00, 54.06s/it]"
          ]
        },
        {
          "output_type": "stream",
          "name": "stdout",
          "text": [
            "\n",
            "\n",
            "Eval loss: 0.005336713232147587, eval_f1: 0.9979411900513874\n",
            ". . . . . . . . . . . . . . . \n"
          ]
        },
        {
          "output_type": "stream",
          "name": "stderr",
          "text": [
            "\n"
          ]
        }
      ]
    },
    {
      "cell_type": "code",
      "source": [
        "def plot_training(train_loss, train_metric, val_loss, val_metric):\n",
        "    \n",
        "    fig, axs = plt.subplots(1, 2, figsize=(15, 5))\n",
        "    axs[0].plot(train_loss, label='loss')\n",
        "    axs[0].plot(train_metric, label='f1')\n",
        "    axs[0].set_xlabel('Iterations')\n",
        "    axs[0].set_ylabel('Value')\n",
        "    axs[0].legend()\n",
        "    axs[0].grid()\n",
        "    axs[0].set_title('Train')\n",
        "\n",
        "    axs[1].plot(val_loss, label='loss')\n",
        "    axs[1].plot(val_metric, label='f1')\n",
        "    axs[1].set_xlabel('Iterations')\n",
        "    axs[1].set_ylabel('Value')\n",
        "    axs[1].legend()\n",
        "    axs[1].grid()\n",
        "    axs[1].set_title('Val')"
      ],
      "metadata": {
        "id": "7hG-t6kVZ9__"
      },
      "execution_count": 42,
      "outputs": []
    },
    {
      "cell_type": "code",
      "source": [
        "plot_training(batch_loss, batch_f1, val_batch_loss, val_batch_f1)"
      ],
      "metadata": {
        "colab": {
          "base_uri": "https://localhost:8080/",
          "height": 350
        },
        "id": "btRpdfaieaiS",
        "outputId": "429f250c-4726-4d52-d584-436febc44ee6"
      },
      "execution_count": 45,
      "outputs": [
        {
          "output_type": "display_data",
          "data": {
            "text/plain": [
              "<Figure size 1080x360 with 2 Axes>"
            ],
            "image/png": "[encoded data removed]"
          },
          "metadata": {
            "needs_background": "light"
          }
        }
      ]
    },
    {
      "cell_type": "markdown",
      "source": [
        "Кажется, эта модель слишком сложная для датасета (а датасет - слишклм простой). Этот же датасет легко решался логистической регрессией. Все благодаря токену \")\", который в большом кол-ве встречается в положительных отзывах. Поэтому если не удалять пунктуацию, очень быстро добиваемся высоких результатов!"
      ],
      "metadata": {
        "id": "7i0l1Toono1W"
      }
    },
    {
      "cell_type": "markdown",
      "source": [
        "Посчитаем долю позитивных текстов с символом ')'"
      ],
      "metadata": {
        "id": "_zoZ11RHvFjN"
      }
    },
    {
      "cell_type": "code",
      "source": [
        "len(positive[positive['text'].str.contains('\\)')])/len(positive)"
      ],
      "metadata": {
        "id": "HeCV0GNMg87c",
        "colab": {
          "base_uri": "https://localhost:8080/"
        },
        "outputId": "7af3b6d2-1e72-4729-8dfa-7fbc3b75dc64"
      },
      "execution_count": 57,
      "outputs": [
        {
          "output_type": "execute_result",
          "data": {
            "text/plain": [
              "0.8289632846289737"
            ]
          },
          "metadata": {},
          "execution_count": 57
        }
      ]
    },
    {
      "cell_type": "markdown",
      "source": [
        "А в негативных такого смайла мы не встретим. Даже если мы основывали нашу бинарную классификацию только на этом символе, наше качество было бы почти 83%"
      ],
      "metadata": {
        "id": "DtHoHlaivNzB"
      }
    },
    {
      "cell_type": "code",
      "source": [
        "len(negative[negative['text'].str.contains('\\)')])/len(negative)"
      ],
      "metadata": {
        "colab": {
          "base_uri": "https://localhost:8080/"
        },
        "id": "FD9e1F-8uIty",
        "outputId": "0e95ca83-8250-45fd-920f-7e422bba9d42"
      },
      "execution_count": 58,
      "outputs": [
        {
          "output_type": "execute_result",
          "data": {
            "text/plain": [
              "0.0"
            ]
          },
          "metadata": {},
          "execution_count": 58
        }
      ]
    },
    {
      "cell_type": "code",
      "source": [
        ""
      ],
      "metadata": {
        "id": "Au5J_zRLu-RM"
      },
      "execution_count": null,
      "outputs": []
    }
  ]
}