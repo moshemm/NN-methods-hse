{
  "nbformat": 4,
  "nbformat_minor": 0,
  "metadata": {
    "colab": {
      "name": "CNN HW2_2.ipynb",
      "provenance": [],
      "collapsed_sections": [],
      "toc_visible": true,
      "authorship_tag": "ABX9TyP1MnIDDI0DRByxQd0rMrkw",
      "include_colab_link": true
    },
    "kernelspec": {
      "name": "python3",
      "display_name": "Python 3"
    },
    "language_info": {
      "name": "python"
    },
    "accelerator": "GPU",
    "widgets": {
      "application/vnd.jupyter.widget-state+json": {
        "5a4f8f9003cd4b509d5e94c9af2717eb": {
          "model_module": "@jupyter-widgets/controls",
          "model_name": "HBoxModel",
          "model_module_version": "1.5.0",
          "state": {
            "_dom_classes": [],
            "_model_module": "@jupyter-widgets/controls",
            "_model_module_version": "1.5.0",
            "_model_name": "HBoxModel",
            "_view_count": null,
            "_view_module": "@jupyter-widgets/controls",
            "_view_module_version": "1.5.0",
            "_view_name": "HBoxView",
            "box_style": "",
            "children": [
              "IPY_MODEL_1fdff7ecd64c44b1a60216ae65b10248",
              "IPY_MODEL_3a251ea2a2a34194b4262889ee8f902f",
              "IPY_MODEL_6684b1e925a340799469f341bbb14229"
            ],
            "layout": "IPY_MODEL_a16e012e185643aea8c4a24d7e5aa5ed"
          }
        },
        "1fdff7ecd64c44b1a60216ae65b10248": {
          "model_module": "@jupyter-widgets/controls",
          "model_name": "HTMLModel",
          "model_module_version": "1.5.0",
          "state": {
            "_dom_classes": [],
            "_model_module": "@jupyter-widgets/controls",
            "_model_module_version": "1.5.0",
            "_model_name": "HTMLModel",
            "_view_count": null,
            "_view_module": "@jupyter-widgets/controls",
            "_view_module_version": "1.5.0",
            "_view_name": "HTMLView",
            "description": "",
            "description_tooltip": null,
            "layout": "IPY_MODEL_b9121b66edc945e399bcd4a4400520aa",
            "placeholder": "​",
            "style": "IPY_MODEL_697f8c16b6494311a64a3f330cc213d1",
            "value": "100%"
          }
        },
        "3a251ea2a2a34194b4262889ee8f902f": {
          "model_module": "@jupyter-widgets/controls",
          "model_name": "FloatProgressModel",
          "model_module_version": "1.5.0",
          "state": {
            "_dom_classes": [],
            "_model_module": "@jupyter-widgets/controls",
            "_model_module_version": "1.5.0",
            "_model_name": "FloatProgressModel",
            "_view_count": null,
            "_view_module": "@jupyter-widgets/controls",
            "_view_module_version": "1.5.0",
            "_view_name": "ProgressView",
            "bar_style": "success",
            "description": "",
            "description_tooltip": null,
            "layout": "IPY_MODEL_e5adac7f4e90458cbd426799bcbcab7a",
            "max": 2,
            "min": 0,
            "orientation": "horizontal",
            "style": "IPY_MODEL_25146f062878430fbe53fe15757bef79",
            "value": 2
          }
        },
        "6684b1e925a340799469f341bbb14229": {
          "model_module": "@jupyter-widgets/controls",
          "model_name": "HTMLModel",
          "model_module_version": "1.5.0",
          "state": {
            "_dom_classes": [],
            "_model_module": "@jupyter-widgets/controls",
            "_model_module_version": "1.5.0",
            "_model_name": "HTMLModel",
            "_view_count": null,
            "_view_module": "@jupyter-widgets/controls",
            "_view_module_version": "1.5.0",
            "_view_name": "HTMLView",
            "description": "",
            "description_tooltip": null,
            "layout": "IPY_MODEL_27c6e86875bb44b0a5e218cdeebc1d4a",
            "placeholder": "​",
            "style": "IPY_MODEL_0435df6f359a4159ae645fa500aa319e",
            "value": " 2/2 [00:00&lt;00:00, 44.56it/s]"
          }
        },
        "a16e012e185643aea8c4a24d7e5aa5ed": {
          "model_module": "@jupyter-widgets/base",
          "model_name": "LayoutModel",
          "model_module_version": "1.2.0",
          "state": {
            "_model_module": "@jupyter-widgets/base",
            "_model_module_version": "1.2.0",
            "_model_name": "LayoutModel",
            "_view_count": null,
            "_view_module": "@jupyter-widgets/base",
            "_view_module_version": "1.2.0",
            "_view_name": "LayoutView",
            "align_content": null,
            "align_items": null,
            "align_self": null,
            "border": null,
            "bottom": null,
            "display": null,
            "flex": null,
            "flex_flow": null,
            "grid_area": null,
            "grid_auto_columns": null,
            "grid_auto_flow": null,
            "grid_auto_rows": null,
            "grid_column": null,
            "grid_gap": null,
            "grid_row": null,
            "grid_template_areas": null,
            "grid_template_columns": null,
            "grid_template_rows": null,
            "height": null,
            "justify_content": null,
            "justify_items": null,
            "left": null,
            "margin": null,
            "max_height": null,
            "max_width": null,
            "min_height": null,
            "min_width": null,
            "object_fit": null,
            "object_position": null,
            "order": null,
            "overflow": null,
            "overflow_x": null,
            "overflow_y": null,
            "padding": null,
            "right": null,
            "top": null,
            "visibility": null,
            "width": null
          }
        },
        "b9121b66edc945e399bcd4a4400520aa": {
          "model_module": "@jupyter-widgets/base",
          "model_name": "LayoutModel",
          "model_module_version": "1.2.0",
          "state": {
            "_model_module": "@jupyter-widgets/base",
            "_model_module_version": "1.2.0",
            "_model_name": "LayoutModel",
            "_view_count": null,
            "_view_module": "@jupyter-widgets/base",
            "_view_module_version": "1.2.0",
            "_view_name": "LayoutView",
            "align_content": null,
            "align_items": null,
            "align_self": null,
            "border": null,
            "bottom": null,
            "display": null,
            "flex": null,
            "flex_flow": null,
            "grid_area": null,
            "grid_auto_columns": null,
            "grid_auto_flow": null,
            "grid_auto_rows": null,
            "grid_column": null,
            "grid_gap": null,
            "grid_row": null,
            "grid_template_areas": null,
            "grid_template_columns": null,
            "grid_template_rows": null,
            "height": null,
            "justify_content": null,
            "justify_items": null,
            "left": null,
            "margin": null,
            "max_height": null,
            "max_width": null,
            "min_height": null,
            "min_width": null,
            "object_fit": null,
            "object_position": null,
            "order": null,
            "overflow": null,
            "overflow_x": null,
            "overflow_y": null,
            "padding": null,
            "right": null,
            "top": null,
            "visibility": null,
            "width": null
          }
        },
        "697f8c16b6494311a64a3f330cc213d1": {
          "model_module": "@jupyter-widgets/controls",
          "model_name": "DescriptionStyleModel",
          "model_module_version": "1.5.0",
          "state": {
            "_model_module": "@jupyter-widgets/controls",
            "_model_module_version": "1.5.0",
            "_model_name": "DescriptionStyleModel",
            "_view_count": null,
            "_view_module": "@jupyter-widgets/base",
            "_view_module_version": "1.2.0",
            "_view_name": "StyleView",
            "description_width": ""
          }
        },
        "e5adac7f4e90458cbd426799bcbcab7a": {
          "model_module": "@jupyter-widgets/base",
          "model_name": "LayoutModel",
          "model_module_version": "1.2.0",
          "state": {
            "_model_module": "@jupyter-widgets/base",
            "_model_module_version": "1.2.0",
            "_model_name": "LayoutModel",
            "_view_count": null,
            "_view_module": "@jupyter-widgets/base",
            "_view_module_version": "1.2.0",
            "_view_name": "LayoutView",
            "align_content": null,
            "align_items": null,
            "align_self": null,
            "border": null,
            "bottom": null,
            "display": null,
            "flex": null,
            "flex_flow": null,
            "grid_area": null,
            "grid_auto_columns": null,
            "grid_auto_flow": null,
            "grid_auto_rows": null,
            "grid_column": null,
            "grid_gap": null,
            "grid_row": null,
            "grid_template_areas": null,
            "grid_template_columns": null,
            "grid_template_rows": null,
            "height": null,
            "justify_content": null,
            "justify_items": null,
            "left": null,
            "margin": null,
            "max_height": null,
            "max_width": null,
            "min_height": null,
            "min_width": null,
            "object_fit": null,
            "object_position": null,
            "order": null,
            "overflow": null,
            "overflow_x": null,
            "overflow_y": null,
            "padding": null,
            "right": null,
            "top": null,
            "visibility": null,
            "width": null
          }
        },
        "25146f062878430fbe53fe15757bef79": {
          "model_module": "@jupyter-widgets/controls",
          "model_name": "ProgressStyleModel",
          "model_module_version": "1.5.0",
          "state": {
            "_model_module": "@jupyter-widgets/controls",
            "_model_module_version": "1.5.0",
            "_model_name": "ProgressStyleModel",
            "_view_count": null,
            "_view_module": "@jupyter-widgets/base",
            "_view_module_version": "1.2.0",
            "_view_name": "StyleView",
            "bar_color": null,
            "description_width": ""
          }
        },
        "27c6e86875bb44b0a5e218cdeebc1d4a": {
          "model_module": "@jupyter-widgets/base",
          "model_name": "LayoutModel",
          "model_module_version": "1.2.0",
          "state": {
            "_model_module": "@jupyter-widgets/base",
            "_model_module_version": "1.2.0",
            "_model_name": "LayoutModel",
            "_view_count": null,
            "_view_module": "@jupyter-widgets/base",
            "_view_module_version": "1.2.0",
            "_view_name": "LayoutView",
            "align_content": null,
            "align_items": null,
            "align_self": null,
            "border": null,
            "bottom": null,
            "display": null,
            "flex": null,
            "flex_flow": null,
            "grid_area": null,
            "grid_auto_columns": null,
            "grid_auto_flow": null,
            "grid_auto_rows": null,
            "grid_column": null,
            "grid_gap": null,
            "grid_row": null,
            "grid_template_areas": null,
            "grid_template_columns": null,
            "grid_template_rows": null,
            "height": null,
            "justify_content": null,
            "justify_items": null,
            "left": null,
            "margin": null,
            "max_height": null,
            "max_width": null,
            "min_height": null,
            "min_width": null,
            "object_fit": null,
            "object_position": null,
            "order": null,
            "overflow": null,
            "overflow_x": null,
            "overflow_y": null,
            "padding": null,
            "right": null,
            "top": null,
            "visibility": null,
            "width": null
          }
        },
        "0435df6f359a4159ae645fa500aa319e": {
          "model_module": "@jupyter-widgets/controls",
          "model_name": "DescriptionStyleModel",
          "model_module_version": "1.5.0",
          "state": {
            "_model_module": "@jupyter-widgets/controls",
            "_model_module_version": "1.5.0",
            "_model_name": "DescriptionStyleModel",
            "_view_count": null,
            "_view_module": "@jupyter-widgets/base",
            "_view_module_version": "1.2.0",
            "_view_name": "StyleView",
            "description_width": ""
          }
        }
      }
    },
    "gpuClass": "standard"
  },
  "cells": [
    {
      "cell_type": "markdown",
      "metadata": {
        "id": "view-in-github",
        "colab_type": "text"
      },
      "source": [
        "<a href=\"https://colab.research.google.com/github/moshemm/NN-methods-hse/blob/main/CNN_HW2_2.ipynb\" target=\"_parent\"><img src=\"https://colab.research.google.com/assets/colab-badge.svg\" alt=\"Open In Colab\"/></a>"
      ]
    },
    {
      "cell_type": "markdown",
      "source": [
        "Комбинация эмбеддингов и символьных признаков: У этой модели два входа, один для эмбеддингов слов (предобученных или обучаемых - я взяла предобученные, так как датасет маленький и эмбеддингам не хватает данных, чтобы обучиться + попрактиковаться в предобученных эмб.), из них берем max или mean, делаем вектор для предложения, поверх линейный слой - получаем вектор X. Другой вход сети для символьного представления слов (это обучаемый Embedding слой, он будет брать на вход batch_size x symbols_len и сопоставлять каждому символу в каждом слове один эмбеддинг). Следующий слой сверточный, примените фильтры разных размеров. Результаты агрегируются с помощью max pooling over time и полученные векторы конкатенируются с вектором X. "
      ],
      "metadata": {
        "id": "0mN23sC-LZSU"
      }
    },
    {
      "cell_type": "markdown",
      "source": [
        "Combination of embeddings and character features: This model has two inputs, one for word embeddings (pre-trained or trainable - I took pre-trained ones, since the dataset is small and embeddings do not have enough data to get trained + practice pre-trained embeddings), we take max or mean, make a vector for the sentence, on top of a linear layer - we get a vector X. \n",
        "\n",
        "Another network input for the character representation of words (this is a trained Embedding layer, it will take batch_size x symbols_len as input and match each symbol in each word with one embedding). The next layer is convolutional, apply filters of different sizes. The results are aggregated using max pooling over time and the resulting vectors are concatenated with the X vector."
      ],
      "metadata": {
        "id": "DRZfUJI-Be9H"
      }
    },
    {
      "cell_type": "markdown",
      "source": [
        "## Импорты и загрузка датасета"
      ],
      "metadata": {
        "id": "hiCBpAwBXwjQ"
      }
    },
    {
      "cell_type": "code",
      "execution_count": 284,
      "metadata": {
        "id": "GLnxvMYQGWHX"
      },
      "outputs": [],
      "source": [
        "!pip install torchmetrics -q\n",
        "!pip install datasets -q"
      ]
    },
    {
      "cell_type": "code",
      "source": [
        "!pip install ipdb -q"
      ],
      "metadata": {
        "id": "cNZHGzVgGs8M"
      },
      "execution_count": 285,
      "outputs": []
    },
    {
      "cell_type": "code",
      "source": [
        "import pandas as pd\n",
        "import numpy as np\n",
        "from string import punctuation\n",
        "from collections import Counter\n",
        "import re\n",
        "from nltk.tokenize import TweetTokenizer\n",
        "from tqdm import tqdm\n",
        "import gensim\n",
        "\n",
        "from datasets import load_dataset\n",
        "from sklearn.model_selection import train_test_split\n",
        "from sklearn.utils import shuffle\n",
        "import torch\n",
        "import torch.nn as nn\n",
        "import torch.nn.functional as F\n",
        "from torch.utils.data import Dataset, DataLoader, RandomSampler, SequentialSampler\n",
        "from torch.nn.utils.rnn import pad_sequence\n",
        "import torch.optim as optim\n",
        "from torchmetrics import F1Score as F1\n",
        "from torchmetrics.functional import f1_score as f1\n",
        "from torchmetrics.functional import recall\n",
        "import ipdb\n",
        "import seaborn as sns\n",
        "import matplotlib.pyplot as plt\n",
        "%matplotlib inline"
      ],
      "metadata": {
        "id": "yzfv4EoGGa5e"
      },
      "execution_count": 286,
      "outputs": []
    },
    {
      "cell_type": "code",
      "source": [
        "corpus = load_dataset('cedr')"
      ],
      "metadata": {
        "colab": {
          "base_uri": "https://localhost:8080/",
          "height": 103,
          "referenced_widgets": [
            "5a4f8f9003cd4b509d5e94c9af2717eb",
            "1fdff7ecd64c44b1a60216ae65b10248",
            "3a251ea2a2a34194b4262889ee8f902f",
            "6684b1e925a340799469f341bbb14229",
            "a16e012e185643aea8c4a24d7e5aa5ed",
            "b9121b66edc945e399bcd4a4400520aa",
            "697f8c16b6494311a64a3f330cc213d1",
            "e5adac7f4e90458cbd426799bcbcab7a",
            "25146f062878430fbe53fe15757bef79",
            "27c6e86875bb44b0a5e218cdeebc1d4a",
            "0435df6f359a4159ae645fa500aa319e"
          ]
        },
        "id": "cEyor1neGxcW",
        "outputId": "6c6a9c47-2798-45a8-f20e-d4946b17cfb2"
      },
      "execution_count": 287,
      "outputs": [
        {
          "output_type": "stream",
          "name": "stderr",
          "text": [
            "No config specified, defaulting to: cedr/main\n",
            "Reusing dataset cedr (/root/.cache/huggingface/datasets/cedr/main/0.1.1/117570489cbabbdf8de619bd31918a1cd680a7f286b89d04af340d0691dc2d66)\n"
          ]
        },
        {
          "output_type": "display_data",
          "data": {
            "text/plain": [
              "  0%|          | 0/2 [00:00<?, ?it/s]"
            ],
            "application/vnd.jupyter.widget-view+json": {
              "version_major": 2,
              "version_minor": 0,
              "model_id": "5a4f8f9003cd4b509d5e94c9af2717eb"
            }
          },
          "metadata": {}
        }
      ]
    },
    {
      "cell_type": "markdown",
      "source": [
        "## Датасет"
      ],
      "metadata": {
        "id": "F9qNUIzXX3M6"
      }
    },
    {
      "cell_type": "code",
      "source": [
        "corpus"
      ],
      "metadata": {
        "colab": {
          "base_uri": "https://localhost:8080/"
        },
        "id": "xH8KX0KSHMxN",
        "outputId": "53620dc0-9876-46a1-85f2-507bfed7be76"
      },
      "execution_count": 288,
      "outputs": [
        {
          "output_type": "execute_result",
          "data": {
            "text/plain": [
              "DatasetDict({\n",
              "    train: Dataset({\n",
              "        features: ['text', 'labels', 'source'],\n",
              "        num_rows: 7528\n",
              "    })\n",
              "    test: Dataset({\n",
              "        features: ['text', 'labels', 'source'],\n",
              "        num_rows: 1882\n",
              "    })\n",
              "})"
            ]
          },
          "metadata": {},
          "execution_count": 288
        }
      ]
    },
    {
      "cell_type": "code",
      "source": [
        "corpus['train'][:10]"
      ],
      "metadata": {
        "colab": {
          "base_uri": "https://localhost:8080/"
        },
        "id": "FRQD23btHanQ",
        "outputId": "9bbc072b-6510-41cb-919c-8f942de6f1b2"
      },
      "execution_count": 289,
      "outputs": [
        {
          "output_type": "execute_result",
          "data": {
            "text/plain": [
              "{'labels': [[], [], [2], [0], [], [3], [1], [1], [0], [1]],\n",
              " 'source': ['lj',\n",
              "  'lenta',\n",
              "  'lj',\n",
              "  'twitter',\n",
              "  'lenta',\n",
              "  'lenta',\n",
              "  'lj',\n",
              "  'twitter',\n",
              "  'twitter',\n",
              "  'twitter'],\n",
              " 'text': ['Суровый гималайский медведь .',\n",
              "  'Так, обнаружено несколько проблем с дисплеем (выгорание, странные зеленые полосы), дефекты динамика и некорректная работа Face ID.',\n",
              "  'У меня остается только один вопрос - является ли этот приступ отчаяния ( а точнее приступ удивления , почему мне не становится лучше , почему мне ничего не помогает ) еще одним испытанием ?',\n",
              "  'Забавно как люди в возрасте удивляются входящим звонкам на мобильник)',\n",
              "  'Издание The Register отмечает, что у владельцев гаджетов пока нет повода для паники из-за уязвимости батареи, потому что пока атака остается лишь теорией, которую попытались проверить ученые.',\n",
              "  'Мы в ужасе от того, что на этот раз был убит человек.',\n",
              "  'Все они , к сожалению , для школьников или просто детей .',\n",
              "  'Кому они так необходимы, эти страдания?» А у меня спина болит, ходить больно :(',\n",
              "  '/ С этим удивительным и снежным утром!',\n",
              "  'Хотя что душой кривить все уже достало(((: У тебя тоже не фарт?']}"
            ]
          },
          "metadata": {},
          "execution_count": 289
        }
      ]
    },
    {
      "cell_type": "markdown",
      "source": [
        "Этот датасет я использовала, когда работала с MLP, но перцентрону было слишком сложно. Попробуем предсказать эмоции (тут чуть сложнее, чем просто позитивный/негативный:  {0: \"joy\", 1: \"sadness\", 2: \"surprise\", 3: \"fear\", 4: \"anger\"})"
      ],
      "metadata": {
        "id": "eyFymDvWMOrw"
      }
    },
    {
      "cell_type": "code",
      "source": [
        "from collections import Counter\n",
        "\n",
        "labels = [label[0] for label in corpus['train']['labels'] if len(label) == 1]\n",
        "cnt_labels = Counter(labels)\n",
        "\n",
        "sns.countplot(labels);\n",
        "plt.xlabel('Emotions: {0: \"joy\", 1: \"sadness\", 2: \"surprise\", 3: \"fear\", 4: \"anger\"}')"
      ],
      "metadata": {
        "colab": {
          "base_uri": "https://localhost:8080/",
          "height": 350
        },
        "id": "GXCveReCM6wL",
        "outputId": "08e4f573-9f50-4348-a725-1f1ac4392e4a"
      },
      "execution_count": 290,
      "outputs": [
        {
          "output_type": "stream",
          "name": "stderr",
          "text": [
            "/usr/local/lib/python3.7/dist-packages/seaborn/_decorators.py:43: FutureWarning: Pass the following variable as a keyword arg: x. From version 0.12, the only valid positional argument will be `data`, and passing other arguments without an explicit keyword will result in an error or misinterpretation.\n",
            "  FutureWarning\n"
          ]
        },
        {
          "output_type": "execute_result",
          "data": {
            "text/plain": [
              "Text(0.5, 0, 'Emotions: {0: \"joy\", 1: \"sadness\", 2: \"surprise\", 3: \"fear\", 4: \"anger\"}')"
            ]
          },
          "metadata": {},
          "execution_count": 290
        },
        {
          "output_type": "display_data",
          "data": {
            "text/plain": [
              "<Figure size 432x288 with 1 Axes>"
            ],
            "image/png": "[encoded data removed]"
          },
          "metadata": {
            "needs_background": "light"
          }
        }
      ]
    },
    {
      "cell_type": "markdown",
      "source": [
        "возьмем только те тексты, у которых размечена одна эмоция"
      ],
      "metadata": {
        "id": "67d2WjJINgVD"
      }
    },
    {
      "cell_type": "code",
      "source": [
        "texts = list()\n",
        "labels = list()\n",
        "\n",
        "for text, label in zip(corpus['train']['text'], corpus['train']['labels']):\n",
        "    if len(label) == 1:\n",
        "        texts.append(text)\n",
        "        labels.append(label[0])\n",
        "        \n",
        "len(texts)"
      ],
      "metadata": {
        "colab": {
          "base_uri": "https://localhost:8080/"
        },
        "id": "RInerOFLJo_t",
        "outputId": "2d37cbba-0dc4-4b44-c08f-06706e9da50a"
      },
      "execution_count": 291,
      "outputs": [
        {
          "output_type": "execute_result",
          "data": {
            "text/plain": [
              "4378"
            ]
          },
          "metadata": {},
          "execution_count": 291
        }
      ]
    },
    {
      "cell_type": "markdown",
      "source": [
        "## Preprocessing"
      ],
      "metadata": {
        "id": "ZhINxHEvN75H"
      }
    },
    {
      "cell_type": "code",
      "source": [
        "from nltk.tokenize import word_tokenize\n",
        "import nltk\n",
        "nltk.download('punkt')\n",
        "from tqdm import tqdm"
      ],
      "metadata": {
        "colab": {
          "base_uri": "https://localhost:8080/"
        },
        "id": "LBm-QT5ZJ2-v",
        "outputId": "ef4c2281-920c-4010-a065-0cb0fbf81605"
      },
      "execution_count": 292,
      "outputs": [
        {
          "output_type": "stream",
          "name": "stderr",
          "text": [
            "[nltk_data] Downloading package punkt to /root/nltk_data...\n",
            "[nltk_data]   Package punkt is already up-to-date!\n"
          ]
        }
      ]
    },
    {
      "cell_type": "code",
      "source": [
        "def preprocess(text):\n",
        "    tokens = word_tokenize(text.lower())\n",
        "    return tokens"
      ],
      "metadata": {
        "id": "bGCMoG-lN_yo"
      },
      "execution_count": 293,
      "outputs": []
    },
    {
      "cell_type": "markdown",
      "source": [
        "Проверим, побьет ли токенизатор пунктуаторы (их нет в предобученных эмбеддингах)"
      ],
      "metadata": {
        "id": "N5AD4UE1NIbM"
      }
    },
    {
      "cell_type": "code",
      "source": [
        "print(word_tokenize('!!)) :))) !!!'))"
      ],
      "metadata": {
        "colab": {
          "base_uri": "https://localhost:8080/"
        },
        "id": "xhyCt2K7NDDT",
        "outputId": "c721ab8a-a438-4bf6-f670-4c5b2b0532fb"
      },
      "execution_count": 294,
      "outputs": [
        {
          "output_type": "stream",
          "name": "stdout",
          "text": [
            "['!', '!', ')', ')', ':', ')', ')', ')', '!', '!', '!']\n"
          ]
        }
      ]
    },
    {
      "cell_type": "code",
      "source": [
        "vocab = Counter()\n",
        "\n",
        "for text in texts:\n",
        "    vocab.update(preprocess(text))\n",
        "\n",
        "print('всего уникальных токенов:', len(vocab))"
      ],
      "metadata": {
        "id": "AwhrlcrsPPtX",
        "colab": {
          "base_uri": "https://localhost:8080/"
        },
        "outputId": "96cc8d63-347f-421c-ac34-e76869d0fc71"
      },
      "execution_count": 295,
      "outputs": [
        {
          "output_type": "stream",
          "name": "stdout",
          "text": [
            "всего уникальных токенов: 15665\n"
          ]
        }
      ]
    },
    {
      "cell_type": "markdown",
      "source": [
        "Для удобства сделаем DataFrame + с ним быстрее работать"
      ],
      "metadata": {
        "id": "mvckx07aObA3"
      }
    },
    {
      "cell_type": "code",
      "source": [
        "data = pd.DataFrame(list(zip(texts, labels)), columns=['text', 'label'])\n",
        "data.head()"
      ],
      "metadata": {
        "colab": {
          "base_uri": "https://localhost:8080/",
          "height": 204
        },
        "id": "p3O9KRvwshAt",
        "outputId": "bdf631d9-cc39-4539-ea37-455c6d564609"
      },
      "execution_count": 296,
      "outputs": [
        {
          "output_type": "execute_result",
          "data": {
            "text/plain": [
              "                                                text  label\n",
              "0  У меня остается только один вопрос - является ...      2\n",
              "1  Забавно как люди в возрасте удивляются входящи...      0\n",
              "2  Мы в ужасе от того, что на этот раз был убит ч...      3\n",
              "3  Все они , к сожалению , для школьников или про...      1\n",
              "4  Кому они так необходимы, эти страдания?» А у м...      1"
            ],
            "text/html": [
              "\n",
              "  <div id=\"df-a8c8a18b-e5a1-4bd9-98f4-9c2bb9408133\">\n",
              "    <div class=\"colab-df-container\">\n",
              "      <div>\n",
              "<style scoped>\n",
              "    .dataframe tbody tr th:only-of-type {\n",
              "        vertical-align: middle;\n",
              "    }\n",
              "\n",
              "    .dataframe tbody tr th {\n",
              "        vertical-align: top;\n",
              "    }\n",
              "\n",
              "    .dataframe thead th {\n",
              "        text-align: right;\n",
              "    }\n",
              "</style>\n",
              "<table border=\"1\" class=\"dataframe\">\n",
              "  <thead>\n",
              "    <tr style=\"text-align: right;\">\n",
              "      <th></th>\n",
              "      <th>text</th>\n",
              "      <th>label</th>\n",
              "    </tr>\n",
              "  </thead>\n",
              "  <tbody>\n",
              "    <tr>\n",
              "      <th>0</th>\n",
              "      <td>У меня остается только один вопрос - является ...</td>\n",
              "      <td>2</td>\n",
              "    </tr>\n",
              "    <tr>\n",
              "      <th>1</th>\n",
              "      <td>Забавно как люди в возрасте удивляются входящи...</td>\n",
              "      <td>0</td>\n",
              "    </tr>\n",
              "    <tr>\n",
              "      <th>2</th>\n",
              "      <td>Мы в ужасе от того, что на этот раз был убит ч...</td>\n",
              "      <td>3</td>\n",
              "    </tr>\n",
              "    <tr>\n",
              "      <th>3</th>\n",
              "      <td>Все они , к сожалению , для школьников или про...</td>\n",
              "      <td>1</td>\n",
              "    </tr>\n",
              "    <tr>\n",
              "      <th>4</th>\n",
              "      <td>Кому они так необходимы, эти страдания?» А у м...</td>\n",
              "      <td>1</td>\n",
              "    </tr>\n",
              "  </tbody>\n",
              "</table>\n",
              "</div>\n",
              "      <button class=\"colab-df-convert\" onclick=\"convertToInteractive('df-a8c8a18b-e5a1-4bd9-98f4-9c2bb9408133')\"\n",
              "              title=\"Convert this dataframe to an interactive table.\"\n",
              "              style=\"display:none;\">\n",
              "        \n",
              "  <svg xmlns=\"http://www.w3.org/2000/svg\" height=\"24px\"viewBox=\"0 0 24 24\"\n",
              "       width=\"24px\">\n",
              "    <path d=\"M0 0h24v24H0V0z\" fill=\"none\"/>\n",
              "    <path d=\"M18.56 5.44l.94 2.06.94-2.06 2.06-.94-2.06-.94-.94-2.06-.94 2.06-2.06.94zm-11 1L8.5 8.5l.94-2.06 2.06-.94-2.06-.94L8.5 2.5l-.94 2.06-2.06.94zm10 10l.94 2.06.94-2.06 2.06-.94-2.06-.94-.94-2.06-.94 2.06-2.06.94z\"/><path d=\"M17.41 7.96l-1.37-1.37c-.4-.4-.92-.59-1.43-.59-.52 0-1.04.2-1.43.59L10.3 9.45l-7.72 7.72c-.78.78-.78 2.05 0 2.83L4 21.41c.39.39.9.59 1.41.59.51 0 1.02-.2 1.41-.59l7.78-7.78 2.81-2.81c.8-.78.8-2.07 0-2.86zM5.41 20L4 18.59l7.72-7.72 1.47 1.35L5.41 20z\"/>\n",
              "  </svg>\n",
              "      </button>\n",
              "      \n",
              "  <style>\n",
              "    .colab-df-container {\n",
              "      display:flex;\n",
              "      flex-wrap:wrap;\n",
              "      gap: 12px;\n",
              "    }\n",
              "\n",
              "    .colab-df-convert {\n",
              "      background-color: #E8F0FE;\n",
              "      border: none;\n",
              "      border-radius: 50%;\n",
              "      cursor: pointer;\n",
              "      display: none;\n",
              "      fill: #1967D2;\n",
              "      height: 32px;\n",
              "      padding: 0 0 0 0;\n",
              "      width: 32px;\n",
              "    }\n",
              "\n",
              "    .colab-df-convert:hover {\n",
              "      background-color: #E2EBFA;\n",
              "      box-shadow: 0px 1px 2px rgba(60, 64, 67, 0.3), 0px 1px 3px 1px rgba(60, 64, 67, 0.15);\n",
              "      fill: #174EA6;\n",
              "    }\n",
              "\n",
              "    [theme=dark] .colab-df-convert {\n",
              "      background-color: #3B4455;\n",
              "      fill: #D2E3FC;\n",
              "    }\n",
              "\n",
              "    [theme=dark] .colab-df-convert:hover {\n",
              "      background-color: #434B5C;\n",
              "      box-shadow: 0px 1px 3px 1px rgba(0, 0, 0, 0.15);\n",
              "      filter: drop-shadow(0px 1px 2px rgba(0, 0, 0, 0.3));\n",
              "      fill: #FFFFFF;\n",
              "    }\n",
              "  </style>\n",
              "\n",
              "      <script>\n",
              "        const buttonEl =\n",
              "          document.querySelector('#df-a8c8a18b-e5a1-4bd9-98f4-9c2bb9408133 button.colab-df-convert');\n",
              "        buttonEl.style.display =\n",
              "          google.colab.kernel.accessAllowed ? 'block' : 'none';\n",
              "\n",
              "        async function convertToInteractive(key) {\n",
              "          const element = document.querySelector('#df-a8c8a18b-e5a1-4bd9-98f4-9c2bb9408133');\n",
              "          const dataTable =\n",
              "            await google.colab.kernel.invokeFunction('convertToInteractive',\n",
              "                                                     [key], {});\n",
              "          if (!dataTable) return;\n",
              "\n",
              "          const docLinkHtml = 'Like what you see? Visit the ' +\n",
              "            '<a target=\"_blank\" href=https://colab.research.google.com/notebooks/data_table.ipynb>data table notebook</a>'\n",
              "            + ' to learn more about interactive tables.';\n",
              "          element.innerHTML = '';\n",
              "          dataTable['output_type'] = 'display_data';\n",
              "          await google.colab.output.renderOutput(dataTable, element);\n",
              "          const docLink = document.createElement('div');\n",
              "          docLink.innerHTML = docLinkHtml;\n",
              "          element.appendChild(docLink);\n",
              "        }\n",
              "      </script>\n",
              "    </div>\n",
              "  </div>\n",
              "  "
            ]
          },
          "metadata": {},
          "execution_count": 296
        }
      ]
    },
    {
      "cell_type": "code",
      "source": [
        "data['tokenized'] = data['text'].apply(preprocess)\n",
        "data.sample(10)"
      ],
      "metadata": {
        "colab": {
          "base_uri": "https://localhost:8080/",
          "height": 359
        },
        "id": "T9Xce0IXVTRy",
        "outputId": "5a55c2a7-427f-4d46-a570-2eccc61193ee"
      },
      "execution_count": 297,
      "outputs": [
        {
          "output_type": "execute_result",
          "data": {
            "text/plain": [
              "                                                   text  label  \\\n",
              "497   Ну соком наверно тогда, если после него.. Ужас...      1   \n",
              "3158  Сегодня странный день, всё ломается, разбивает...      1   \n",
              "745      Обилие кнопок пугает только на первый взгляд .      3   \n",
              "3190  Я настолько чего-то боюсь, что сейчас съем все...      3   \n",
              "2575           Я умру на глазах у злобного петросяна :D      0   \n",
              "4029  Мы сидели у меня в подьезде т.к. я малыми дома...      0   \n",
              "3631  идите нахуй мне его жалко я тогда на мамку зли...      4   \n",
              "2587  Боюсь подумать , что еще может случиться со мн...      3   \n",
              "1706                                    Она посмеялась.      0   \n",
              "3663  Язва желудка - это более чем просто страх , чу...      3   \n",
              "\n",
              "                                              tokenized  \n",
              "497   [ну, соком, наверно, тогда, ,, если, после, не...  \n",
              "3158  [сегодня, странный, день, ,, всё, ломается, ,,...  \n",
              "745   [обилие, кнопок, пугает, только, на, первый, в...  \n",
              "3190  [я, настолько, чего-то, боюсь, ,, что, сейчас,...  \n",
              "2575  [я, умру, на, глазах, у, злобного, петросяна, ...  \n",
              "4029  [мы, сидели, у, меня, в, подьезде, т.к, ., я, ...  \n",
              "3631  [идите, нахуй, мне, его, жалко, я, тогда, на, ...  \n",
              "2587  [боюсь, подумать, ,, что, еще, может, случитьс...  \n",
              "1706                               [она, посмеялась, .]  \n",
              "3663  [язва, желудка, -, это, более, чем, просто, ст...  "
            ],
            "text/html": [
              "\n",
              "  <div id=\"df-fbb409ad-e77e-443d-9e86-0222f4567c88\">\n",
              "    <div class=\"colab-df-container\">\n",
              "      <div>\n",
              "<style scoped>\n",
              "    .dataframe tbody tr th:only-of-type {\n",
              "        vertical-align: middle;\n",
              "    }\n",
              "\n",
              "    .dataframe tbody tr th {\n",
              "        vertical-align: top;\n",
              "    }\n",
              "\n",
              "    .dataframe thead th {\n",
              "        text-align: right;\n",
              "    }\n",
              "</style>\n",
              "<table border=\"1\" class=\"dataframe\">\n",
              "  <thead>\n",
              "    <tr style=\"text-align: right;\">\n",
              "      <th></th>\n",
              "      <th>text</th>\n",
              "      <th>label</th>\n",
              "      <th>tokenized</th>\n",
              "    </tr>\n",
              "  </thead>\n",
              "  <tbody>\n",
              "    <tr>\n",
              "      <th>497</th>\n",
              "      <td>Ну соком наверно тогда, если после него.. Ужас...</td>\n",
              "      <td>1</td>\n",
              "      <td>[ну, соком, наверно, тогда, ,, если, после, не...</td>\n",
              "    </tr>\n",
              "    <tr>\n",
              "      <th>3158</th>\n",
              "      <td>Сегодня странный день, всё ломается, разбивает...</td>\n",
              "      <td>1</td>\n",
              "      <td>[сегодня, странный, день, ,, всё, ломается, ,,...</td>\n",
              "    </tr>\n",
              "    <tr>\n",
              "      <th>745</th>\n",
              "      <td>Обилие кнопок пугает только на первый взгляд .</td>\n",
              "      <td>3</td>\n",
              "      <td>[обилие, кнопок, пугает, только, на, первый, в...</td>\n",
              "    </tr>\n",
              "    <tr>\n",
              "      <th>3190</th>\n",
              "      <td>Я настолько чего-то боюсь, что сейчас съем все...</td>\n",
              "      <td>3</td>\n",
              "      <td>[я, настолько, чего-то, боюсь, ,, что, сейчас,...</td>\n",
              "    </tr>\n",
              "    <tr>\n",
              "      <th>2575</th>\n",
              "      <td>Я умру на глазах у злобного петросяна :D</td>\n",
              "      <td>0</td>\n",
              "      <td>[я, умру, на, глазах, у, злобного, петросяна, ...</td>\n",
              "    </tr>\n",
              "    <tr>\n",
              "      <th>4029</th>\n",
              "      <td>Мы сидели у меня в подьезде т.к. я малыми дома...</td>\n",
              "      <td>0</td>\n",
              "      <td>[мы, сидели, у, меня, в, подьезде, т.к, ., я, ...</td>\n",
              "    </tr>\n",
              "    <tr>\n",
              "      <th>3631</th>\n",
              "      <td>идите нахуй мне его жалко я тогда на мамку зли...</td>\n",
              "      <td>4</td>\n",
              "      <td>[идите, нахуй, мне, его, жалко, я, тогда, на, ...</td>\n",
              "    </tr>\n",
              "    <tr>\n",
              "      <th>2587</th>\n",
              "      <td>Боюсь подумать , что еще может случиться со мн...</td>\n",
              "      <td>3</td>\n",
              "      <td>[боюсь, подумать, ,, что, еще, может, случитьс...</td>\n",
              "    </tr>\n",
              "    <tr>\n",
              "      <th>1706</th>\n",
              "      <td>Она посмеялась.</td>\n",
              "      <td>0</td>\n",
              "      <td>[она, посмеялась, .]</td>\n",
              "    </tr>\n",
              "    <tr>\n",
              "      <th>3663</th>\n",
              "      <td>Язва желудка - это более чем просто страх , чу...</td>\n",
              "      <td>3</td>\n",
              "      <td>[язва, желудка, -, это, более, чем, просто, ст...</td>\n",
              "    </tr>\n",
              "  </tbody>\n",
              "</table>\n",
              "</div>\n",
              "      <button class=\"colab-df-convert\" onclick=\"convertToInteractive('df-fbb409ad-e77e-443d-9e86-0222f4567c88')\"\n",
              "              title=\"Convert this dataframe to an interactive table.\"\n",
              "              style=\"display:none;\">\n",
              "        \n",
              "  <svg xmlns=\"http://www.w3.org/2000/svg\" height=\"24px\"viewBox=\"0 0 24 24\"\n",
              "       width=\"24px\">\n",
              "    <path d=\"M0 0h24v24H0V0z\" fill=\"none\"/>\n",
              "    <path d=\"M18.56 5.44l.94 2.06.94-2.06 2.06-.94-2.06-.94-.94-2.06-.94 2.06-2.06.94zm-11 1L8.5 8.5l.94-2.06 2.06-.94-2.06-.94L8.5 2.5l-.94 2.06-2.06.94zm10 10l.94 2.06.94-2.06 2.06-.94-2.06-.94-.94-2.06-.94 2.06-2.06.94z\"/><path d=\"M17.41 7.96l-1.37-1.37c-.4-.4-.92-.59-1.43-.59-.52 0-1.04.2-1.43.59L10.3 9.45l-7.72 7.72c-.78.78-.78 2.05 0 2.83L4 21.41c.39.39.9.59 1.41.59.51 0 1.02-.2 1.41-.59l7.78-7.78 2.81-2.81c.8-.78.8-2.07 0-2.86zM5.41 20L4 18.59l7.72-7.72 1.47 1.35L5.41 20z\"/>\n",
              "  </svg>\n",
              "      </button>\n",
              "      \n",
              "  <style>\n",
              "    .colab-df-container {\n",
              "      display:flex;\n",
              "      flex-wrap:wrap;\n",
              "      gap: 12px;\n",
              "    }\n",
              "\n",
              "    .colab-df-convert {\n",
              "      background-color: #E8F0FE;\n",
              "      border: none;\n",
              "      border-radius: 50%;\n",
              "      cursor: pointer;\n",
              "      display: none;\n",
              "      fill: #1967D2;\n",
              "      height: 32px;\n",
              "      padding: 0 0 0 0;\n",
              "      width: 32px;\n",
              "    }\n",
              "\n",
              "    .colab-df-convert:hover {\n",
              "      background-color: #E2EBFA;\n",
              "      box-shadow: 0px 1px 2px rgba(60, 64, 67, 0.3), 0px 1px 3px 1px rgba(60, 64, 67, 0.15);\n",
              "      fill: #174EA6;\n",
              "    }\n",
              "\n",
              "    [theme=dark] .colab-df-convert {\n",
              "      background-color: #3B4455;\n",
              "      fill: #D2E3FC;\n",
              "    }\n",
              "\n",
              "    [theme=dark] .colab-df-convert:hover {\n",
              "      background-color: #434B5C;\n",
              "      box-shadow: 0px 1px 3px 1px rgba(0, 0, 0, 0.15);\n",
              "      filter: drop-shadow(0px 1px 2px rgba(0, 0, 0, 0.3));\n",
              "      fill: #FFFFFF;\n",
              "    }\n",
              "  </style>\n",
              "\n",
              "      <script>\n",
              "        const buttonEl =\n",
              "          document.querySelector('#df-fbb409ad-e77e-443d-9e86-0222f4567c88 button.colab-df-convert');\n",
              "        buttonEl.style.display =\n",
              "          google.colab.kernel.accessAllowed ? 'block' : 'none';\n",
              "\n",
              "        async function convertToInteractive(key) {\n",
              "          const element = document.querySelector('#df-fbb409ad-e77e-443d-9e86-0222f4567c88');\n",
              "          const dataTable =\n",
              "            await google.colab.kernel.invokeFunction('convertToInteractive',\n",
              "                                                     [key], {});\n",
              "          if (!dataTable) return;\n",
              "\n",
              "          const docLinkHtml = 'Like what you see? Visit the ' +\n",
              "            '<a target=\"_blank\" href=https://colab.research.google.com/notebooks/data_table.ipynb>data table notebook</a>'\n",
              "            + ' to learn more about interactive tables.';\n",
              "          element.innerHTML = '';\n",
              "          dataTable['output_type'] = 'display_data';\n",
              "          await google.colab.output.renderOutput(dataTable, element);\n",
              "          const docLink = document.createElement('div');\n",
              "          docLink.innerHTML = docLinkHtml;\n",
              "          element.appendChild(docLink);\n",
              "        }\n",
              "      </script>\n",
              "    </div>\n",
              "  </div>\n",
              "  "
            ]
          },
          "metadata": {},
          "execution_count": 297
        }
      ]
    },
    {
      "cell_type": "markdown",
      "source": [
        "Бьем датасет на трейн, валидацию и тест: мы можем иметь/обучать эмбединги только для токенов, которые встретились в трейне."
      ],
      "metadata": {
        "id": "KtMv6-qAu2Wx"
      }
    },
    {
      "cell_type": "code",
      "source": [
        "train_data, notrain_data = train_test_split(data, test_size=0.2)\n",
        "val_data, test_data = train_test_split(data, test_size=0.5)\n",
        "print(train_data.shape, val_data.shape, test_data.shape)"
      ],
      "metadata": {
        "colab": {
          "base_uri": "https://localhost:8080/"
        },
        "id": "AP7h8acbJ91Z",
        "outputId": "161c6a90-ff85-42a5-bef8-0c042d139ef8"
      },
      "execution_count": 298,
      "outputs": [
        {
          "output_type": "stream",
          "name": "stdout",
          "text": [
            "(3502, 3) (2189, 3) (2189, 3)\n"
          ]
        }
      ]
    },
    {
      "cell_type": "code",
      "source": [
        "print(train_data['label'].value_counts())\n",
        "print(val_data['label'].value_counts())\n",
        "print(test_data['label'].value_counts())"
      ],
      "metadata": {
        "colab": {
          "base_uri": "https://localhost:8080/"
        },
        "id": "BSu47fiWKyfl",
        "outputId": "1145ca5a-364d-4d7a-e328-2c1b06e46eb0"
      },
      "execution_count": 299,
      "outputs": [
        {
          "output_type": "stream",
          "name": "stdout",
          "text": [
            "0    1214\n",
            "1    1096\n",
            "2     458\n",
            "3     436\n",
            "4     298\n",
            "Name: label, dtype: int64\n",
            "0    732\n",
            "1    689\n",
            "2    284\n",
            "3    282\n",
            "4    202\n",
            "Name: label, dtype: int64\n",
            "0    776\n",
            "1    676\n",
            "2    284\n",
            "3    271\n",
            "4    182\n",
            "Name: label, dtype: int64\n"
          ]
        }
      ]
    },
    {
      "cell_type": "code",
      "source": [
        "train_data.sample(10)"
      ],
      "metadata": {
        "colab": {
          "base_uri": "https://localhost:8080/",
          "height": 359
        },
        "id": "nEdho4JNRALK",
        "outputId": "922ecc9f-9a8e-4cda-eef3-a27d9b04fc7c"
      },
      "execution_count": 300,
      "outputs": [
        {
          "output_type": "execute_result",
          "data": {
            "text/plain": [
              "                                                   text  label  \\\n",
              "2354     ,у меня через 2часа сессия((пиздец боюсь((((((      3   \n",
              "3085  самое ужасное чувство - чувство своей \"ненужно...      1   \n",
              "3441                     взгрустнулось, как ни странно.      1   \n",
              "898          мои угрозы никак не действуют на карину :(      1   \n",
              "2303  А хотя..я рада за него) он получил то что хоте...      0   \n",
              "4177  )Я со злости отвечаю: Туда куда мне нужно даже...      4   \n",
              "3030  я в четыре пробила :D сейчас не боялась, но ес...      0   \n",
              "2278  Теперь можно не бояться ни штрафов , ни мамкин...      0   \n",
              "1655        А он его так долго изучал и всё удивлялся .      2   \n",
              "1656     Поэтому она подыхает , поэтому там так жутко .      3   \n",
              "\n",
              "                                              tokenized  \n",
              "2354  [,, у, меня, через, 2часа, сессия, (, (, пизде...  \n",
              "3085  [самое, ужасное, чувство, -, чувство, своей, `...  \n",
              "3441            [взгрустнулось, ,, как, ни, странно, .]  \n",
              "898   [мои, угрозы, никак, не, действуют, на, карину...  \n",
              "2303  [а, хотя, .., я, рада, за, него, ), он, получи...  \n",
              "4177  [), я, со, злости, отвечаю, :, туда, куда, мне...  \n",
              "3030  [я, в, четыре, пробила, :, d, сейчас, не, боял...  \n",
              "2278  [теперь, можно, не, бояться, ни, штрафов, ,, н...  \n",
              "1655  [а, он, его, так, долго, изучал, и, всё, удивл...  \n",
              "1656  [поэтому, она, подыхает, ,, поэтому, там, так,...  "
            ],
            "text/html": [
              "\n",
              "  <div id=\"df-48292e34-6412-4ad1-8e13-a642a3c70a0e\">\n",
              "    <div class=\"colab-df-container\">\n",
              "      <div>\n",
              "<style scoped>\n",
              "    .dataframe tbody tr th:only-of-type {\n",
              "        vertical-align: middle;\n",
              "    }\n",
              "\n",
              "    .dataframe tbody tr th {\n",
              "        vertical-align: top;\n",
              "    }\n",
              "\n",
              "    .dataframe thead th {\n",
              "        text-align: right;\n",
              "    }\n",
              "</style>\n",
              "<table border=\"1\" class=\"dataframe\">\n",
              "  <thead>\n",
              "    <tr style=\"text-align: right;\">\n",
              "      <th></th>\n",
              "      <th>text</th>\n",
              "      <th>label</th>\n",
              "      <th>tokenized</th>\n",
              "    </tr>\n",
              "  </thead>\n",
              "  <tbody>\n",
              "    <tr>\n",
              "      <th>2354</th>\n",
              "      <td>,у меня через 2часа сессия((пиздец боюсь((((((</td>\n",
              "      <td>3</td>\n",
              "      <td>[,, у, меня, через, 2часа, сессия, (, (, пизде...</td>\n",
              "    </tr>\n",
              "    <tr>\n",
              "      <th>3085</th>\n",
              "      <td>самое ужасное чувство - чувство своей \"ненужно...</td>\n",
              "      <td>1</td>\n",
              "      <td>[самое, ужасное, чувство, -, чувство, своей, `...</td>\n",
              "    </tr>\n",
              "    <tr>\n",
              "      <th>3441</th>\n",
              "      <td>взгрустнулось, как ни странно.</td>\n",
              "      <td>1</td>\n",
              "      <td>[взгрустнулось, ,, как, ни, странно, .]</td>\n",
              "    </tr>\n",
              "    <tr>\n",
              "      <th>898</th>\n",
              "      <td>мои угрозы никак не действуют на карину :(</td>\n",
              "      <td>1</td>\n",
              "      <td>[мои, угрозы, никак, не, действуют, на, карину...</td>\n",
              "    </tr>\n",
              "    <tr>\n",
              "      <th>2303</th>\n",
              "      <td>А хотя..я рада за него) он получил то что хоте...</td>\n",
              "      <td>0</td>\n",
              "      <td>[а, хотя, .., я, рада, за, него, ), он, получи...</td>\n",
              "    </tr>\n",
              "    <tr>\n",
              "      <th>4177</th>\n",
              "      <td>)Я со злости отвечаю: Туда куда мне нужно даже...</td>\n",
              "      <td>4</td>\n",
              "      <td>[), я, со, злости, отвечаю, :, туда, куда, мне...</td>\n",
              "    </tr>\n",
              "    <tr>\n",
              "      <th>3030</th>\n",
              "      <td>я в четыре пробила :D сейчас не боялась, но ес...</td>\n",
              "      <td>0</td>\n",
              "      <td>[я, в, четыре, пробила, :, d, сейчас, не, боял...</td>\n",
              "    </tr>\n",
              "    <tr>\n",
              "      <th>2278</th>\n",
              "      <td>Теперь можно не бояться ни штрафов , ни мамкин...</td>\n",
              "      <td>0</td>\n",
              "      <td>[теперь, можно, не, бояться, ни, штрафов, ,, н...</td>\n",
              "    </tr>\n",
              "    <tr>\n",
              "      <th>1655</th>\n",
              "      <td>А он его так долго изучал и всё удивлялся .</td>\n",
              "      <td>2</td>\n",
              "      <td>[а, он, его, так, долго, изучал, и, всё, удивл...</td>\n",
              "    </tr>\n",
              "    <tr>\n",
              "      <th>1656</th>\n",
              "      <td>Поэтому она подыхает , поэтому там так жутко .</td>\n",
              "      <td>3</td>\n",
              "      <td>[поэтому, она, подыхает, ,, поэтому, там, так,...</td>\n",
              "    </tr>\n",
              "  </tbody>\n",
              "</table>\n",
              "</div>\n",
              "      <button class=\"colab-df-convert\" onclick=\"convertToInteractive('df-48292e34-6412-4ad1-8e13-a642a3c70a0e')\"\n",
              "              title=\"Convert this dataframe to an interactive table.\"\n",
              "              style=\"display:none;\">\n",
              "        \n",
              "  <svg xmlns=\"http://www.w3.org/2000/svg\" height=\"24px\"viewBox=\"0 0 24 24\"\n",
              "       width=\"24px\">\n",
              "    <path d=\"M0 0h24v24H0V0z\" fill=\"none\"/>\n",
              "    <path d=\"M18.56 5.44l.94 2.06.94-2.06 2.06-.94-2.06-.94-.94-2.06-.94 2.06-2.06.94zm-11 1L8.5 8.5l.94-2.06 2.06-.94-2.06-.94L8.5 2.5l-.94 2.06-2.06.94zm10 10l.94 2.06.94-2.06 2.06-.94-2.06-.94-.94-2.06-.94 2.06-2.06.94z\"/><path d=\"M17.41 7.96l-1.37-1.37c-.4-.4-.92-.59-1.43-.59-.52 0-1.04.2-1.43.59L10.3 9.45l-7.72 7.72c-.78.78-.78 2.05 0 2.83L4 21.41c.39.39.9.59 1.41.59.51 0 1.02-.2 1.41-.59l7.78-7.78 2.81-2.81c.8-.78.8-2.07 0-2.86zM5.41 20L4 18.59l7.72-7.72 1.47 1.35L5.41 20z\"/>\n",
              "  </svg>\n",
              "      </button>\n",
              "      \n",
              "  <style>\n",
              "    .colab-df-container {\n",
              "      display:flex;\n",
              "      flex-wrap:wrap;\n",
              "      gap: 12px;\n",
              "    }\n",
              "\n",
              "    .colab-df-convert {\n",
              "      background-color: #E8F0FE;\n",
              "      border: none;\n",
              "      border-radius: 50%;\n",
              "      cursor: pointer;\n",
              "      display: none;\n",
              "      fill: #1967D2;\n",
              "      height: 32px;\n",
              "      padding: 0 0 0 0;\n",
              "      width: 32px;\n",
              "    }\n",
              "\n",
              "    .colab-df-convert:hover {\n",
              "      background-color: #E2EBFA;\n",
              "      box-shadow: 0px 1px 2px rgba(60, 64, 67, 0.3), 0px 1px 3px 1px rgba(60, 64, 67, 0.15);\n",
              "      fill: #174EA6;\n",
              "    }\n",
              "\n",
              "    [theme=dark] .colab-df-convert {\n",
              "      background-color: #3B4455;\n",
              "      fill: #D2E3FC;\n",
              "    }\n",
              "\n",
              "    [theme=dark] .colab-df-convert:hover {\n",
              "      background-color: #434B5C;\n",
              "      box-shadow: 0px 1px 3px 1px rgba(0, 0, 0, 0.15);\n",
              "      filter: drop-shadow(0px 1px 2px rgba(0, 0, 0, 0.3));\n",
              "      fill: #FFFFFF;\n",
              "    }\n",
              "  </style>\n",
              "\n",
              "      <script>\n",
              "        const buttonEl =\n",
              "          document.querySelector('#df-48292e34-6412-4ad1-8e13-a642a3c70a0e button.colab-df-convert');\n",
              "        buttonEl.style.display =\n",
              "          google.colab.kernel.accessAllowed ? 'block' : 'none';\n",
              "\n",
              "        async function convertToInteractive(key) {\n",
              "          const element = document.querySelector('#df-48292e34-6412-4ad1-8e13-a642a3c70a0e');\n",
              "          const dataTable =\n",
              "            await google.colab.kernel.invokeFunction('convertToInteractive',\n",
              "                                                     [key], {});\n",
              "          if (!dataTable) return;\n",
              "\n",
              "          const docLinkHtml = 'Like what you see? Visit the ' +\n",
              "            '<a target=\"_blank\" href=https://colab.research.google.com/notebooks/data_table.ipynb>data table notebook</a>'\n",
              "            + ' to learn more about interactive tables.';\n",
              "          element.innerHTML = '';\n",
              "          dataTable['output_type'] = 'display_data';\n",
              "          await google.colab.output.renderOutput(dataTable, element);\n",
              "          const docLink = document.createElement('div');\n",
              "          docLink.innerHTML = docLinkHtml;\n",
              "          element.appendChild(docLink);\n",
              "        }\n",
              "      </script>\n",
              "    </div>\n",
              "  </div>\n",
              "  "
            ]
          },
          "metadata": {},
          "execution_count": 300
        }
      ]
    },
    {
      "cell_type": "markdown",
      "source": [
        "### Word2id - готовимся к пословному эмбеддинг-слою"
      ],
      "metadata": {
        "id": "lUMViP8Cx6Jm"
      }
    },
    {
      "cell_type": "code",
      "source": [
        "vocab = Counter()\n",
        "\n",
        "for row in train_data.tokenized:\n",
        "  for tok in row:\n",
        "    vocab[tok] += 1\n",
        "\n",
        "print(f'Уникальных слов: {len(vocab)}')"
      ],
      "metadata": {
        "colab": {
          "base_uri": "https://localhost:8080/"
        },
        "id": "Sz3idMvvSLUh",
        "outputId": "f89dbe10-ad52-4e6b-8e15-65d43d011f19"
      },
      "execution_count": 301,
      "outputs": [
        {
          "output_type": "stream",
          "name": "stdout",
          "text": [
            "Уникальных слов: 13207\n"
          ]
        }
      ]
    },
    {
      "cell_type": "code",
      "source": [
        "vocab.most_common(20)"
      ],
      "metadata": {
        "colab": {
          "base_uri": "https://localhost:8080/"
        },
        "id": "RC2EHPSRTzz9",
        "outputId": "5e1ed092-cabd-4230-b8a2-9067f7764363"
      },
      "execution_count": 302,
      "outputs": [
        {
          "output_type": "execute_result",
          "data": {
            "text/plain": [
              "[(',', 4251),\n",
              " ('(', 1853),\n",
              " (')', 1667),\n",
              " ('.', 1520),\n",
              " ('и', 1364),\n",
              " ('не', 1003),\n",
              " ('в', 986),\n",
              " ('я', 965),\n",
              " (':', 956),\n",
              " ('что', 727),\n",
              " ('на', 587),\n",
              " ('!', 467),\n",
              " ('с', 452),\n",
              " ('а', 410),\n",
              " ('это', 374),\n",
              " ('как', 367),\n",
              " ('меня', 330),\n",
              " ('-', 318),\n",
              " ('но', 309),\n",
              " ('...', 279)]"
            ]
          },
          "metadata": {},
          "execution_count": 302
        }
      ]
    },
    {
      "cell_type": "code",
      "source": [
        "filtered_vocab = set()\n",
        "\n",
        "for word in vocab:\n",
        "  if vocab[word] >= 2:\n",
        "    filtered_vocab.add(word)\n",
        "\n",
        "print(f'Слова встретились 2 и больше раз: {len(filtered_vocab)}')"
      ],
      "metadata": {
        "colab": {
          "base_uri": "https://localhost:8080/"
        },
        "id": "_b0JtD7vVz1t",
        "outputId": "3a5692d9-c53e-4bb9-f511-31e525e3c62c"
      },
      "execution_count": 303,
      "outputs": [
        {
          "output_type": "stream",
          "name": "stdout",
          "text": [
            "Слова встретились 2 и больше раз: 3445\n"
          ]
        }
      ]
    },
    {
      "cell_type": "markdown",
      "source": [
        "У нас очень ограниченный набор слов, большая часть (~65%) встречается только 1 раз. Попробуем взять эти 3,500 слов, но, возможно, придется взять предобученные эмбеддинги"
      ],
      "metadata": {
        "id": "aBTvlN_ntgmq"
      }
    },
    {
      "cell_type": "code",
      "source": [
        "word2id = {'PAD': 0,\n",
        "           'UNK': 1}\n",
        "\n",
        "for word in filtered_vocab:\n",
        "  word2id[word] = len(word2id)"
      ],
      "metadata": {
        "id": "zljQyILyWPT9"
      },
      "execution_count": 304,
      "outputs": []
    },
    {
      "cell_type": "code",
      "source": [
        "id2word = {idx:word for word, idx in word2id.items()}"
      ],
      "metadata": {
        "id": "z6Pvs0WzW5NR"
      },
      "execution_count": 305,
      "outputs": []
    },
    {
      "cell_type": "markdown",
      "source": [
        "### Symbol2id"
      ],
      "metadata": {
        "id": "XCjW987WyCpO"
      }
    },
    {
      "cell_type": "code",
      "source": [
        "symbols = Counter()\n",
        "\n",
        "for row in train_data.text:\n",
        "  symbols.update(list(row))\n",
        "\n",
        "print(f'Уникальных символов: {len(symbols)}')"
      ],
      "metadata": {
        "colab": {
          "base_uri": "https://localhost:8080/"
        },
        "id": "JWOu5Q65yFxd",
        "outputId": "20842950-6c5d-4c17-c011-4d9bd73e7686"
      },
      "execution_count": 306,
      "outputs": [
        {
          "output_type": "stream",
          "name": "stdout",
          "text": [
            "Уникальных символов: 192\n"
          ]
        }
      ]
    },
    {
      "cell_type": "code",
      "source": [
        "symbols.most_common()[-10:]"
      ],
      "metadata": {
        "colab": {
          "base_uri": "https://localhost:8080/"
        },
        "id": "qc2JAAxnzg64",
        "outputId": "13a2188b-a2ff-4a16-fc7e-3c075e64854a"
      },
      "execution_count": 307,
      "outputs": [
        {
          "output_type": "execute_result",
          "data": {
            "text/plain": [
              "[('ช', 1),\n",
              " ('บ', 1),\n",
              " ('ว', 1),\n",
              " ('ิ', 1),\n",
              " ('ด', 1),\n",
              " ('ี', 1),\n",
              " ('โ', 1),\n",
              " (\"'\", 1),\n",
              " ('·', 1),\n",
              " ('Q', 1)]"
            ]
          },
          "metadata": {},
          "execution_count": 307
        }
      ]
    },
    {
      "cell_type": "code",
      "source": [
        "filtered_symbols = set()\n",
        "\n",
        "filtered_symbols.update([sym for sym in symbols if symbols[sym] > 5])\n",
        "print(f'Символов встретившихся > 5 раз: {len(filtered_symbols)}')"
      ],
      "metadata": {
        "colab": {
          "base_uri": "https://localhost:8080/"
        },
        "id": "ZRO-KWuMzuyS",
        "outputId": "ae5abc8a-a7c9-4082-aa25-e64b215085b6"
      },
      "execution_count": 308,
      "outputs": [
        {
          "output_type": "stream",
          "name": "stdout",
          "text": [
            "Символов встретившихся > 5 раз: 146\n"
          ]
        }
      ]
    },
    {
      "cell_type": "code",
      "source": [
        "symbol2id = {'PAD': 0,\n",
        "             'UNK': 1}\n",
        "\n",
        "for sym in filtered_symbols:\n",
        "  symbol2id[sym] = len(symbol2id)"
      ],
      "metadata": {
        "id": "0HnrTat300FW"
      },
      "execution_count": 309,
      "outputs": []
    },
    {
      "cell_type": "code",
      "source": [
        "id2symbol = {id:sym for sym, id in symbol2id.items()}"
      ],
      "metadata": {
        "id": "2qlmCoQO1K8o"
      },
      "execution_count": 310,
      "outputs": []
    },
    {
      "cell_type": "markdown",
      "source": [
        "## Dataset и DataLoader"
      ],
      "metadata": {
        "id": "hWQKdJ4lwWnL"
      }
    },
    {
      "cell_type": "code",
      "source": [
        "DEVICE = torch.device('cuda') if torch.cuda.is_available() else torch.device('cpu')\n",
        "DEVICE"
      ],
      "metadata": {
        "colab": {
          "base_uri": "https://localhost:8080/"
        },
        "id": "ysOAMwtDXDBm",
        "outputId": "a5887823-cde4-412c-c0bc-446b7fce3455"
      },
      "execution_count": 311,
      "outputs": [
        {
          "output_type": "execute_result",
          "data": {
            "text/plain": [
              "device(type='cuda')"
            ]
          },
          "metadata": {},
          "execution_count": 311
        }
      ]
    },
    {
      "cell_type": "markdown",
      "source": [
        "Определим, до какой длинны будем паддить эмбеддинг-слой с токенами-словами и с токенами-символами"
      ],
      "metadata": {
        "id": "X0pwiQ9_9TPK"
      }
    },
    {
      "cell_type": "code",
      "source": [
        "def plot(column):\n",
        "  lengths = [data[column].apply(len)]\n",
        "  plt.grid()\n",
        "  plt.title(\"Распределение длин\")\n",
        "  plt.xlabel(\"Длина в токенах\")\n",
        "  sns.histplot(lengths);\n",
        "\n",
        "def pad_size(column):\n",
        "  plot(column)\n",
        "  return np.percentile(data[column].apply(len), 95)"
      ],
      "metadata": {
        "id": "NjwSBy4DzaGE"
      },
      "execution_count": 312,
      "outputs": []
    },
    {
      "cell_type": "code",
      "source": [
        "print(f'Хорошая длина для токенов-слов: {pad_size(\"tokenized\")}')"
      ],
      "metadata": {
        "colab": {
          "base_uri": "https://localhost:8080/",
          "height": 312
        },
        "id": "0ksCBP3N15Ii",
        "outputId": "e3915911-14a6-4b4c-bb66-89bb4b5d5cd3"
      },
      "execution_count": 313,
      "outputs": [
        {
          "output_type": "stream",
          "name": "stdout",
          "text": [
            "Хорошая длина для токенов-слов: 31.0\n"
          ]
        },
        {
          "output_type": "display_data",
          "data": {
            "text/plain": [
              "<Figure size 432x288 with 1 Axes>"
            ],
            "image/png": "[encoded data removed]"
          },
          "metadata": {
            "needs_background": "light"
          }
        }
      ]
    },
    {
      "cell_type": "code",
      "source": [
        "print(f'Хорошая длина для токенов-символов: {pad_size(\"text\")}')"
      ],
      "metadata": {
        "colab": {
          "base_uri": "https://localhost:8080/",
          "height": 312
        },
        "id": "Cos5vDpA3jFe",
        "outputId": "048c12e0-fe95-448e-e1da-c7bab3d596d4"
      },
      "execution_count": 314,
      "outputs": [
        {
          "output_type": "stream",
          "name": "stdout",
          "text": [
            "Хорошая длина для токенов-символов: 167.0\n"
          ]
        },
        {
          "output_type": "display_data",
          "data": {
            "text/plain": [
              "<Figure size 432x288 with 1 Axes>"
            ],
            "image/png": "[encoded data removed]"
          },
          "metadata": {
            "needs_background": "light"
          }
        }
      ]
    },
    {
      "cell_type": "markdown",
      "source": [
        "Определим Dataset"
      ],
      "metadata": {
        "id": "D1BXzpqP9XBL"
      }
    },
    {
      "cell_type": "code",
      "source": [
        "class WordSymbolDataset(Dataset):\n",
        "  def __init__(self, x_words, x_symbols, y, word2id,\n",
        "               symbol2id, DEVICE, pad=0,\n",
        "               max_len_word=31, max_len_sym=167):\n",
        "\n",
        "    super().__init__()\n",
        "\n",
        "    self.x_words = x_words\n",
        "    self.x_symbols = x_symbols\n",
        "    self.y = y\n",
        "\n",
        "    self.word2id = word2id\n",
        "    self.symbol2id = symbol2id\n",
        "    self.pad = pad\n",
        "    self.max_len_word = max_len_word\n",
        "    self.max_len_sym = max_len_sym\n",
        "    self.device = DEVICE\n",
        "\n",
        "\n",
        "  def __len__(self):\n",
        "    return len(self.x_words)\n",
        "\n",
        "\n",
        "  def indexing_words(self, text):\n",
        "    word_ids = [word2id[tok] if tok in word2id else word2id['UNK'] for tok in text]\n",
        "    return word_ids\n",
        "\n",
        "\n",
        "  def indexing_syms(self, text):  \n",
        "    sym_ids = [symbol2id[tok] for tok in text if tok in symbol2id]\n",
        "    return sym_ids\n",
        "\n",
        "\n",
        "  def padding(self, text, max_len):\n",
        "    text = text[:max_len]\n",
        "    text = F.pad(text, (0, max_len - len(text)))\n",
        "\n",
        "    return text\n",
        "\n",
        "\n",
        "  def __getitem__(self, idx):\n",
        "    \"\"\"\n",
        "    У нас комбинация эмбеддингов и символьных признаков.\n",
        "    Следовательно, всего по два: словаря-конвертера, перевода в id,\n",
        "    возвращаем мы тоже по 2 последовательности: для слов и символов\n",
        "    \"\"\"\n",
        "    words = self.x_words.iloc[idx]\n",
        "    words = self.indexing_words(words)\n",
        "\n",
        "    syms = self.x_symbols.iloc[idx]\n",
        "    syms = self.indexing_syms(syms)\n",
        "\n",
        "    words = torch.tensor(words).to(self.device)\n",
        "    syms = torch.tensor(syms).to(self.device)\n",
        "    target = torch.LongTensor([self.y.iloc[idx]]).to(self.device) # нам нужен float, а не int\n",
        "\n",
        "    words = self.padding(words, self.max_len_word)\n",
        "    syms = self.padding(syms, self.max_len_sym)\n",
        "\n",
        "    return words, syms, target\n",
        "  \n"
      ],
      "metadata": {
        "id": "CujlsSZHwYia"
      },
      "execution_count": 315,
      "outputs": []
    },
    {
      "cell_type": "code",
      "source": [
        "train_dataset = WordSymbolDataset(x_words=train_data['tokenized'], x_symbols=train_data['text'],\n",
        "                            y=train_data['label'], word2id=word2id, symbol2id=symbol2id, DEVICE=DEVICE)"
      ],
      "metadata": {
        "id": "ZlKce02l3bej"
      },
      "execution_count": 316,
      "outputs": []
    },
    {
      "cell_type": "code",
      "source": [
        "# Проверочка\n",
        "words, syms, y = train_dataset[5]\n",
        "print(words, words.shape)\n",
        "print(syms, syms.shape)\n",
        "print(y, y.shape)"
      ],
      "metadata": {
        "colab": {
          "base_uri": "https://localhost:8080/"
        },
        "id": "2mOC21UE8pRg",
        "outputId": "0ac79478-1f16-49d3-c427-1e237d2176d6"
      },
      "execution_count": 317,
      "outputs": [
        {
          "output_type": "stream",
          "name": "stdout",
          "text": [
            "tensor([2582, 2481,    0,    0,    0,    0,    0,    0,    0,    0,    0,    0,\n",
            "           0,    0,    0,    0,    0,    0,    0,    0,    0,    0,    0,    0,\n",
            "           0,    0,    0,    0,    0,    0,    0], device='cuda:0') torch.Size([31])\n",
            "tensor([126,  77, 119,   2,  66,   0,   0,   0,   0,   0,   0,   0,   0,   0,\n",
            "          0,   0,   0,   0,   0,   0,   0,   0,   0,   0,   0,   0,   0,   0,\n",
            "          0,   0,   0,   0,   0,   0,   0,   0,   0,   0,   0,   0,   0,   0,\n",
            "          0,   0,   0,   0,   0,   0,   0,   0,   0,   0,   0,   0,   0,   0,\n",
            "          0,   0,   0,   0,   0,   0,   0,   0,   0,   0,   0,   0,   0,   0,\n",
            "          0,   0,   0,   0,   0,   0,   0,   0,   0,   0,   0,   0,   0,   0,\n",
            "          0,   0,   0,   0,   0,   0,   0,   0,   0,   0,   0,   0,   0,   0,\n",
            "          0,   0,   0,   0,   0,   0,   0,   0,   0,   0,   0,   0,   0,   0,\n",
            "          0,   0,   0,   0,   0,   0,   0,   0,   0,   0,   0,   0,   0,   0,\n",
            "          0,   0,   0,   0,   0,   0,   0,   0,   0,   0,   0,   0,   0,   0,\n",
            "          0,   0,   0,   0,   0,   0,   0,   0,   0,   0,   0,   0,   0,   0,\n",
            "          0,   0,   0,   0,   0,   0,   0,   0,   0,   0,   0,   0,   0],\n",
            "       device='cuda:0') torch.Size([167])\n",
            "tensor([3], device='cuda:0') torch.Size([1])\n"
          ]
        }
      ]
    },
    {
      "cell_type": "code",
      "source": [
        "train_loader = DataLoader(train_dataset, batch_size=16)"
      ],
      "metadata": {
        "id": "D-7NS6nR-1SM"
      },
      "execution_count": 318,
      "outputs": []
    },
    {
      "cell_type": "code",
      "source": [
        "batch = next(iter(train_loader))[0]\n",
        "print(batch, f'\\nBatch size: {batch.shape}')"
      ],
      "metadata": {
        "colab": {
          "base_uri": "https://localhost:8080/"
        },
        "id": "a2pEhZ1s_g0c",
        "outputId": "8f134910-ff23-403f-e923-5165a4e8dc56"
      },
      "execution_count": 319,
      "outputs": [
        {
          "output_type": "stream",
          "name": "stdout",
          "text": [
            "tensor([[1719,  639, 1067,  652,    1, 1104, 2734, 2734, 3016, 1675, 2734, 2734,\n",
            "         2734, 2734, 2734, 2734,    0,    0,    0,    0,    0,    0,    0,    0,\n",
            "            0,    0,    0,    0,    0,    0,    0],\n",
            "        [1048, 1244, 2583, 1719,  136, 1452, 2504,    1, 3408, 3109,    0,    0,\n",
            "            0,    0,    0,    0,    0,    0,    0,    0,    0,    0,    0,    0,\n",
            "            0,    0,    0,    0,    0,    0,    0],\n",
            "        [2504, 1645,    1, 1641,  636,  768, 2880, 2390, 2504,    1, 1641, 1115,\n",
            "         1732, 2458, 2734,    0,    0,    0,    0,    0,    0,    0,    0,    0,\n",
            "            0,    0,    0,    0,    0,    0,    0],\n",
            "        [   1, 2263, 2048,  675, 2734, 3170, 1687, 3170,    1,    0,    0,    0,\n",
            "            0,    0,    0,    0,    0,    0,    0,    0,    0,    0,    0,    0,\n",
            "            0,    0,    0,    0,    0,    0,    0],\n",
            "        [3109, 1115, 2446, 3393,    1,  675, 2524,  835, 1452,  481,  366,    1,\n",
            "         2144,    1,    0,    0,    0,    0,    0,    0,    0,    0,    0,    0,\n",
            "            0,    0,    0,    0,    0,    0,    0],\n",
            "        [2582, 2481,    0,    0,    0,    0,    0,    0,    0,    0,    0,    0,\n",
            "            0,    0,    0,    0,    0,    0,    0,    0,    0,    0,    0,    0,\n",
            "            0,    0,    0,    0,    0,    0,    0],\n",
            "        [ 407, 1115, 1164, 2734, 2628, 3344, 3046,  665, 2734,    1, 1181, 2734,\n",
            "            0,    0,    0,    0,    0,    0,    0,    0,    0,    0,    0,    0,\n",
            "            0,    0,    0,    0,    0,    0,    0],\n",
            "        [2887, 3056, 2424, 1060, 3345, 1968, 1674, 2734,    0,    0,    0,    0,\n",
            "            0,    0,    0,    0,    0,    0,    0,    0,    0,    0,    0,    0,\n",
            "            0,    0,    0,    0,    0,    0,    0],\n",
            "        [   1,  870, 1719,    1, 1643, 1719, 1383, 2047, 1719, 2010,    2,    1,\n",
            "         1719,    1, 1719,  557, 1641, 3338, 3069, 1883, 1719,  407, 3344,  590,\n",
            "         2144, 2927,   63, 1031,    0,    0,    0],\n",
            "        [   1, 1479,    1,    1, 2204,    1,    1,    2,    1, 1719, 1369,    1,\n",
            "            1, 2158,  786, 1031,    0,    0,    0,    0,    0,    0,    0,    0,\n",
            "            0,    0,    0,    0,    0,    0,    0],\n",
            "        [2593, 1848,  675, 2734,    0,    0,    0,    0,    0,    0,    0,    0,\n",
            "            0,    0,    0,    0,    0,    0,    0,    0,    0,    0,    0,    0,\n",
            "            0,    0,    0,    0,    0,    0,    0],\n",
            "        [2734,  630, 3109, 2820,    1, 1060,  506, 1719,  136, 1098, 2115,  636,\n",
            "         1130,   10, 1767,    0,    0,    0,    0,    0,    0,    0,    0,    0,\n",
            "            0,    0,    0,    0,    0,    0,    0],\n",
            "        [2626, 1115,    2,   26, 1397,    1,    1, 2144, 3070, 2490,    1, 1397,\n",
            "            1,    1, 1397,    1,    1, 1348, 2249, 1031,    0,    0,    0,    0,\n",
            "            0,    0,    0,    0,    0,    0,    0],\n",
            "        [2799,    1, 1743,  629, 3395,    2, 3003, 2504, 1668, 1086, 2734, 1176,\n",
            "         2985, 2734,    0,    0,    0,    0,    0,    0,    0,    0,    0,    0,\n",
            "            0,    0,    0,    0,    0,    0,    0],\n",
            "        [   1, 1141,    2, 2537,    1, 1675,    1,    1, 2734,    0,    0,    0,\n",
            "            0,    0,    0,    0,    0,    0,    0,    0,    0,    0,    0,    0,\n",
            "            0,    0,    0,    0,    0,    0,    0],\n",
            "        [ 476,    1, 2626, 3021, 1719, 3344,    1, 2626, 2593, 3344,    1, 1397,\n",
            "            1, 1067, 2734,    1,    0,    0,    0,    0,    0,    0,    0,    0,\n",
            "            0,    0,    0,    0,    0,    0,    0]], device='cuda:0') \n",
            "Batch size: torch.Size([16, 31])\n"
          ]
        }
      ]
    },
    {
      "cell_type": "code",
      "source": [
        "val_dataset = WordSymbolDataset(x_words=val_data['tokenized'], x_symbols=val_data['text'],\n",
        "                                y=val_data['label'], word2id=word2id, symbol2id=symbol2id, DEVICE=DEVICE)\n",
        "val_loader = DataLoader(val_dataset, batch_size=16)\n",
        "print(next(iter(val_loader))[0].shape)\n",
        "\n",
        "test_dataset = WordSymbolDataset(x_words=test_data['tokenized'], x_symbols=test_data['text'],\n",
        "                                 y=test_data['label'], word2id=word2id, symbol2id=symbol2id, DEVICE=DEVICE)\n",
        "test_loader = DataLoader(test_dataset, batch_size=16)\n",
        "print(next(iter(test_loader))[0].shape)\n",
        "\n"
      ],
      "metadata": {
        "colab": {
          "base_uri": "https://localhost:8080/"
        },
        "id": "TRHXix4eal8n",
        "outputId": "6a4af2d4-ebcd-4d09-c7ff-68f4bc0ad965"
      },
      "execution_count": 320,
      "outputs": [
        {
          "output_type": "stream",
          "name": "stdout",
          "text": [
            "torch.Size([16, 31])\n",
            "torch.Size([16, 31])\n"
          ]
        }
      ]
    },
    {
      "cell_type": "markdown",
      "source": [
        "## Word2vec"
      ],
      "metadata": {
        "id": "azNPqyUIP0J3"
      }
    },
    {
      "cell_type": "code",
      "source": [
        "texts = train_data.tokenized.tolist()"
      ],
      "metadata": {
        "id": "NUXVzT0DPy0S"
      },
      "execution_count": 321,
      "outputs": []
    },
    {
      "cell_type": "code",
      "source": [
        "texts[:2]"
      ],
      "metadata": {
        "colab": {
          "base_uri": "https://localhost:8080/"
        },
        "id": "UTbzQwVoTSk1",
        "outputId": "f8d2f3b0-2613-4867-a02b-2f4bbdabcba8"
      },
      "execution_count": 322,
      "outputs": [
        {
          "output_type": "execute_result",
          "data": {
            "text/plain": [
              "[[',',\n",
              "  'у',\n",
              "  'меня',\n",
              "  'через',\n",
              "  '2часа',\n",
              "  'сессия',\n",
              "  '(',\n",
              "  '(',\n",
              "  'пиздец',\n",
              "  'боюсь',\n",
              "  '(',\n",
              "  '(',\n",
              "  '(',\n",
              "  '(',\n",
              "  '(',\n",
              "  '('],\n",
              " ['самое', 'смешное', 'то', ',', 'что', 'мне', 'не', 'отказали', ';', ')']]"
            ]
          },
          "metadata": {},
          "execution_count": 322
        }
      ]
    },
    {
      "cell_type": "code",
      "source": [
        "%%time\n",
        "w2v = gensim.models.Word2Vec(texts, size=300, window=5, min_count=2)"
      ],
      "metadata": {
        "colab": {
          "base_uri": "https://localhost:8080/"
        },
        "id": "tl4kG9IgTh38",
        "outputId": "5a62fd37-f1b9-445d-9031-c20349ed98e7"
      },
      "execution_count": 323,
      "outputs": [
        {
          "output_type": "stream",
          "name": "stdout",
          "text": [
            "CPU times: user 1.3 s, sys: 29 ms, total: 1.33 s\n",
            "Wall time: 1.17 s\n"
          ]
        }
      ]
    },
    {
      "cell_type": "code",
      "source": [
        "w2v.wv.most_similar('недели')"
      ],
      "metadata": {
        "colab": {
          "base_uri": "https://localhost:8080/"
        },
        "id": "TI0Hu_D4TuX_",
        "outputId": "70821e66-14a6-46bc-ed8c-562093de863f"
      },
      "execution_count": 324,
      "outputs": [
        {
          "output_type": "execute_result",
          "data": {
            "text/plain": [
              "[('просто', 0.9996918439865112),\n",
              " ('ты', 0.9996888041496277),\n",
              " ('сейчас', 0.9996873736381531),\n",
              " ('будет', 0.999686598777771),\n",
              " ('вот', 0.9996862411499023),\n",
              " ('..', 0.9996853470802307),\n",
              " ('так', 0.9996824264526367),\n",
              " ('хочу', 0.9996820688247681),\n",
              " ('я', 0.9996813535690308),\n",
              " ('нет', 0.9996808767318726)]"
            ]
          },
          "metadata": {},
          "execution_count": 324
        }
      ]
    },
    {
      "cell_type": "markdown",
      "source": [
        "так-так, у нас совсем мало слов, чтобы обучить эмбеддинги - для \"недели\" получились совсем бессмысленные \"похожие\" слова. Попробуем взять предобученные эмбеддинги."
      ],
      "metadata": {
        "id": "C7n7snYAzvu6"
      }
    },
    {
      "cell_type": "code",
      "source": [
        "!wget  https://dl.fbaipublicfiles.com/fasttext/vectors-crawl/cc.ru.300.vec.gz\n",
        "!gzip -d cc.ru.300.vec.gz"
      ],
      "metadata": {
        "colab": {
          "base_uri": "https://localhost:8080/"
        },
        "id": "m02IqTLZ1yHR",
        "outputId": "2632781c-9fe5-4419-b152-a5f0c410750e"
      },
      "execution_count": 325,
      "outputs": [
        {
          "output_type": "stream",
          "name": "stdout",
          "text": [
            "--2022-06-21 15:50:09--  https://dl.fbaipublicfiles.com/fasttext/vectors-crawl/cc.ru.300.vec.gz\n",
            "Resolving dl.fbaipublicfiles.com (dl.fbaipublicfiles.com)... 104.22.75.142, 172.67.9.4, 104.22.74.142, ...\n",
            "Connecting to dl.fbaipublicfiles.com (dl.fbaipublicfiles.com)|104.22.75.142|:443... connected.\n",
            "HTTP request sent, awaiting response... 200 OK\n",
            "Length: 1306357571 (1.2G) [binary/octet-stream]\n",
            "Saving to: ‘cc.ru.300.vec.gz’\n",
            "\n",
            "cc.ru.300.vec.gz    100%[===================>]   1.22G  48.1MB/s    in 27s     \n",
            "\n",
            "2022-06-21 15:50:36 (46.5 MB/s) - ‘cc.ru.300.vec.gz’ saved [1306357571/1306357571]\n",
            "\n",
            "gzip: cc.ru.300.vec already exists; do you wish to overwrite (y or n)? n\n",
            "\tnot overwritten\n"
          ]
        }
      ]
    },
    {
      "cell_type": "code",
      "source": [
        "emb_file = open('cc.ru.300.vec')\n",
        "\n",
        "num_words, emb_dim = emb_file.readline().split()\n",
        "num_words, emb_dim = int(num_words), int(emb_dim)\n",
        "emb_file.close()\n",
        "print(f'num_words: {num_words}, \\nemb_dim: {emb_dim}')"
      ],
      "metadata": {
        "colab": {
          "base_uri": "https://localhost:8080/"
        },
        "id": "xsAt7G2abuKP",
        "outputId": "f6daa31b-5bcf-4efd-dba8-079d056d8c3b"
      },
      "execution_count": 326,
      "outputs": [
        {
          "output_type": "stream",
          "name": "stdout",
          "text": [
            "num_words: 2000000, \n",
            "emb_dim: 300\n"
          ]
        }
      ]
    },
    {
      "cell_type": "code",
      "source": [
        "emb_file = open('cc.ru.300.vec')\n",
        "\n",
        "num_words, emb_dim = emb_file.readline().split()\n",
        "line = emb_file.readline().split()\n",
        "emb_file.close()"
      ],
      "metadata": {
        "id": "Gog1IkF7ddBw"
      },
      "execution_count": 327,
      "outputs": []
    },
    {
      "cell_type": "code",
      "source": [
        "np.array([float(dig) for dig in line[1:]])"
      ],
      "metadata": {
        "colab": {
          "base_uri": "https://localhost:8080/"
        },
        "id": "m4rPPf2AdihA",
        "outputId": "05c6e526-4075-4612-966b-a2a0ee249e04"
      },
      "execution_count": 328,
      "outputs": [
        {
          "output_type": "execute_result",
          "data": {
            "text/plain": [
              "array([-3.2600e-02, -1.4990e-01,  2.3200e-02,  2.9000e-03, -7.0900e-02,\n",
              "       -7.8000e-03, -7.5100e-02, -1.9000e-02, -1.9700e-02, -1.5000e-03,\n",
              "        1.4470e-01,  4.0370e-01,  6.5000e-02, -1.8300e-02,  3.5300e-02,\n",
              "       -1.5700e-02,  1.3000e-02, -3.7600e-02,  3.8600e-02,  9.6000e-03,\n",
              "       -6.4400e-02,  2.8430e-01, -7.2000e-02,  3.2200e-02, -1.3500e-02,\n",
              "       -2.1700e-02,  1.5100e-01,  4.3100e-02, -1.7000e-03,  2.1000e-03,\n",
              "        2.8500e-02, -5.2600e-02,  7.9000e-03, -5.0000e-03,  2.5000e-03,\n",
              "       -2.9400e-02, -1.3910e-01, -1.1404e+00, -3.2280e-01, -7.9600e-02,\n",
              "        2.2100e-02,  3.4700e-02,  1.2400e-02, -1.6090e-01, -1.8600e-01,\n",
              "        1.0100e-01, -7.2000e-03,  5.6200e-02,  1.0400e-02,  8.7900e-02,\n",
              "        2.0700e-02,  1.0000e-04,  1.8900e-02,  2.3200e-02, -2.1200e-02,\n",
              "       -1.0400e-01, -3.4100e-02, -3.3000e-03, -2.0910e-01,  9.8100e-02,\n",
              "       -4.5520e-01, -1.1140e-01,  3.0900e-02,  9.7400e-02, -1.2510e-01,\n",
              "        7.8800e-02, -1.0590e-01, -3.9300e-02, -2.3000e-03, -5.9700e-02,\n",
              "       -1.1070e-01,  1.2200e-02, -2.5000e-03,  3.1900e-02, -1.2820e-01,\n",
              "       -2.6000e-02, -6.6600e-02,  9.5000e-02,  2.0100e-02,  3.8700e-02,\n",
              "        1.3700e-02,  1.4220e-01, -3.8000e-03, -2.4200e-02,  5.5000e-03,\n",
              "       -1.7370e-01,  1.8170e-01,  8.2800e-02, -9.6300e-02,  2.1500e-02,\n",
              "        6.1100e-02,  5.0500e-02, -1.8500e-02, -1.9700e-02,  7.6900e-02,\n",
              "        1.7200e-02,  4.3500e-02,  7.1800e-02, -3.4370e-01,  1.8000e-03,\n",
              "       -6.9000e-02,  5.5000e-03, -8.5000e-02, -4.9000e-03,  5.8100e-02,\n",
              "        2.7500e-02, -9.6900e-02,  1.5500e-02, -9.1400e-02, -2.6000e-03,\n",
              "       -2.6000e-03, -1.3000e-02,  3.8500e-02, -2.9700e-02,  3.6200e-02,\n",
              "       -3.0400e-02, -8.3000e-03,  1.7800e-02, -5.0200e-02,  3.2300e-02,\n",
              "        1.1640e-01, -1.3900e-02,  1.8400e-02,  5.5100e-02,  8.6000e-03,\n",
              "        3.4300e-02, -5.9400e-02, -4.6600e-02, -1.0040e-01, -4.8000e-02,\n",
              "        4.5000e-03,  6.8200e-02,  2.7500e-02,  4.5900e-02, -7.1500e-02,\n",
              "        3.2000e-03, -4.3700e-02, -4.2000e-03, -6.2700e-02, -5.4100e-02,\n",
              "        6.6000e-03, -3.2900e-02, -5.3500e-02,  1.8560e-01, -5.1000e-03,\n",
              "        1.1740e-01,  3.8320e-01,  1.7970e-01, -5.6100e-02,  5.2600e-02,\n",
              "       -2.0770e-01,  1.8800e-02, -4.3300e-02, -3.6200e-02, -2.1500e-02,\n",
              "        3.3600e-02, -1.0300e-02, -1.4720e-01, -9.3700e-02,  1.7100e-02,\n",
              "       -8.8100e-02, -4.2300e-02,  8.6400e-02, -2.4800e-02,  3.0800e-02,\n",
              "       -4.5900e-02,  8.6700e-02,  6.9000e-02, -1.8000e-02,  8.8300e-02,\n",
              "       -1.1140e-01,  6.5100e-02,  2.4100e-02, -1.1900e-02, -2.1140e-01,\n",
              "        3.0800e-02,  4.6000e-02, -1.0060e-01,  2.6300e-01,  5.1200e-02,\n",
              "       -1.4400e-01, -5.5530e-01,  9.1000e-03, -7.5000e-02,  1.9200e-02,\n",
              "        4.0900e-02, -5.2400e-02,  2.6500e-02, -8.6900e-02, -2.8400e-02,\n",
              "        3.4600e-02,  4.3300e-02, -3.2800e-02, -6.0000e-04,  1.0740e-01,\n",
              "       -2.8400e-02,  1.9350e-01,  1.1730e-01, -3.8000e-03, -8.2800e-02,\n",
              "        5.7400e-02,  5.9800e-02,  3.8200e-02, -1.1800e-02,  4.0000e-03,\n",
              "       -3.0400e-02, -7.6900e-02, -5.0000e-04,  4.2500e-02,  5.5600e-02,\n",
              "       -3.2370e-01, -1.8800e-02,  8.6500e-02,  6.9600e-02, -5.1800e-02,\n",
              "        5.9000e-02,  1.4800e-02,  1.8510e-01,  7.3200e-02,  8.7000e-03,\n",
              "        6.2700e-02, -5.4700e-02, -8.6000e-03, -1.4700e-02, -9.2800e-02,\n",
              "       -6.7000e-03,  4.4900e-02,  5.1200e-02,  7.5000e-03, -1.3510e-01,\n",
              "        1.5880e-01,  2.2110e-01, -3.4200e-02, -1.9960e-01, -1.2630e-01,\n",
              "       -1.2660e-01,  5.6000e-03,  2.8700e-02,  4.0100e-02, -1.8500e-02,\n",
              "        4.2800e-02, -1.9000e-03, -1.3200e-02, -1.0200e-02,  5.7000e-03,\n",
              "       -3.5900e-02, -4.8000e-03,  8.0000e-04, -3.4200e-02, -3.7900e-02,\n",
              "        6.6500e-02,  5.9400e-02, -2.9600e-02, -6.6500e-02, -4.9700e-02,\n",
              "        1.1470e-01,  1.8100e-02, -4.6800e-02,  5.1600e-02,  1.4940e-01,\n",
              "       -1.1530e-01, -3.1200e-02, -1.6710e-01, -2.4000e-02,  5.1300e-02,\n",
              "        1.3950e-01,  7.9100e-02, -1.8600e-02, -5.0500e-02, -1.0900e-02,\n",
              "        9.9800e-02, -4.5100e-02,  4.4040e-01, -1.0300e-02, -2.4400e-02,\n",
              "        8.0900e-02, -3.3800e-02,  2.8100e-02,  3.5300e-02,  5.1400e-02,\n",
              "        1.6030e-01,  2.9900e-02,  7.1700e-02,  2.7400e-02, -5.5100e-02,\n",
              "       -2.4400e-02,  8.9600e-02,  1.2020e-01,  3.1300e-02, -3.3700e-02,\n",
              "       -6.7900e-02, -4.8200e-02,  1.3000e-03, -3.0800e-02, -1.8500e-02,\n",
              "       -4.1800e-02, -3.0000e-03, -2.3700e-02, -2.6100e-02, -1.8320e-01])"
            ]
          },
          "metadata": {},
          "execution_count": 328
        }
      ]
    },
    {
      "cell_type": "code",
      "source": [
        "fasttext = dict()\n",
        "\n",
        "with open('cc.ru.300.vec') as emb_file:\n",
        "  for line in emb_file:\n",
        "    token = line.split()[0]\n",
        "    emb = line.split()[1:]\n",
        "    if token in word2id:\n",
        "      fasttext[token] = np.array([float(dig) for dig in emb])"
      ],
      "metadata": {
        "id": "mtRbZdGfciHM"
      },
      "execution_count": 329,
      "outputs": []
    },
    {
      "cell_type": "code",
      "source": [
        "print(len(fasttext), len(word2id))"
      ],
      "metadata": {
        "colab": {
          "base_uri": "https://localhost:8080/"
        },
        "id": "9Yy2Uk5Ieitr",
        "outputId": "60163482-d02d-49e2-ef09-356b83ba595e"
      },
      "execution_count": 330,
      "outputs": [
        {
          "output_type": "stream",
          "name": "stdout",
          "text": [
            "3407 3447\n"
          ]
        }
      ]
    },
    {
      "cell_type": "markdown",
      "source": [
        "В целом, в нашем предобученном фасттексте (на удивление) нашлись почти все слова! Почему на удивление? Часть наших текстов - это твиттер и ЖЖ. То есть это соцсети, \"грязные\" тексты."
      ],
      "metadata": {
        "id": "I4Kyu7LYeu3q"
      }
    },
    {
      "cell_type": "code",
      "source": [
        "weights = np.zeros((len(word2id), 300))\n",
        "oov = set()\n",
        "\n",
        "for word, i in word2id.items():\n",
        "  if word in ('PAD', 'UNK'):\n",
        "    continue\n",
        "  elif word not in fasttext:\n",
        "    oov.add(word)\n",
        "  else:\n",
        "    weights[i] = fasttext[word]\n"
      ],
      "metadata": {
        "id": "MxIp7-OhT-S-"
      },
      "execution_count": 331,
      "outputs": []
    },
    {
      "cell_type": "markdown",
      "source": [
        "Пришлось сменить токенизатор с wordpunkt_tokenize на word_tokenize, потому что первый не расклеивает пунктуаторы. '!!',\n",
        " '!!!',\n",
        " '!!!!',\n",
        " '!\"',\n",
        " '!)',\n",
        " '!))',\n",
        " '!)))',\n",
        " '!»',\n",
        " '\",',\n",
        " '\",-',\n",
        " '\"-',\n",
        " '\".',\n",
        " '\":',\n",
        " '%)',\n",
        " \"''\",\n",
        " '((',\n",
        " '(((',\n",
        " '((((',\n",
        " '(((((',\n",
        " '((((((',\n",
        " '(((((((((((',\n",
        " '(...)',\n",
        " ')!',\n",
        " ')#',\n",
        " '))',\n",
        " ')))',\n",
        " '))))',\n",
        " ')))))',\n",
        " '))))))',\n",
        " ')))))))',\n",
        " '),',\n",
        " ').',\n",
        " '):',\n",
        " ')»,',\n",
        " '*(',\n",
        " '***',\n",
        " '*****',\n",
        " '*-*',\n",
        " '++',\n",
        " ',/',\n",
        " ',–',\n",
        " '-)',\n",
        " '-:)',\n",
        " '.)',\n",
        " '.)))',\n",
        " '.))))',\n",
        " '..(',\n",
        " '..)',\n",
        " '..))',\n",
        " '...\"',\n",
        " '...(',\n",
        " '...(((',\n",
        " '...)',\n",
        " '...)))',\n",
        " '....((',\n",
        " '....(((',"
      ],
      "metadata": {
        "id": "sT4H3KLvfsq1"
      }
    },
    {
      "cell_type": "code",
      "source": [
        "oov"
      ],
      "metadata": {
        "colab": {
          "base_uri": "https://localhost:8080/"
        },
        "id": "MhmX4L2A3ir3",
        "outputId": "fc34e97b-0847-4310-b65f-d2807aceefca"
      },
      "execution_count": 332,
      "outputs": [
        {
          "output_type": "execute_result",
          "data": {
            "text/plain": [
              "{\"''\",\n",
              " '-/',\n",
              " '-_-',\n",
              " '//',\n",
              " '113кт',\n",
              " ':3',\n",
              " '^^',\n",
              " '^_^',\n",
              " '_x005f_x005f_x005f_x005f_x005f_x005f_x005f_x005f_x000d_',\n",
              " '`',\n",
              " '``',\n",
              " 'd_x005f_x005f_x005f_x005f_x005f_x005f_x005f_x005f_x000d_',\n",
              " 'justinstopdoingtattoo',\n",
              " 'maxgluxix454',\n",
              " 'o_o',\n",
              " 'ru_ff',\n",
              " 'teamfollowback',\n",
              " 'xdddd',\n",
              " 'ахмедов',\n",
              " 'данины',\n",
              " 'дось',\n",
              " 'жизнь-боль',\n",
              " 'жизньболь',\n",
              " 'лиам',\n",
              " 'линта',\n",
              " 'муссолини',\n",
              " 'наденька',\n",
              " 'нельсоном',\n",
              " 'о/',\n",
              " 'о_о',\n",
              " 'покуриш',\n",
              " 'потопаю',\n",
              " 'пятюню',\n",
              " 'рибят',\n",
              " 'рождениия',\n",
              " 'сааамые',\n",
              " 'твитте',\n",
              " 'харбине',\n",
              " 'хаххах',\n",
              " 'юп'}"
            ]
          },
          "metadata": {},
          "execution_count": 332
        }
      ]
    },
    {
      "cell_type": "markdown",
      "source": [
        "oov совсем немного, скорее всего, нам это сильно мешать не будет"
      ],
      "metadata": {
        "id": "GKzaoRkhD2Bx"
      }
    },
    {
      "cell_type": "code",
      "source": [
        "weights.shape"
      ],
      "metadata": {
        "colab": {
          "base_uri": "https://localhost:8080/"
        },
        "id": "BCRqZZafEQAv",
        "outputId": "f98f10c8-6c0a-4863-fdf2-151bd5b6b938"
      },
      "execution_count": 333,
      "outputs": [
        {
          "output_type": "execute_result",
          "data": {
            "text/plain": [
              "(3447, 300)"
            ]
          },
          "metadata": {},
          "execution_count": 333
        }
      ]
    },
    {
      "cell_type": "markdown",
      "source": [
        "## CNN Model"
      ],
      "metadata": {
        "id": "ekXLA1U1bbzi"
      }
    },
    {
      "cell_type": "code",
      "source": [
        "class CNN_w2v(nn.Module):\n",
        "  def __init__(self, word_vocab_size, sym_vocab_size,\n",
        "               word_emb_dim, sym_emb_dim):\n",
        "\n",
        "    super().__init__()\n",
        "\n",
        "    # word emb of the CNN\n",
        "    self.w_embedding = nn.Embedding(word_vocab_size, word_emb_dim) # логично emb_dim делать размером корень из vocab_size\n",
        "    self.w_embedding.from_pretrained(torch.tensor(weights), freeze=True)\n",
        "    self.w_emb_linear = nn.Linear(in_features=word_emb_dim, out_features=60)\n",
        "\n",
        "    # symbol emb of the CNN\n",
        "    self.s_embedding = nn.Embedding(sym_vocab_size, sym_emb_dim) # логично emb_dim делать размером корень из vocab_size\n",
        "    \n",
        "    self.bigram = nn.Conv1d(in_channels=sym_emb_dim, out_channels=100, kernel_size=2, padding='same') # out_channels - кол-во разных фильтров\n",
        "    self.trigram = nn.Conv1d(in_channels=sym_emb_dim, out_channels=80, kernel_size=3, padding='same')\n",
        "    self.pooling = nn.MaxPool1d(kernel_size=2, stride=2)\n",
        "    self.linear = nn.Linear(in_features=240, out_features=5) # bigram_out + trigram_out + embedding_dim (w2v)\n",
        "    self.relu = nn.ReLU()\n",
        "    self.softmax = nn.Softmax()\n",
        "\n",
        "  def forward(self, sent, symbols):\n",
        "\n",
        "    # word emb of the CNN, batch_size x seq_len\n",
        "    w2v_embedded = self.w_embedding(sent) # -> batch_size x seq_len x emb_dim\n",
        "    mean_emb = torch.mean(w2v_embedded, dim=1) # -> batch_size x emb_dim\n",
        "    w2v_embedded = self.w_emb_linear(mean_emb) # batch_size x out_features (here 200)\n",
        "\n",
        "    # symbol emb of the CNN, batch_size x symbols_len\n",
        "    symb_embedded = self.s_embedding(symbols) # -> batch_size x symb_len (here 140) x emb_dim\n",
        "\n",
        "    # Conv1d берет на вход (batch_size, in_channels, seq_len) - \n",
        "    # надо транспонировать (менять 1 и 2 размерность местами)\n",
        "    symb_embedded = symb_embedded.transpose(1, 2)\n",
        "\n",
        "    # первый слой со свертками\n",
        "    feature_map_bigram = self.pooling(self.relu(self.bigram(symb_embedded))) # -> batch_size x filter_out_channel x seq_len\n",
        "    feature_map_trigram = self.pooling(self.relu(self.trigram(symb_embedded)))\n",
        "\n",
        "\n",
        "    # Хотим избавиться от seq_len - max pooling over time\n",
        "    pool_bigram = feature_map_bigram.max(2)[0] # -> batch_size x filter_out_channel\n",
        "    pool_trigram = feature_map_trigram.max(2)[0]\n",
        "\n",
        "    # Соединяем результаты сверток и пулинга с эмбеддингами\n",
        "    # batch_size x bigram_out + trigram_out + emb_w2v_dim\n",
        "    concat = torch.concat((pool_bigram, pool_trigram, w2v_embedded), 1)\n",
        "    hidden = self.linear(concat)\n",
        "    out = self.softmax(hidden)\n",
        "\n",
        "    return out\n",
        "\n",
        "\n",
        "\n",
        "  "
      ],
      "metadata": {
        "id": "F5X3F5_ZbfYw"
      },
      "execution_count": 334,
      "outputs": []
    },
    {
      "cell_type": "markdown",
      "source": [
        "Попробуем пропустить один батч через модель - должны получит ьвероятности для каждого элемента батча (batch_size=16) "
      ],
      "metadata": {
        "id": "X7YP4xotGpJv"
      }
    },
    {
      "cell_type": "code",
      "source": [
        "x_word, x_symbol, y = next(iter(train_loader))\n",
        "x_word, x_symbol, y = x_word.to(DEVICE), x_symbol.to(DEVICE), y.to(DEVICE).squeeze()\n",
        "# print(x_word, x_symbol, y)\n",
        "print(x_word.shape, x_symbol.shape, y.shape)"
      ],
      "metadata": {
        "colab": {
          "base_uri": "https://localhost:8080/"
        },
        "id": "RSmnS2372Q6S",
        "outputId": "37d0f5c6-fba6-4cd1-8feb-dc6ec489e1b9"
      },
      "execution_count": 335,
      "outputs": [
        {
          "output_type": "stream",
          "name": "stdout",
          "text": [
            "torch.Size([16, 31]) torch.Size([16, 167]) torch.Size([16])\n"
          ]
        }
      ]
    },
    {
      "cell_type": "code",
      "source": [
        "model = CNN_w2v(len(word2id), len(symbol2id), 300, 15)\n",
        "model = model.to(DEVICE)\n",
        "output = model(x_word, x_symbol)\n",
        "print(output, output.shape)"
      ],
      "metadata": {
        "colab": {
          "base_uri": "https://localhost:8080/"
        },
        "id": "-joSxuo3Eced",
        "outputId": "31ce1718-f29e-481a-8d46-93c7c0c1f1ad"
      },
      "execution_count": 336,
      "outputs": [
        {
          "output_type": "stream",
          "name": "stdout",
          "text": [
            "tensor([[0.3926, 0.1488, 0.1526, 0.1693, 0.1366],\n",
            "        [0.3998, 0.1285, 0.1331, 0.2124, 0.1262],\n",
            "        [0.4058, 0.1481, 0.1040, 0.1998, 0.1422],\n",
            "        [0.4803, 0.1334, 0.1342, 0.1434, 0.1087],\n",
            "        [0.3607, 0.1535, 0.1363, 0.1921, 0.1575],\n",
            "        [0.3204, 0.1818, 0.1728, 0.1529, 0.1720],\n",
            "        [0.3502, 0.1576, 0.1485, 0.1936, 0.1501],\n",
            "        [0.4006, 0.1597, 0.1347, 0.1822, 0.1228],\n",
            "        [0.3558, 0.1515, 0.1216, 0.2363, 0.1347],\n",
            "        [0.4311, 0.1399, 0.1224, 0.1987, 0.1079],\n",
            "        [0.3477, 0.1543, 0.1517, 0.1880, 0.1583],\n",
            "        [0.3223, 0.2050, 0.1336, 0.1993, 0.1398],\n",
            "        [0.3950, 0.1274, 0.1365, 0.2030, 0.1381],\n",
            "        [0.3939, 0.1708, 0.1071, 0.1989, 0.1294],\n",
            "        [0.3888, 0.1547, 0.1382, 0.1942, 0.1240],\n",
            "        [0.3385, 0.1652, 0.1818, 0.1745, 0.1400]], device='cuda:0',\n",
            "       grad_fn=<SoftmaxBackward0>) torch.Size([16, 5])\n"
          ]
        },
        {
          "output_type": "stream",
          "name": "stderr",
          "text": [
            "/usr/local/lib/python3.7/dist-packages/ipykernel_launcher.py:49: UserWarning: Implicit dimension choice for softmax has been deprecated. Change the call to include dim=X as an argument.\n"
          ]
        }
      ]
    },
    {
      "cell_type": "code",
      "source": [
        "loss = nn.CrossEntropyLoss()\n",
        "loss(output, y)"
      ],
      "metadata": {
        "colab": {
          "base_uri": "https://localhost:8080/"
        },
        "id": "HEakVp39G7z-",
        "outputId": "0ff27ce6-e10b-402b-be02-27d8fd1d0e74"
      },
      "execution_count": 337,
      "outputs": [
        {
          "output_type": "execute_result",
          "data": {
            "text/plain": [
              "tensor(1.6381, device='cuda:0', grad_fn=<NllLossBackward0>)"
            ]
          },
          "metadata": {},
          "execution_count": 337
        }
      ]
    },
    {
      "cell_type": "code",
      "source": [
        "f1(output, y.long()) # y should be ints"
      ],
      "metadata": {
        "colab": {
          "base_uri": "https://localhost:8080/"
        },
        "id": "fhpvvHizLZl5",
        "outputId": "97562022-9408-49da-cc08-ffe7f5c4769c"
      },
      "execution_count": 338,
      "outputs": [
        {
          "output_type": "execute_result",
          "data": {
            "text/plain": [
              "tensor(0.1250, device='cuda:0')"
            ]
          },
          "metadata": {},
          "execution_count": 338
        }
      ]
    },
    {
      "cell_type": "code",
      "source": [
        "output.shape"
      ],
      "metadata": {
        "colab": {
          "base_uri": "https://localhost:8080/"
        },
        "id": "7jusI1_mEGiJ",
        "outputId": "9b74d1ec-0284-4ec2-a434-e027f8db46d5"
      },
      "execution_count": 339,
      "outputs": [
        {
          "output_type": "execute_result",
          "data": {
            "text/plain": [
              "torch.Size([16, 5])"
            ]
          },
          "metadata": {},
          "execution_count": 339
        }
      ]
    },
    {
      "cell_type": "code",
      "source": [
        "y.shape"
      ],
      "metadata": {
        "colab": {
          "base_uri": "https://localhost:8080/"
        },
        "id": "25GO54bkEKo3",
        "outputId": "3c1643e1-c539-4afa-f792-60af9e3b306d"
      },
      "execution_count": 340,
      "outputs": [
        {
          "output_type": "execute_result",
          "data": {
            "text/plain": [
              "torch.Size([16])"
            ]
          },
          "metadata": {},
          "execution_count": 340
        }
      ]
    },
    {
      "cell_type": "markdown",
      "source": [
        "# Train & eval loops"
      ],
      "metadata": {
        "id": "ab2r8R82ME6t"
      }
    },
    {
      "cell_type": "code",
      "source": [
        "model = CNN_w2v(len(word2id), len(symbol2id), 300, 15)\n",
        "optimizer = optim.AdamW(model.parameters())\n",
        "criterion = nn.CrossEntropyLoss()  \n",
        "\n",
        "# веса модели и значения лосса храним в одном месте\n",
        "model = model.to(DEVICE)\n",
        "criterion = criterion.to(DEVICE)"
      ],
      "metadata": {
        "id": "i49DC_fMVve4"
      },
      "execution_count": 407,
      "outputs": []
    },
    {
      "cell_type": "code",
      "source": [
        "def train(model, iterator, optimizer, criterion):\n",
        "\n",
        "  epoch_loss = []\n",
        "  epoch_f1 = []\n",
        "  \n",
        "  print('Training...')\n",
        "  model.train()\n",
        "\n",
        "  for i, (x_word, x_symbol, y) in enumerate(iterator):\n",
        "\n",
        "    y = y.squeeze() # 0D target tensor expected\n",
        "\n",
        "    optimizer.zero_grad()\n",
        "    pred = model(x_word, x_symbol)\n",
        "    loss = criterion(pred, y)\n",
        "    loss.backward()\n",
        "    f_score = f1(pred, y.long())\n",
        "\n",
        "    optimizer.step()\n",
        "    epoch_loss.append(loss.item()) # item() converts its value to a standard Python number (to CPU)\n",
        "    epoch_f1.append(f_score.item())\n",
        "    \n",
        "\n",
        "\n",
        "    \n",
        "  return sum(epoch_loss) / len(iterator), sum(epoch_f1) / len(iterator)"
      ],
      "metadata": {
        "id": "Iqt_iYrtJEKS"
      },
      "execution_count": 408,
      "outputs": []
    },
    {
      "cell_type": "code",
      "source": [
        "def evaluate(model, iterator, optimizer, criterion):\n",
        "  epoch_loss = []\n",
        "  epoch_f1 = []\n",
        "  \n",
        "  print('Evaluating...')\n",
        "  model.eval()\n",
        "  with torch.no_grad():\n",
        "    for i, (x_word, x_symbol, y) in enumerate(iterator):\n",
        "\n",
        "      y = y.squeeze() # 0D target tensor expected\n",
        "\n",
        "      pred = model(x_word, x_symbol)\n",
        "      loss = criterion(pred, y)\n",
        "      f_score = f1(pred, y.long())\n",
        "\n",
        "      epoch_loss.append(loss.item()) # item() converts its value to a standard Python number (to CPU)\n",
        "      epoch_f1.append(f_score.item())\n",
        "\n",
        "      \n",
        "    return sum(epoch_loss) / len(iterator), sum(epoch_f1) / len(iterator)\n",
        "\n"
      ],
      "metadata": {
        "id": "RZnWkxgpU5Ox"
      },
      "execution_count": 409,
      "outputs": []
    },
    {
      "cell_type": "code",
      "source": [
        "# Start\n",
        "\n",
        "losses = []\n",
        "eval_losses = []\n",
        "\n",
        "train_f1 = []\n",
        "eval_f1 = []\n",
        "\n",
        "for epoch in tqdm(range(15)):\n",
        "\n",
        "    print(f'\\nEpoch {epoch + 1}')\n",
        "    epoch_loss, epoch_f1 = train(model, train_loader, optimizer, criterion)\n",
        "    losses.append(epoch_loss)\n",
        "    train_f1.append(epoch_f1)\n",
        "    print(f'Train loss: {epoch_loss}, train F1: {epoch_f1}')\n",
        "    print('. . . ' * 5)\n",
        "    epoch_val_loss, epoch_val_f1 = evaluate(model, val_loader, optimizer, criterion)\n",
        "    eval_losses.append(epoch_val_loss)\n",
        "    eval_f1.append(epoch_val_f1)\n",
        "\n",
        "    print(f'\\n\\nEval loss: {epoch_val_loss}, eval f1: {epoch_val_f1}')\n",
        "    print('. . . ' * 5)"
      ],
      "metadata": {
        "colab": {
          "base_uri": "https://localhost:8080/"
        },
        "id": "diRLvZ1wU8u5",
        "outputId": "44c3f5a0-c226-4dc6-b2cd-797fd7a54609"
      },
      "execution_count": 344,
      "outputs": [
        {
          "output_type": "stream",
          "name": "stderr",
          "text": [
            "\r  0%|          | 0/15 [00:00<?, ?it/s]"
          ]
        },
        {
          "output_type": "stream",
          "name": "stdout",
          "text": [
            "\n",
            "Epoch 1\n",
            "Training...\n"
          ]
        },
        {
          "output_type": "stream",
          "name": "stderr",
          "text": [
            "/usr/local/lib/python3.7/dist-packages/ipykernel_launcher.py:49: UserWarning: Implicit dimension choice for softmax has been deprecated. Change the call to include dim=X as an argument.\n"
          ]
        },
        {
          "output_type": "stream",
          "name": "stdout",
          "text": [
            "Train loss: 1.4175642505628334, train F1: 0.4937622310364083\n",
            ". . . . . . . . . . . . . . . \n",
            "Evaluating...\n"
          ]
        },
        {
          "output_type": "stream",
          "name": "stderr",
          "text": [
            "\r  7%|▋         | 1/15 [00:02<00:36,  2.60s/it]"
          ]
        },
        {
          "output_type": "stream",
          "name": "stdout",
          "text": [
            "\n",
            "\n",
            "Eval loss: 1.342339316423792, eval f1: 0.5772740033856274\n",
            ". . . . . . . . . . . . . . . \n",
            "\n",
            "Epoch 2\n",
            "Training...\n",
            "Train loss: 1.3206190649232907, train F1: 0.584556425270969\n",
            ". . . . . . . . . . . . . . . \n",
            "Evaluating...\n"
          ]
        },
        {
          "output_type": "stream",
          "name": "stderr",
          "text": [
            "\r 13%|█▎        | 2/15 [00:06<00:43,  3.36s/it]"
          ]
        },
        {
          "output_type": "stream",
          "name": "stdout",
          "text": [
            "\n",
            "\n",
            "Eval loss: 1.3459698823246642, eval f1: 0.5499017406119048\n",
            ". . . . . . . . . . . . . . . \n",
            "\n",
            "Epoch 3\n",
            "Training...\n",
            "Train loss: 1.303758094572041, train F1: 0.5985404435358092\n",
            ". . . . . . . . . . . . . . . \n",
            "Evaluating...\n"
          ]
        },
        {
          "output_type": "stream",
          "name": "stderr",
          "text": [
            "\r 20%|██        | 3/15 [00:12<00:52,  4.35s/it]"
          ]
        },
        {
          "output_type": "stream",
          "name": "stdout",
          "text": [
            "\n",
            "\n",
            "Eval loss: 1.3239283666123438, eval f1: 0.5727119595900069\n",
            ". . . . . . . . . . . . . . . \n",
            "\n",
            "Epoch 4\n",
            "Training...\n",
            "Train loss: 1.287940581095273, train F1: 0.6125652313776756\n",
            ". . . . . . . . . . . . . . . \n",
            "Evaluating...\n"
          ]
        },
        {
          "output_type": "stream",
          "name": "stderr",
          "text": [
            "\r 27%|██▋       | 4/15 [00:16<00:47,  4.31s/it]"
          ]
        },
        {
          "output_type": "stream",
          "name": "stdout",
          "text": [
            "\n",
            "\n",
            "Eval loss: 1.297865945927418, eval f1: 0.60464626615935\n",
            ". . . . . . . . . . . . . . . \n",
            "\n",
            "Epoch 5\n",
            "Training...\n",
            "Train loss: 1.271804123164312, train F1: 0.631115459688178\n",
            ". . . . . . . . . . . . . . . \n",
            "Evaluating...\n"
          ]
        },
        {
          "output_type": "stream",
          "name": "stderr",
          "text": [
            "\r 33%|███▎      | 5/15 [00:18<00:36,  3.68s/it]"
          ]
        },
        {
          "output_type": "stream",
          "name": "stdout",
          "text": [
            "\n",
            "\n",
            "Eval loss: 1.2791345876498814, eval f1: 0.6228944413418317\n",
            ". . . . . . . . . . . . . . . \n",
            "\n",
            "Epoch 6\n",
            "Training...\n",
            "Train loss: 1.258540300473775, train F1: 0.6439579254416026\n",
            ". . . . . . . . . . . . . . . \n",
            "Evaluating...\n"
          ]
        },
        {
          "output_type": "stream",
          "name": "stderr",
          "text": [
            "\r 40%|████      | 6/15 [00:21<00:29,  3.30s/it]"
          ]
        },
        {
          "output_type": "stream",
          "name": "stdout",
          "text": [
            "\n",
            "\n",
            "Eval loss: 1.272447995895887, eval f1: 0.6238068501009558\n",
            ". . . . . . . . . . . . . . . \n",
            "\n",
            "Epoch 7\n",
            "Training...\n",
            "Train loss: 1.2393441099554436, train F1: 0.664791258774936\n",
            ". . . . . . . . . . . . . . . \n",
            "Evaluating...\n"
          ]
        },
        {
          "output_type": "stream",
          "name": "stderr",
          "text": [
            "\r 47%|████▋     | 7/15 [00:23<00:24,  3.06s/it]"
          ]
        },
        {
          "output_type": "stream",
          "name": "stdout",
          "text": [
            "\n",
            "\n",
            "Eval loss: 1.2729491595804256, eval f1: 0.6279126895170142\n",
            ". . . . . . . . . . . . . . . \n",
            "\n",
            "Epoch 8\n",
            "Training...\n",
            "Train loss: 1.2173352774964075, train F1: 0.6927592953046163\n",
            ". . . . . . . . . . . . . . . \n",
            "Evaluating...\n"
          ]
        },
        {
          "output_type": "stream",
          "name": "stderr",
          "text": [
            "\r 53%|█████▎    | 8/15 [00:26<00:20,  2.91s/it]"
          ]
        },
        {
          "output_type": "stream",
          "name": "stdout",
          "text": [
            "\n",
            "\n",
            "Eval loss: 1.2885018212951882, eval f1: 0.605102470538912\n",
            ". . . . . . . . . . . . . . . \n",
            "\n",
            "Epoch 9\n",
            "Training...\n",
            "Train loss: 1.1932376051602298, train F1: 0.7159165032378071\n",
            ". . . . . . . . . . . . . . . \n",
            "Evaluating...\n"
          ]
        },
        {
          "output_type": "stream",
          "name": "stderr",
          "text": [
            "\r 60%|██████    | 9/15 [00:29<00:16,  2.80s/it]"
          ]
        },
        {
          "output_type": "stream",
          "name": "stdout",
          "text": [
            "\n",
            "\n",
            "Eval loss: 1.2345051808948935, eval f1: 0.6657776530206638\n",
            ". . . . . . . . . . . . . . . \n",
            "\n",
            "Epoch 10\n",
            "Training...\n",
            "Train loss: 1.1929954750352798, train F1: 0.7173842139984374\n",
            ". . . . . . . . . . . . . . . \n",
            "Evaluating...\n"
          ]
        },
        {
          "output_type": "stream",
          "name": "stderr",
          "text": [
            "\r 67%|██████▋   | 10/15 [00:31<00:13,  2.72s/it]"
          ]
        },
        {
          "output_type": "stream",
          "name": "stdout",
          "text": [
            "\n",
            "\n",
            "Eval loss: 1.2235329738498604, eval f1: 0.6794637844075252\n",
            ". . . . . . . . . . . . . . . \n",
            "\n",
            "Epoch 11\n",
            "Training...\n",
            "Train loss: 1.1911763967988698, train F1: 0.7119618395692138\n",
            ". . . . . . . . . . . . . . . \n",
            "Evaluating...\n"
          ]
        },
        {
          "output_type": "stream",
          "name": "stderr",
          "text": [
            "\r 73%|███████▎  | 11/15 [00:34<00:10,  2.67s/it]"
          ]
        },
        {
          "output_type": "stream",
          "name": "stdout",
          "text": [
            "\n",
            "\n",
            "Eval loss: 1.1989502532638772, eval f1: 0.7031864121447514\n",
            ". . . . . . . . . . . . . . . \n",
            "\n",
            "Epoch 12\n",
            "Training...\n",
            "Train loss: 1.1717650359624052, train F1: 0.7350782779253782\n",
            ". . . . . . . . . . . . . . . \n",
            "Evaluating...\n"
          ]
        },
        {
          "output_type": "stream",
          "name": "stderr",
          "text": [
            "\r 80%|████████  | 12/15 [00:36<00:07,  2.64s/it]"
          ]
        },
        {
          "output_type": "stream",
          "name": "stdout",
          "text": [
            "\n",
            "\n",
            "Eval loss: 1.1831517467533585, eval f1: 0.7132229084951164\n",
            ". . . . . . . . . . . . . . . \n",
            "\n",
            "Epoch 13\n",
            "Training...\n",
            "Train loss: 1.1580617958552217, train F1: 0.7493476843180722\n",
            ". . . . . . . . . . . . . . . \n",
            "Evaluating...\n"
          ]
        },
        {
          "output_type": "stream",
          "name": "stderr",
          "text": [
            "\r 87%|████████▋ | 13/15 [00:39<00:05,  2.62s/it]"
          ]
        },
        {
          "output_type": "stream",
          "name": "stdout",
          "text": [
            "\n",
            "\n",
            "Eval loss: 1.1683475514398003, eval f1: 0.7319272880571602\n",
            ". . . . . . . . . . . . . . . \n",
            "\n",
            "Epoch 14\n",
            "Training...\n",
            "Train loss: 1.1403330281444881, train F1: 0.7696102413956978\n",
            ". . . . . . . . . . . . . . . \n",
            "Evaluating...\n"
          ]
        },
        {
          "output_type": "stream",
          "name": "stderr",
          "text": [
            "\r 93%|█████████▎| 14/15 [00:41<00:02,  2.60s/it]"
          ]
        },
        {
          "output_type": "stream",
          "name": "stdout",
          "text": [
            "\n",
            "\n",
            "Eval loss: 1.1590009697162322, eval f1: 0.7456134194440215\n",
            ". . . . . . . . . . . . . . . \n",
            "\n",
            "Epoch 15\n",
            "Training...\n",
            "Train loss: 1.125892816613254, train F1: 0.7821673190212686\n",
            ". . . . . . . . . . . . . . . \n",
            "Evaluating...\n"
          ]
        },
        {
          "output_type": "stream",
          "name": "stderr",
          "text": [
            "100%|██████████| 15/15 [00:44<00:00,  2.96s/it]"
          ]
        },
        {
          "output_type": "stream",
          "name": "stdout",
          "text": [
            "\n",
            "\n",
            "Eval loss: 1.1454990501821476, eval f1: 0.7624929814878172\n",
            ". . . . . . . . . . . . . . . \n"
          ]
        },
        {
          "output_type": "stream",
          "name": "stderr",
          "text": [
            "\n"
          ]
        }
      ]
    },
    {
      "cell_type": "code",
      "source": [
        "def plot_training(train_loss, train_metric, val_loss, val_metric):\n",
        "    \n",
        "    fig, axs = plt.subplots(1, 2, figsize=(15, 5))\n",
        "    axs[0].plot(train_loss, label='train_loss')\n",
        "    axs[0].plot(val_loss, label='val_f1')\n",
        "    axs[0].set_xlabel('Epochs')\n",
        "    axs[0].set_ylabel('Value')\n",
        "    axs[0].legend()\n",
        "    axs[0].grid()\n",
        "    axs[0].set_title('Loss')\n",
        "\n",
        "    axs[1].plot(train_metric, label='train_f1')\n",
        "    axs[1].plot(val_metric, label='val_f1')\n",
        "    axs[1].set_xlabel('Epochs')\n",
        "    axs[1].set_ylabel('Value')\n",
        "    axs[1].legend()\n",
        "    axs[1].grid()\n",
        "    axs[1].set_title('F1')"
      ],
      "metadata": {
        "id": "7hG-t6kVZ9__"
      },
      "execution_count": 345,
      "outputs": []
    },
    {
      "cell_type": "code",
      "source": [
        "plot_training(losses, train_f1, eval_losses, eval_f1)"
      ],
      "metadata": {
        "colab": {
          "base_uri": "https://localhost:8080/",
          "height": 350
        },
        "id": "btRpdfaieaiS",
        "outputId": "302fe244-b0c2-4c20-86e7-c8e6038c1d1f"
      },
      "execution_count": 346,
      "outputs": [
        {
          "output_type": "display_data",
          "data": {
            "text/plain": [
              "<Figure size 1080x360 with 2 Axes>"
            ],
            "image/png": "[encoded data removed]"
          },
          "metadata": {
            "needs_background": "light"
          }
        }
      ]
    },
    {
      "cell_type": "markdown",
      "source": [
        "Мы видим, что начали переобучаться. Попробуем сделать кол-во этох = 12."
      ],
      "metadata": {
        "id": "QLZfoGxbpA8t"
      }
    },
    {
      "cell_type": "code",
      "source": [
        "model = CNN_w2v(len(word2id), len(symbol2id), 300, 15)\n",
        "optimizer = optim.AdamW(model.parameters())\n",
        "criterion = nn.CrossEntropyLoss()  \n",
        "\n",
        "# веса модели и значения лосса храним в одном месте\n",
        "model = model.to(DEVICE)\n",
        "criterion = criterion.to(DEVICE)\n",
        "\n",
        "# Start\n",
        "\n",
        "losses = []\n",
        "eval_losses = []\n",
        "\n",
        "train_f1 = []\n",
        "eval_f1 = []\n",
        "\n",
        "for epoch in tqdm(range(12)):\n",
        "\n",
        "    print(f'\\nEpoch {epoch + 1}')\n",
        "    epoch_loss, epoch_f1 = train(model, train_loader, optimizer, criterion)\n",
        "    losses.append(epoch_loss)\n",
        "    train_f1.append(epoch_f1)\n",
        "    print(f'Train loss: {epoch_loss}, train F1: {epoch_f1}')\n",
        "    print('. . . ' * 5)\n",
        "    epoch_val_loss, epoch_val_f1 = evaluate(model, val_loader, optimizer, criterion)\n",
        "    eval_losses.append(epoch_val_loss)\n",
        "    eval_f1.append(epoch_val_f1)\n",
        "\n",
        "    print(f'\\n\\nEval loss: {epoch_val_loss}, eval f1: {epoch_val_f1}')\n",
        "    print('. . . ' * 5)"
      ],
      "metadata": {
        "colab": {
          "base_uri": "https://localhost:8080/"
        },
        "id": "ih-s7RgXpOjK",
        "outputId": "0796e6e7-4910-41c7-c312-c1ec879b07e5"
      },
      "execution_count": 347,
      "outputs": [
        {
          "output_type": "stream",
          "name": "stderr",
          "text": [
            "\r  0%|          | 0/12 [00:00<?, ?it/s]/usr/local/lib/python3.7/dist-packages/ipykernel_launcher.py:49: UserWarning: Implicit dimension choice for softmax has been deprecated. Change the call to include dim=X as an argument.\n"
          ]
        },
        {
          "output_type": "stream",
          "name": "stdout",
          "text": [
            "\n",
            "Epoch 1\n",
            "Training...\n",
            "Train loss: 1.4199532020037577, train F1: 0.47749510774873705\n",
            ". . . . . . . . . . . . . . . \n",
            "Evaluating...\n"
          ]
        },
        {
          "output_type": "stream",
          "name": "stderr",
          "text": [
            "\r  8%|▊         | 1/12 [00:02<00:28,  2.57s/it]"
          ]
        },
        {
          "output_type": "stream",
          "name": "stdout",
          "text": [
            "\n",
            "\n",
            "Eval loss: 1.3459241163991664, eval f1: 0.5525336889889989\n",
            ". . . . . . . . . . . . . . . \n",
            "\n",
            "Epoch 2\n",
            "Training...\n",
            "Train loss: 1.322600901399029, train F1: 0.5814171558645762\n",
            ". . . . . . . . . . . . . . . \n",
            "Evaluating...\n"
          ]
        },
        {
          "output_type": "stream",
          "name": "stderr",
          "text": [
            "\r 17%|█▋        | 2/12 [00:05<00:25,  2.55s/it]"
          ]
        },
        {
          "output_type": "stream",
          "name": "stdout",
          "text": [
            "\n",
            "\n",
            "Eval loss: 1.3243295476384407, eval f1: 0.5672375070352624\n",
            ". . . . . . . . . . . . . . . \n",
            "\n",
            "Epoch 3\n",
            "Training...\n",
            "Train loss: 1.2984592587980506, train F1: 0.6017204825192282\n",
            ". . . . . . . . . . . . . . . \n",
            "Evaluating...\n"
          ]
        },
        {
          "output_type": "stream",
          "name": "stderr",
          "text": [
            "\r 25%|██▌       | 3/12 [00:07<00:22,  2.53s/it]"
          ]
        },
        {
          "output_type": "stream",
          "name": "stdout",
          "text": [
            "\n",
            "\n",
            "Eval loss: 1.3152147888267127, eval f1: 0.5790988209038755\n",
            ". . . . . . . . . . . . . . . \n",
            "\n",
            "Epoch 4\n",
            "Training...\n",
            "Train loss: 1.2802113174847816, train F1: 0.6236545987869506\n",
            ". . . . . . . . . . . . . . . \n",
            "Evaluating...\n"
          ]
        },
        {
          "output_type": "stream",
          "name": "stderr",
          "text": [
            "\r 33%|███▎      | 4/12 [00:10<00:20,  2.53s/it]"
          ]
        },
        {
          "output_type": "stream",
          "name": "stdout",
          "text": [
            "\n",
            "\n",
            "Eval loss: 1.2999635778204368, eval f1: 0.6036987648393116\n",
            ". . . . . . . . . . . . . . . \n",
            "\n",
            "Epoch 5\n",
            "Training...\n",
            "Train loss: 1.2556152253934783, train F1: 0.6505218523822419\n",
            ". . . . . . . . . . . . . . . \n",
            "Evaluating...\n"
          ]
        },
        {
          "output_type": "stream",
          "name": "stderr",
          "text": [
            "\r 42%|████▏     | 5/12 [00:12<00:17,  2.52s/it]"
          ]
        },
        {
          "output_type": "stream",
          "name": "stdout",
          "text": [
            "\n",
            "\n",
            "Eval loss: 1.2755015414126598, eval f1: 0.6267546323964196\n",
            ". . . . . . . . . . . . . . . \n",
            "\n",
            "Epoch 6\n",
            "Training...\n",
            "Train loss: 1.2185152570406597, train F1: 0.6956131765831551\n",
            ". . . . . . . . . . . . . . . \n",
            "Evaluating...\n"
          ]
        },
        {
          "output_type": "stream",
          "name": "stderr",
          "text": [
            "\r 50%|█████     | 6/12 [00:15<00:15,  2.52s/it]"
          ]
        },
        {
          "output_type": "stream",
          "name": "stdout",
          "text": [
            "\n",
            "\n",
            "Eval loss: 1.2516912748343754, eval f1: 0.6554955083088283\n",
            ". . . . . . . . . . . . . . . \n",
            "\n",
            "Epoch 7\n",
            "Training...\n",
            "Train loss: 1.1935871224425154, train F1: 0.7201565555785889\n",
            ". . . . . . . . . . . . . . . \n",
            "Evaluating...\n"
          ]
        },
        {
          "output_type": "stream",
          "name": "stderr",
          "text": [
            "\r 58%|█████▊    | 7/12 [00:18<00:13,  2.72s/it]"
          ]
        },
        {
          "output_type": "stream",
          "name": "stdout",
          "text": [
            "\n",
            "\n",
            "Eval loss: 1.2669429078589391, eval f1: 0.6340539024694123\n",
            ". . . . . . . . . . . . . . . \n",
            "\n",
            "Epoch 8\n",
            "Training...\n",
            "Train loss: 1.1813587238799492, train F1: 0.7292889756699131\n",
            ". . . . . . . . . . . . . . . \n",
            "Evaluating...\n"
          ]
        },
        {
          "output_type": "stream",
          "name": "stderr",
          "text": [
            "\r 67%|██████▋   | 8/12 [00:21<00:11,  2.98s/it]"
          ]
        },
        {
          "output_type": "stream",
          "name": "stdout",
          "text": [
            "\n",
            "\n",
            "Eval loss: 1.2604547142982483, eval f1: 0.6390721506445948\n",
            ". . . . . . . . . . . . . . . \n",
            "\n",
            "Epoch 9\n",
            "Training...\n",
            "Train loss: 1.1756716468562818, train F1: 0.7327136332041597\n",
            ". . . . . . . . . . . . . . . \n",
            "Evaluating...\n"
          ]
        },
        {
          "output_type": "stream",
          "name": "stderr",
          "text": [
            "\r 75%|███████▌  | 9/12 [00:24<00:08,  2.83s/it]"
          ]
        },
        {
          "output_type": "stream",
          "name": "stdout",
          "text": [
            "\n",
            "\n",
            "Eval loss: 1.194156121598543, eval f1: 0.71273161155464\n",
            ". . . . . . . . . . . . . . . \n",
            "\n",
            "Epoch 10\n",
            "Training...\n",
            "Train loss: 1.1598117305263538, train F1: 0.7489807564918309\n",
            ". . . . . . . . . . . . . . . \n",
            "Evaluating...\n"
          ]
        },
        {
          "output_type": "stream",
          "name": "stderr",
          "text": [
            "\r 83%|████████▎ | 10/12 [00:26<00:05,  2.72s/it]"
          ]
        },
        {
          "output_type": "stream",
          "name": "stdout",
          "text": [
            "\n",
            "\n",
            "Eval loss: 1.1714231062979594, eval f1: 0.733260808634932\n",
            ". . . . . . . . . . . . . . . \n",
            "\n",
            "Epoch 11\n",
            "Training...\n",
            "Train loss: 1.1351075403766544, train F1: 0.7792318980443423\n",
            ". . . . . . . . . . . . . . . \n",
            "Evaluating...\n"
          ]
        },
        {
          "output_type": "stream",
          "name": "stderr",
          "text": [
            "\r 92%|█████████▏| 11/12 [00:29<00:02,  2.68s/it]"
          ]
        },
        {
          "output_type": "stream",
          "name": "stdout",
          "text": [
            "\n",
            "\n",
            "Eval loss: 1.1628399943783336, eval f1: 0.743297304985297\n",
            ". . . . . . . . . . . . . . . \n",
            "\n",
            "Epoch 12\n",
            "Training...\n",
            "Train loss: 1.1168590917434866, train F1: 0.8007175473317708\n",
            ". . . . . . . . . . . . . . . \n",
            "Evaluating...\n"
          ]
        },
        {
          "output_type": "stream",
          "name": "stderr",
          "text": [
            "100%|██████████| 12/12 [00:31<00:00,  2.66s/it]"
          ]
        },
        {
          "output_type": "stream",
          "name": "stdout",
          "text": [
            "\n",
            "\n",
            "Eval loss: 1.1555849931535929, eval f1: 0.7519651881969758\n",
            ". . . . . . . . . . . . . . . \n"
          ]
        },
        {
          "output_type": "stream",
          "name": "stderr",
          "text": [
            "\n"
          ]
        }
      ]
    },
    {
      "cell_type": "code",
      "source": [
        "plot_training(losses, train_f1, eval_losses, eval_f1)"
      ],
      "metadata": {
        "colab": {
          "base_uri": "https://localhost:8080/",
          "height": 350
        },
        "id": "JfNPUyP5pRIO",
        "outputId": "9f64d0e0-5a1a-4878-ab93-100429d90e6f"
      },
      "execution_count": 348,
      "outputs": [
        {
          "output_type": "display_data",
          "data": {
            "text/plain": [
              "<Figure size 1080x360 with 2 Axes>"
            ],
            "image/png": "[encoded data removed]"
          },
          "metadata": {
            "needs_background": "light"
          }
        }
      ]
    },
    {
      "cell_type": "markdown",
      "source": [
        "А здесь кажется, что модель будто не доучилась\n"
      ],
      "metadata": {
        "id": "cai-oXNRp4c3"
      }
    },
    {
      "cell_type": "code",
      "source": [
        "model = CNN_w2v(len(word2id), len(symbol2id), 300, 15)\n",
        "optimizer = optim.AdamW(model.parameters())\n",
        "criterion = nn.CrossEntropyLoss()  \n",
        "\n",
        "# веса модели и значения лосса храним в одном месте\n",
        "model = model.to(DEVICE)\n",
        "criterion = criterion.to(DEVICE)\n",
        "\n",
        "# Start\n",
        "\n",
        "losses = []\n",
        "eval_losses = []\n",
        "\n",
        "train_f1 = []\n",
        "eval_f1 = []\n",
        "\n",
        "for epoch in tqdm(range(14)):\n",
        "\n",
        "    print(f'\\nEpoch {epoch + 1}')\n",
        "    epoch_loss, epoch_f1 = train(model, train_loader, optimizer, criterion)\n",
        "    losses.append(epoch_loss)\n",
        "    train_f1.append(epoch_f1)\n",
        "    print(f'Train loss: {epoch_loss}, train F1: {epoch_f1}')\n",
        "    print('. . . ' * 5)\n",
        "    epoch_val_loss, epoch_val_f1 = evaluate(model, val_loader, optimizer, criterion)\n",
        "    eval_losses.append(epoch_val_loss)\n",
        "    eval_f1.append(epoch_val_f1)\n",
        "\n",
        "    print(f'\\n\\nEval loss: {epoch_val_loss}, eval f1: {epoch_val_f1}')\n",
        "    print('. . . ' * 5)"
      ],
      "metadata": {
        "colab": {
          "base_uri": "https://localhost:8080/"
        },
        "id": "wISzaQWQpv0f",
        "outputId": "ab0a6ddd-ee4e-4cb0-9dac-4c1bc145b4b3"
      },
      "execution_count": 349,
      "outputs": [
        {
          "output_type": "stream",
          "name": "stderr",
          "text": [
            "\r  0%|          | 0/14 [00:00<?, ?it/s]/usr/local/lib/python3.7/dist-packages/ipykernel_launcher.py:49: UserWarning: Implicit dimension choice for softmax has been deprecated. Change the call to include dim=X as an argument.\n"
          ]
        },
        {
          "output_type": "stream",
          "name": "stdout",
          "text": [
            "\n",
            "Epoch 1\n",
            "Training...\n",
            "Train loss: 1.4152986970666337, train F1: 0.4932322243577269\n",
            ". . . . . . . . . . . . . . . \n",
            "Evaluating...\n"
          ]
        },
        {
          "output_type": "stream",
          "name": "stderr",
          "text": [
            "\r  7%|▋         | 1/14 [00:02<00:33,  2.54s/it]"
          ]
        },
        {
          "output_type": "stream",
          "name": "stdout",
          "text": [
            "\n",
            "\n",
            "Eval loss: 1.339754160303269, eval f1: 0.5759053902469412\n",
            ". . . . . . . . . . . . . . . \n",
            "\n",
            "Epoch 2\n",
            "Training...\n",
            "Train loss: 1.3212367097536724, train F1: 0.5811317677367224\n",
            ". . . . . . . . . . . . . . . \n",
            "Evaluating...\n"
          ]
        },
        {
          "output_type": "stream",
          "name": "stderr",
          "text": [
            "\r 14%|█▍        | 2/14 [00:05<00:30,  2.53s/it]"
          ]
        },
        {
          "output_type": "stream",
          "name": "stdout",
          "text": [
            "\n",
            "\n",
            "Eval loss: 1.3322208267058768, eval f1: 0.5663250982761383\n",
            ". . . . . . . . . . . . . . . \n",
            "\n",
            "Epoch 3\n",
            "Training...\n",
            "Train loss: 1.3024299185569972, train F1: 0.5980104368571277\n",
            ". . . . . . . . . . . . . . . \n",
            "Evaluating...\n"
          ]
        },
        {
          "output_type": "stream",
          "name": "stderr",
          "text": [
            "\r 21%|██▏       | 3/14 [00:07<00:27,  2.53s/it]"
          ]
        },
        {
          "output_type": "stream",
          "name": "stdout",
          "text": [
            "\n",
            "\n",
            "Eval loss: 1.3032939564572634, eval f1: 0.5964345873272332\n",
            ". . . . . . . . . . . . . . . \n",
            "\n",
            "Epoch 4\n",
            "Training...\n",
            "Train loss: 1.2854388062268087, train F1: 0.6134213957612373\n",
            ". . . . . . . . . . . . . . . \n",
            "Evaluating...\n"
          ]
        },
        {
          "output_type": "stream",
          "name": "stderr",
          "text": [
            "\r 29%|██▊       | 4/14 [00:10<00:25,  2.53s/it]"
          ]
        },
        {
          "output_type": "stream",
          "name": "stdout",
          "text": [
            "\n",
            "\n",
            "Eval loss: 1.288689496743418, eval f1: 0.6128579449914667\n",
            ". . . . . . . . . . . . . . . \n",
            "\n",
            "Epoch 5\n",
            "Training...\n",
            "Train loss: 1.278263939297907, train F1: 0.6208414870854382\n",
            ". . . . . . . . . . . . . . . \n",
            "Evaluating...\n"
          ]
        },
        {
          "output_type": "stream",
          "name": "stderr",
          "text": [
            "\r 36%|███▌      | 5/14 [00:12<00:22,  2.53s/it]"
          ]
        },
        {
          "output_type": "stream",
          "name": "stdout",
          "text": [
            "\n",
            "\n",
            "Eval loss: 1.2863077891133998, eval f1: 0.6105769230936565\n",
            ". . . . . . . . . . . . . . . \n",
            "\n",
            "Epoch 6\n",
            "Training...\n",
            "Train loss: 1.2617847024033604, train F1: 0.6382909324615513\n",
            ". . . . . . . . . . . . . . . \n",
            "Evaluating...\n"
          ]
        },
        {
          "output_type": "stream",
          "name": "stderr",
          "text": [
            "\r 43%|████▎     | 6/14 [00:15<00:20,  2.51s/it]"
          ]
        },
        {
          "output_type": "stream",
          "name": "stdout",
          "text": [
            "\n",
            "\n",
            "Eval loss: 1.2694996325639043, eval f1: 0.6356681639695689\n",
            ". . . . . . . . . . . . . . . \n",
            "\n",
            "Epoch 7\n",
            "Training...\n",
            "Train loss: 1.240478636195126, train F1: 0.6651174164798161\n",
            ". . . . . . . . . . . . . . . \n",
            "Evaluating...\n"
          ]
        },
        {
          "output_type": "stream",
          "name": "stderr",
          "text": [
            "\r 50%|█████     | 7/14 [00:17<00:17,  2.51s/it]"
          ]
        },
        {
          "output_type": "stream",
          "name": "stdout",
          "text": [
            "\n",
            "\n",
            "Eval loss: 1.2526112599094419, eval f1: 0.6457046603199339\n",
            ". . . . . . . . . . . . . . . \n",
            "\n",
            "Epoch 8\n",
            "Training...\n",
            "Train loss: 1.2247894400875319, train F1: 0.6839938030395334\n",
            ". . . . . . . . . . . . . . . \n",
            "Evaluating...\n"
          ]
        },
        {
          "output_type": "stream",
          "name": "stderr",
          "text": [
            "\r 57%|█████▋    | 8/14 [00:20<00:15,  2.51s/it]"
          ]
        },
        {
          "output_type": "stream",
          "name": "stdout",
          "text": [
            "\n",
            "\n",
            "Eval loss: 1.2381108920939647, eval f1: 0.667602470538912\n",
            ". . . . . . . . . . . . . . . \n",
            "\n",
            "Epoch 9\n",
            "Training...\n",
            "Train loss: 1.213212303102833, train F1: 0.6927592953046163\n",
            ". . . . . . . . . . . . . . . \n",
            "Evaluating...\n"
          ]
        },
        {
          "output_type": "stream",
          "name": "stderr",
          "text": [
            "\r 64%|██████▍   | 9/14 [00:22<00:12,  2.51s/it]"
          ]
        },
        {
          "output_type": "stream",
          "name": "stdout",
          "text": [
            "\n",
            "\n",
            "Eval loss: 1.2705696742900097, eval f1: 0.6283688938965762\n",
            ". . . . . . . . . . . . . . . \n",
            "\n",
            "Epoch 10\n",
            "Training...\n",
            "Train loss: 1.18328400425715, train F1: 0.7262720155389342\n",
            ". . . . . . . . . . . . . . . \n",
            "Evaluating...\n"
          ]
        },
        {
          "output_type": "stream",
          "name": "stderr",
          "text": [
            "\r 71%|███████▏  | 10/14 [00:25<00:10,  2.51s/it]"
          ]
        },
        {
          "output_type": "stream",
          "name": "stdout",
          "text": [
            "\n",
            "\n",
            "Eval loss: 1.2126780643950414, eval f1: 0.6973259405498087\n",
            ". . . . . . . . . . . . . . . \n",
            "\n",
            "Epoch 11\n",
            "Training...\n",
            "Train loss: 1.1439162032789292, train F1: 0.7727495108020904\n",
            ". . . . . . . . . . . . . . . \n",
            "Evaluating...\n"
          ]
        },
        {
          "output_type": "stream",
          "name": "stderr",
          "text": [
            "\r 79%|███████▊  | 11/14 [00:27<00:07,  2.51s/it]"
          ]
        },
        {
          "output_type": "stream",
          "name": "stdout",
          "text": [
            "\n",
            "\n",
            "Eval loss: 1.223459158935686, eval f1: 0.6798848962261729\n",
            ". . . . . . . . . . . . . . . \n",
            "\n",
            "Epoch 12\n",
            "Training...\n",
            "Train loss: 1.1201108375640765, train F1: 0.7967628831188428\n",
            ". . . . . . . . . . . . . . . \n",
            "Evaluating...\n"
          ]
        },
        {
          "output_type": "stream",
          "name": "stderr",
          "text": [
            "\r 86%|████████▌ | 12/14 [00:30<00:05,  2.51s/it]"
          ]
        },
        {
          "output_type": "stream",
          "name": "stdout",
          "text": [
            "\n",
            "\n",
            "Eval loss: 1.2292812627597447, eval f1: 0.6670058956981575\n",
            ". . . . . . . . . . . . . . . \n",
            "\n",
            "Epoch 13\n",
            "Training...\n",
            "Train loss: 1.103223860808159, train F1: 0.8144569470457834\n",
            ". . . . . . . . . . . . . . . \n",
            "Evaluating...\n"
          ]
        },
        {
          "output_type": "stream",
          "name": "stderr",
          "text": [
            "\r 93%|█████████▎| 13/14 [00:32<00:02,  2.52s/it]"
          ]
        },
        {
          "output_type": "stream",
          "name": "stdout",
          "text": [
            "\n",
            "\n",
            "Eval loss: 1.1463806524764013, eval f1: 0.7589135317906847\n",
            ". . . . . . . . . . . . . . . \n",
            "\n",
            "Epoch 14\n",
            "Training...\n",
            "Train loss: 1.0996977885564168, train F1: 0.8141715589179296\n",
            ". . . . . . . . . . . . . . . \n",
            "Evaluating...\n"
          ]
        },
        {
          "output_type": "stream",
          "name": "stderr",
          "text": [
            "100%|██████████| 14/14 [00:35<00:00,  2.52s/it]"
          ]
        },
        {
          "output_type": "stream",
          "name": "stdout",
          "text": [
            "\n",
            "\n",
            "Eval loss: 1.119230373497427, eval f1: 0.7899354296009036\n",
            ". . . . . . . . . . . . . . . \n"
          ]
        },
        {
          "output_type": "stream",
          "name": "stderr",
          "text": [
            "\n"
          ]
        }
      ]
    },
    {
      "cell_type": "code",
      "source": [
        "plot_training(losses, train_f1, eval_losses, eval_f1)"
      ],
      "metadata": {
        "colab": {
          "base_uri": "https://localhost:8080/",
          "height": 350
        },
        "id": "ckRUcVJpqEAc",
        "outputId": "e6e2d736-090b-4c45-ef47-7470249b253e"
      },
      "execution_count": 283,
      "outputs": [
        {
          "output_type": "display_data",
          "data": {
            "text/plain": [
              "<Figure size 1080x360 with 2 Axes>"
            ],
            "image/png": "[encoded data removed]"
          },
          "metadata": {
            "needs_background": "light"
          }
        }
      ]
    },
    {
      "cell_type": "markdown",
      "source": [
        "Пока что для этой сетки это лучший результат: 0.805 micro F1. На этом запуске кажется, что 14 эпох - маловато. Есть ощущение, что очень зависит от рандомного запуска, от батчей"
      ],
      "metadata": {
        "id": "xANzFT5px9Qp"
      }
    },
    {
      "cell_type": "markdown",
      "source": [
        "Решение на huggingface: f1 macro 0.8348, f1 micro 0.9280 на *ruBERT*"
      ],
      "metadata": {
        "id": "N4j8-hYQyhEH"
      }
    },
    {
      "cell_type": "markdown",
      "source": [
        "Уменьшим learning rate (и увеличим кол-во эпох) "
      ],
      "metadata": {
        "id": "cNyKCzE2ELRa"
      }
    },
    {
      "cell_type": "code",
      "source": [
        "model = CNN_w2v(len(word2id), len(symbol2id), 300, 15)\n",
        "optimizer = optim.AdamW(model.parameters(), lr=0.0001)\n",
        "criterion = nn.CrossEntropyLoss()  \n",
        "\n",
        "# веса модели и значения лосса храним в одном месте\n",
        "model = model.to(DEVICE)\n",
        "criterion = criterion.to(DEVICE)\n",
        "\n",
        "# Start\n",
        "\n",
        "losses = []\n",
        "eval_losses = []\n",
        "\n",
        "train_f1 = []\n",
        "eval_f1 = []\n",
        "\n",
        "for epoch in tqdm(range(30)):\n",
        "\n",
        "    print(f'\\nEpoch {epoch + 1}')\n",
        "    epoch_loss, epoch_f1 = train(model, train_loader, optimizer, criterion)\n",
        "    losses.append(epoch_loss)\n",
        "    train_f1.append(epoch_f1)\n",
        "    print(f'Train loss: {epoch_loss}, train F1: {epoch_f1}')\n",
        "    print('. . . ' * 5)\n",
        "    epoch_val_loss, epoch_val_f1 = evaluate(model, val_loader, optimizer, criterion)\n",
        "    eval_losses.append(epoch_val_loss)\n",
        "    eval_f1.append(epoch_val_f1)\n",
        "\n",
        "    print(f'\\n\\nEval loss: {epoch_val_loss}, eval f1: {epoch_val_f1}')\n",
        "    print('. . . ' * 5)"
      ],
      "metadata": {
        "colab": {
          "base_uri": "https://localhost:8080/"
        },
        "id": "GMX31ApxDLOo",
        "outputId": "ea975fc4-a7e9-420a-d64c-6c3602d4959d"
      },
      "execution_count": 353,
      "outputs": [
        {
          "output_type": "stream",
          "name": "stderr",
          "text": [
            "\r  0%|          | 0/30 [00:00<?, ?it/s]/usr/local/lib/python3.7/dist-packages/ipykernel_launcher.py:49: UserWarning: Implicit dimension choice for softmax has been deprecated. Change the call to include dim=X as an argument.\n"
          ]
        },
        {
          "output_type": "stream",
          "name": "stdout",
          "text": [
            "\n",
            "Epoch 1\n",
            "Training...\n",
            "Train loss: 1.5247872501747792, train F1: 0.3561643835616438\n",
            ". . . . . . . . . . . . . . . \n",
            "Evaluating...\n"
          ]
        },
        {
          "output_type": "stream",
          "name": "stderr",
          "text": [
            "\r  3%|▎         | 1/30 [00:05<02:28,  5.13s/it]"
          ]
        },
        {
          "output_type": "stream",
          "name": "stdout",
          "text": [
            "\n",
            "\n",
            "Eval loss: 1.4964137025123094, eval f1: 0.36334924204071073\n",
            ". . . . . . . . . . . . . . . \n",
            "\n",
            "Epoch 2\n",
            "Training...\n",
            "Train loss: 1.4737817816538354, train F1: 0.4726842791522475\n",
            ". . . . . . . . . . . . . . . \n",
            "Evaluating...\n"
          ]
        },
        {
          "output_type": "stream",
          "name": "stderr",
          "text": [
            "\r  7%|▋         | 2/30 [00:07<01:40,  3.60s/it]"
          ]
        },
        {
          "output_type": "stream",
          "name": "stdout",
          "text": [
            "\n",
            "\n",
            "Eval loss: 1.4619742083723528, eval f1: 0.512738630066823\n",
            ". . . . . . . . . . . . . . . \n",
            "\n",
            "Epoch 3\n",
            "Training...\n",
            "Train loss: 1.4400433889807087, train F1: 0.5351842791522474\n",
            ". . . . . . . . . . . . . . . \n",
            "Evaluating...\n"
          ]
        },
        {
          "output_type": "stream",
          "name": "stderr",
          "text": [
            "\r 10%|█         | 3/30 [00:10<01:23,  3.10s/it]"
          ]
        },
        {
          "output_type": "stream",
          "name": "stdout",
          "text": [
            "\n",
            "\n",
            "Eval loss: 1.4295913076748814, eval f1: 0.5537970242274068\n",
            ". . . . . . . . . . . . . . . \n",
            "\n",
            "Epoch 4\n",
            "Training...\n",
            "Train loss: 1.4097770795430222, train F1: 0.5585861056362658\n",
            ". . . . . . . . . . . . . . . \n",
            "Evaluating...\n"
          ]
        },
        {
          "output_type": "stream",
          "name": "stderr",
          "text": [
            "\r 13%|█▎        | 4/30 [00:12<01:14,  2.87s/it]"
          ]
        },
        {
          "output_type": "stream",
          "name": "stdout",
          "text": [
            "\n",
            "\n",
            "Eval loss: 1.4032682032480728, eval f1: 0.564395002857612\n",
            ". . . . . . . . . . . . . . . \n",
            "\n",
            "Epoch 5\n",
            "Training...\n",
            "Train loss: 1.385898136112788, train F1: 0.572284735773252\n",
            ". . . . . . . . . . . . . . . \n",
            "Evaluating...\n"
          ]
        },
        {
          "output_type": "stream",
          "name": "stderr",
          "text": [
            "\r 17%|█▋        | 5/30 [00:15<01:08,  2.75s/it]"
          ]
        },
        {
          "output_type": "stream",
          "name": "stdout",
          "text": [
            "\n",
            "\n",
            "Eval loss: 1.3833694301382469, eval f1: 0.5657636159962981\n",
            ". . . . . . . . . . . . . . . \n",
            "\n",
            "Epoch 6\n",
            "Training...\n",
            "Train loss: 1.3677979794811441, train F1: 0.5811725373137487\n",
            ". . . . . . . . . . . . . . . \n",
            "Evaluating...\n"
          ]
        },
        {
          "output_type": "stream",
          "name": "stderr",
          "text": [
            "\r 20%|██        | 6/30 [00:17<01:04,  2.67s/it]"
          ]
        },
        {
          "output_type": "stream",
          "name": "stdout",
          "text": [
            "\n",
            "\n",
            "Eval loss: 1.3683559424685736, eval f1: 0.5758001123466631\n",
            ". . . . . . . . . . . . . . . \n",
            "\n",
            "Epoch 7\n",
            "Training...\n",
            "Train loss: 1.3539172791999226, train F1: 0.5860241354872647\n",
            ". . . . . . . . . . . . . . . \n",
            "Evaluating...\n"
          ]
        },
        {
          "output_type": "stream",
          "name": "stderr",
          "text": [
            "\r 23%|██▎       | 7/30 [00:20<00:59,  2.61s/it]"
          ]
        },
        {
          "output_type": "stream",
          "name": "stdout",
          "text": [
            "\n",
            "\n",
            "Eval loss: 1.356683251631521, eval f1: 0.5794497473831595\n",
            ". . . . . . . . . . . . . . . \n",
            "\n",
            "Epoch 8\n",
            "Training...\n",
            "Train loss: 1.342963164799834, train F1: 0.5903049574050729\n",
            ". . . . . . . . . . . . . . . \n",
            "Evaluating...\n"
          ]
        },
        {
          "output_type": "stream",
          "name": "stderr",
          "text": [
            "\r 27%|██▋       | 8/30 [00:22<00:56,  2.57s/it]"
          ]
        },
        {
          "output_type": "stream",
          "name": "stdout",
          "text": [
            "\n",
            "\n",
            "Eval loss: 1.3473049080284842, eval f1: 0.584924199937904\n",
            ". . . . . . . . . . . . . . . \n",
            "\n",
            "Epoch 9\n",
            "Training...\n",
            "Train loss: 1.3340759315447175, train F1: 0.5965834962178583\n",
            ". . . . . . . . . . . . . . . \n",
            "Evaluating...\n"
          ]
        },
        {
          "output_type": "stream",
          "name": "stderr",
          "text": [
            "\r 30%|███       | 9/30 [00:25<00:53,  2.56s/it]"
          ]
        },
        {
          "output_type": "stream",
          "name": "stdout",
          "text": [
            "\n",
            "\n",
            "Eval loss: 1.339606063209311, eval f1: 0.5903986524926484\n",
            ". . . . . . . . . . . . . . . \n",
            "\n",
            "Epoch 10\n",
            "Training...\n",
            "Train loss: 1.326691895315092, train F1: 0.6002935418799588\n",
            ". . . . . . . . . . . . . . . \n",
            "Evaluating...\n"
          ]
        },
        {
          "output_type": "stream",
          "name": "stderr",
          "text": [
            "\r 33%|███▎      | 10/30 [00:27<00:50,  2.54s/it]"
          ]
        },
        {
          "output_type": "stream",
          "name": "stdout",
          "text": [
            "\n",
            "\n",
            "Eval loss: 1.3331476267236864, eval f1: 0.5945044919087069\n",
            ". . . . . . . . . . . . . . . \n",
            "\n",
            "Epoch 11\n",
            "Training...\n",
            "Train loss: 1.3204406146045145, train F1: 0.6028620350306437\n",
            ". . . . . . . . . . . . . . . \n",
            "Evaluating...\n"
          ]
        },
        {
          "output_type": "stream",
          "name": "stderr",
          "text": [
            "\r 37%|███▋      | 11/30 [00:30<00:48,  2.53s/it]"
          ]
        },
        {
          "output_type": "stream",
          "name": "stdout",
          "text": [
            "\n",
            "\n",
            "Eval loss: 1.3276383711473785, eval f1: 0.5986103313247653\n",
            ". . . . . . . . . . . . . . . \n",
            "\n",
            "Epoch 12\n",
            "Training...\n",
            "Train loss: 1.3150470643283025, train F1: 0.6085697975877213\n",
            ". . . . . . . . . . . . . . . \n",
            "Evaluating...\n"
          ]
        },
        {
          "output_type": "stream",
          "name": "stderr",
          "text": [
            "\r 40%|████      | 12/30 [00:32<00:45,  2.52s/it]"
          ]
        },
        {
          "output_type": "stream",
          "name": "stdout",
          "text": [
            "\n",
            "\n",
            "Eval loss: 1.3228585032651023, eval f1: 0.6008913532225755\n",
            ". . . . . . . . . . . . . . . \n",
            "\n",
            "Epoch 13\n",
            "Training...\n",
            "Train loss: 1.310305830278353, train F1: 0.6105675144826985\n",
            ". . . . . . . . . . . . . . . \n",
            "Evaluating...\n"
          ]
        },
        {
          "output_type": "stream",
          "name": "stderr",
          "text": [
            "\r 43%|████▎     | 13/30 [00:35<00:42,  2.52s/it]"
          ]
        },
        {
          "output_type": "stream",
          "name": "stdout",
          "text": [
            "\n",
            "\n",
            "Eval loss: 1.3186525611111717, eval f1: 0.6036285794999477\n",
            ". . . . . . . . . . . . . . . \n",
            "\n",
            "Epoch 14\n",
            "Training...\n",
            "Train loss: 1.3060838291634163, train F1: 0.6145629482726528\n",
            ". . . . . . . . . . . . . . . \n",
            "Evaluating...\n"
          ]
        },
        {
          "output_type": "stream",
          "name": "stderr",
          "text": [
            "\r 47%|████▋     | 14/30 [00:37<00:40,  2.51s/it]"
          ]
        },
        {
          "output_type": "stream",
          "name": "stdout",
          "text": [
            "\n",
            "\n",
            "Eval loss: 1.3149176574971555, eval f1: 0.605558674918474\n",
            ". . . . . . . . . . . . . . . \n",
            "\n",
            "Epoch 15\n",
            "Training...\n",
            "Train loss: 1.3022846636706835, train F1: 0.6179876058068994\n",
            ". . . . . . . . . . . . . . . \n",
            "Evaluating...\n"
          ]
        },
        {
          "output_type": "stream",
          "name": "stderr",
          "text": [
            "\r 50%|█████     | 15/30 [00:40<00:37,  2.52s/it]"
          ]
        },
        {
          "output_type": "stream",
          "name": "stdout",
          "text": [
            "\n",
            "\n",
            "Eval loss: 1.3115669732546285, eval f1: 0.6064710836775982\n",
            ". . . . . . . . . . . . . . . \n",
            "\n",
            "Epoch 16\n",
            "Training...\n",
            "Train loss: 1.298824775981032, train F1: 0.6191291583183149\n",
            ". . . . . . . . . . . . . . . \n",
            "Evaluating...\n"
          ]
        },
        {
          "output_type": "stream",
          "name": "stderr",
          "text": [
            "\r 53%|█████▎    | 16/30 [00:42<00:35,  2.54s/it]"
          ]
        },
        {
          "output_type": "stream",
          "name": "stdout",
          "text": [
            "\n",
            "\n",
            "Eval loss: 1.308522491559495, eval f1: 0.6096645143345325\n",
            ". . . . . . . . . . . . . . . \n",
            "\n",
            "Epoch 17\n",
            "Training...\n",
            "Train loss: 1.2956379586703157, train F1: 0.6208414870854382\n",
            ". . . . . . . . . . . . . . . \n",
            "Evaluating...\n"
          ]
        },
        {
          "output_type": "stream",
          "name": "stderr",
          "text": [
            "\r 57%|█████▋    | 17/30 [00:45<00:32,  2.52s/it]"
          ]
        },
        {
          "output_type": "stream",
          "name": "stdout",
          "text": [
            "\n",
            "\n",
            "Eval loss: 1.3057189370593885, eval f1: 0.6114893318527806\n",
            ". . . . . . . . . . . . . . . \n",
            "\n",
            "Epoch 18\n",
            "Training...\n",
            "Train loss: 1.2926783338529335, train F1: 0.6225538158525615\n",
            ". . . . . . . . . . . . . . . \n",
            "Evaluating...\n"
          ]
        },
        {
          "output_type": "stream",
          "name": "stderr",
          "text": [
            "\r 60%|██████    | 18/30 [00:47<00:30,  2.51s/it]"
          ]
        },
        {
          "output_type": "stream",
          "name": "stdout",
          "text": [
            "\n",
            "\n",
            "Eval loss: 1.3031262951175662, eval f1: 0.6124017406119048\n",
            ". . . . . . . . . . . . . . . \n",
            "\n",
            "Epoch 19\n",
            "Training...\n",
            "Train loss: 1.289914945217028, train F1: 0.6239807564918309\n",
            ". . . . . . . . . . . . . . . \n",
            "Evaluating...\n"
          ]
        },
        {
          "output_type": "stream",
          "name": "stderr",
          "text": [
            "\r 63%|██████▎   | 19/30 [00:50<00:27,  2.51s/it]"
          ]
        },
        {
          "output_type": "stream",
          "name": "stdout",
          "text": [
            "\n",
            "\n",
            "Eval loss: 1.300691412313141, eval f1: 0.6124017406119048\n",
            ". . . . . . . . . . . . . . . \n",
            "\n",
            "Epoch 20\n",
            "Training...\n",
            "Train loss: 1.28727667244602, train F1: 0.6265492496425158\n",
            ". . . . . . . . . . . . . . . \n",
            "Evaluating...\n"
          ]
        },
        {
          "output_type": "stream",
          "name": "stderr",
          "text": [
            "\r 67%|██████▋   | 20/30 [00:52<00:25,  2.51s/it]"
          ]
        },
        {
          "output_type": "stream",
          "name": "stdout",
          "text": [
            "\n",
            "\n",
            "Eval loss: 1.298223466768752, eval f1: 0.614682762509715\n",
            ". . . . . . . . . . . . . . . \n",
            "\n",
            "Epoch 21\n",
            "Training...\n",
            "Train loss: 1.284607045726689, train F1: 0.6288323546653469\n",
            ". . . . . . . . . . . . . . . \n",
            "Evaluating...\n"
          ]
        },
        {
          "output_type": "stream",
          "name": "stderr",
          "text": [
            "\r 70%|███████   | 21/30 [00:55<00:22,  2.52s/it]"
          ]
        },
        {
          "output_type": "stream",
          "name": "stdout",
          "text": [
            "\n",
            "\n",
            "Eval loss: 1.2950688887686626, eval f1: 0.6160513756484011\n",
            ". . . . . . . . . . . . . . . \n",
            "\n",
            "Epoch 22\n",
            "Training...\n",
            "Train loss: 1.2819190145083215, train F1: 0.630830071560324\n",
            ". . . . . . . . . . . . . . . \n",
            "Evaluating...\n"
          ]
        },
        {
          "output_type": "stream",
          "name": "stderr",
          "text": [
            "\r 73%|███████▎  | 22/30 [00:57<00:20,  2.52s/it]"
          ]
        },
        {
          "output_type": "stream",
          "name": "stdout",
          "text": [
            "\n",
            "\n",
            "Eval loss: 1.292094062714681, eval f1: 0.6178761931666492\n",
            ". . . . . . . . . . . . . . . \n",
            "\n",
            "Epoch 23\n",
            "Training...\n",
            "Train loss: 1.2793290587865054, train F1: 0.6331131765831551\n",
            ". . . . . . . . . . . . . . . \n",
            "Evaluating...\n"
          ]
        },
        {
          "output_type": "stream",
          "name": "stderr",
          "text": [
            "\r 77%|███████▋  | 23/30 [01:00<00:17,  2.52s/it]"
          ]
        },
        {
          "output_type": "stream",
          "name": "stdout",
          "text": [
            "\n",
            "\n",
            "Eval loss: 1.2894774710174894, eval f1: 0.6210696238235835\n",
            ". . . . . . . . . . . . . . . \n",
            "\n",
            "Epoch 24\n",
            "Training...\n",
            "Train loss: 1.276757901117682, train F1: 0.63568166973384\n",
            ". . . . . . . . . . . . . . . \n",
            "Evaluating...\n"
          ]
        },
        {
          "output_type": "stream",
          "name": "stderr",
          "text": [
            "\r 80%|████████  | 24/30 [01:02<00:15,  2.52s/it]"
          ]
        },
        {
          "output_type": "stream",
          "name": "stdout",
          "text": [
            "\n",
            "\n",
            "Eval loss: 1.2868936723166138, eval f1: 0.6219820325827077\n",
            ". . . . . . . . . . . . . . . \n",
            "\n",
            "Epoch 25\n",
            "Training...\n",
            "Train loss: 1.2741253571967557, train F1: 0.6368232222452556\n",
            ". . . . . . . . . . . . . . . \n",
            "Evaluating...\n"
          ]
        },
        {
          "output_type": "stream",
          "name": "stderr",
          "text": [
            "\r 83%|████████▎ | 25/30 [01:05<00:12,  2.52s/it]"
          ]
        },
        {
          "output_type": "stream",
          "name": "stdout",
          "text": [
            "\n",
            "\n",
            "Eval loss: 1.2842029037266751, eval f1: 0.6243683325983312\n",
            ". . . . . . . . . . . . . . . \n",
            "\n",
            "Epoch 26\n",
            "Training...\n",
            "Train loss: 1.2712617802293333, train F1: 0.638250162884525\n",
            ". . . . . . . . . . . . . . . \n",
            "Evaluating...\n"
          ]
        },
        {
          "output_type": "stream",
          "name": "stderr",
          "text": [
            "\r 87%|████████▋ | 26/30 [01:07<00:10,  2.52s/it]"
          ]
        },
        {
          "output_type": "stream",
          "name": "stdout",
          "text": [
            "\n",
            "\n",
            "Eval loss: 1.2812663873616796, eval f1: 0.6261931501165794\n",
            ". . . . . . . . . . . . . . . \n",
            "\n",
            "Epoch 27\n",
            "Training...\n",
            "Train loss: 1.2678953684083947, train F1: 0.6413894322909177\n",
            ". . . . . . . . . . . . . . . \n",
            "Evaluating...\n"
          ]
        },
        {
          "output_type": "stream",
          "name": "stderr",
          "text": [
            "\r 90%|█████████ | 27/30 [01:10<00:07,  2.52s/it]"
          ]
        },
        {
          "output_type": "stream",
          "name": "stdout",
          "text": [
            "\n",
            "\n",
            "Eval loss: 1.2780435755305046, eval f1: 0.632123807050886\n",
            ". . . . . . . . . . . . . . . \n",
            "\n",
            "Epoch 28\n",
            "Training...\n",
            "Train loss: 1.2638212295427715, train F1: 0.6442433135694565\n",
            ". . . . . . . . . . . . . . . \n",
            "Evaluating...\n"
          ]
        },
        {
          "output_type": "stream",
          "name": "stderr",
          "text": [
            "\r 93%|█████████▎| 28/30 [01:12<00:05,  2.51s/it]"
          ]
        },
        {
          "output_type": "stream",
          "name": "stdout",
          "text": [
            "\n",
            "\n",
            "Eval loss: 1.2745837199426915, eval f1: 0.6371420552260685\n",
            ". . . . . . . . . . . . . . . \n",
            "\n",
            "Epoch 29\n",
            "Training...\n",
            "Train loss: 1.2591729526106081, train F1: 0.6508072405100958\n",
            ". . . . . . . . . . . . . . . \n",
            "Evaluating...\n"
          ]
        },
        {
          "output_type": "stream",
          "name": "stderr",
          "text": [
            "\r 97%|█████████▋| 29/30 [01:15<00:02,  2.52s/it]"
          ]
        },
        {
          "output_type": "stream",
          "name": "stdout",
          "text": [
            "\n",
            "\n",
            "Eval loss: 1.2708362079884885, eval f1: 0.6467223471968714\n",
            ". . . . . . . . . . . . . . . \n",
            "\n",
            "Epoch 30\n",
            "Training...\n",
            "Train loss: 1.2542639361124606, train F1: 0.6642612520962545\n",
            ". . . . . . . . . . . . . . . \n",
            "Evaluating...\n"
          ]
        },
        {
          "output_type": "stream",
          "name": "stderr",
          "text": [
            "100%|██████████| 30/30 [01:18<00:00,  2.60s/it]"
          ]
        },
        {
          "output_type": "stream",
          "name": "stdout",
          "text": [
            "\n",
            "\n",
            "Eval loss: 1.2667969256421945, eval f1: 0.6609699608635728\n",
            ". . . . . . . . . . . . . . . \n"
          ]
        },
        {
          "output_type": "stream",
          "name": "stderr",
          "text": [
            "\n"
          ]
        }
      ]
    },
    {
      "cell_type": "code",
      "source": [
        "plot_training(losses, train_f1, eval_losses, eval_f1)"
      ],
      "metadata": {
        "colab": {
          "base_uri": "https://localhost:8080/",
          "height": 350
        },
        "id": "c1TjPIwTFDt-",
        "outputId": "4dce09c4-df6c-46fd-d30c-b2fcf277c114"
      },
      "execution_count": 354,
      "outputs": [
        {
          "output_type": "display_data",
          "data": {
            "text/plain": [
              "<Figure size 1080x360 with 2 Axes>"
            ],
            "image/png": "[encoded data removed]"
          },
          "metadata": {
            "needs_background": "light"
          }
        }
      ]
    },
    {
      "cell_type": "markdown",
      "source": [
        "Кажется, модель просто не доучивается, но обучение идет очень плавно"
      ],
      "metadata": {
        "id": "oLJpew6_FGTj"
      }
    },
    {
      "cell_type": "code",
      "source": [
        "model = CNN_w2v(len(word2id), len(symbol2id), 300, 15)\n",
        "optimizer = optim.AdamW(model.parameters(), lr=0.0005)\n",
        "criterion = nn.CrossEntropyLoss()  \n",
        "\n",
        "# веса модели и значения лосса храним в одном месте\n",
        "model = model.to(DEVICE)\n",
        "criterion = criterion.to(DEVICE)\n",
        "\n",
        "# Start\n",
        "\n",
        "losses = []\n",
        "eval_losses = []\n",
        "\n",
        "train_f1 = []\n",
        "eval_f1 = []\n",
        "\n",
        "for epoch in tqdm(range(35)):\n",
        "\n",
        "    print(f'\\nEpoch {epoch + 1}')\n",
        "    epoch_loss, epoch_f1 = train(model, train_loader, optimizer, criterion)\n",
        "    losses.append(epoch_loss)\n",
        "    train_f1.append(epoch_f1)\n",
        "    print(f'Train loss: {epoch_loss}, train F1: {epoch_f1}')\n",
        "    print('. . . ' * 5)\n",
        "    epoch_val_loss, epoch_val_f1 = evaluate(model, val_loader, optimizer, criterion)\n",
        "    eval_losses.append(epoch_val_loss)\n",
        "    eval_f1.append(epoch_val_f1)\n",
        "\n",
        "    print(f'\\n\\nEval loss: {epoch_val_loss}, eval f1: {epoch_val_f1}')\n",
        "    print('. . . ' * 5)"
      ],
      "metadata": {
        "colab": {
          "base_uri": "https://localhost:8080/"
        },
        "id": "y-NcTuoOFO39",
        "outputId": "4ae2ed7f-f7a5-48b1-da19-3c69ce560e79"
      },
      "execution_count": 410,
      "outputs": [
        {
          "output_type": "stream",
          "name": "stderr",
          "text": [
            "\r  0%|          | 0/35 [00:00<?, ?it/s]/usr/local/lib/python3.7/dist-packages/ipykernel_launcher.py:49: UserWarning: Implicit dimension choice for softmax has been deprecated. Change the call to include dim=X as an argument.\n"
          ]
        },
        {
          "output_type": "stream",
          "name": "stdout",
          "text": [
            "\n",
            "Epoch 1\n",
            "Training...\n",
            "Train loss: 1.471737439229608, train F1: 0.4167482060928867\n",
            ". . . . . . . . . . . . . . . \n",
            "Evaluating...\n"
          ]
        },
        {
          "output_type": "stream",
          "name": "stderr",
          "text": [
            "\r  3%|▎         | 1/35 [00:02<01:25,  2.52s/it]"
          ]
        },
        {
          "output_type": "stream",
          "name": "stdout",
          "text": [
            "\n",
            "\n",
            "Eval loss: 1.400982953336117, eval f1: 0.5512703537505909\n",
            ". . . . . . . . . . . . . . . \n",
            "\n",
            "Epoch 2\n",
            "Training...\n",
            "Train loss: 1.3676349882665835, train F1: 0.5551614481020192\n",
            ". . . . . . . . . . . . . . . \n",
            "Evaluating...\n"
          ]
        },
        {
          "output_type": "stream",
          "name": "stderr",
          "text": [
            "\r  6%|▌         | 2/35 [00:05<01:23,  2.54s/it]"
          ]
        },
        {
          "output_type": "stream",
          "name": "stdout",
          "text": [
            "\n",
            "\n",
            "Eval loss: 1.3587334469287065, eval f1: 0.5456906232955682\n",
            ". . . . . . . . . . . . . . . \n",
            "\n",
            "Epoch 3\n",
            "Training...\n",
            "Train loss: 1.324872113798307, train F1: 0.5848825829758492\n",
            ". . . . . . . . . . . . . . . \n",
            "Evaluating...\n"
          ]
        },
        {
          "output_type": "stream",
          "name": "stderr",
          "text": [
            "\r  9%|▊         | 3/35 [00:07<01:21,  2.55s/it]"
          ]
        },
        {
          "output_type": "stream",
          "name": "stdout",
          "text": [
            "\n",
            "\n",
            "Eval loss: 1.3339882593085295, eval f1: 0.5727119595900069\n",
            ". . . . . . . . . . . . . . . \n",
            "\n",
            "Epoch 4\n",
            "Training...\n",
            "Train loss: 1.3057997947958506, train F1: 0.6014350943913743\n",
            ". . . . . . . . . . . . . . . \n",
            "Evaluating...\n"
          ]
        },
        {
          "output_type": "stream",
          "name": "stderr",
          "text": [
            "\r 11%|█▏        | 4/35 [00:10<01:19,  2.57s/it]"
          ]
        },
        {
          "output_type": "stream",
          "name": "stdout",
          "text": [
            "\n",
            "\n",
            "Eval loss: 1.318110834943117, eval f1: 0.5905039303929266\n",
            ". . . . . . . . . . . . . . . \n",
            "\n",
            "Epoch 5\n",
            "Training...\n",
            "Train loss: 1.2926263371014703, train F1: 0.6134213957612373\n",
            ". . . . . . . . . . . . . . . \n",
            "Evaluating...\n"
          ]
        },
        {
          "output_type": "stream",
          "name": "stderr",
          "text": [
            "\r 14%|█▍        | 5/35 [00:12<01:17,  2.58s/it]"
          ]
        },
        {
          "output_type": "stream",
          "name": "stdout",
          "text": [
            "\n",
            "\n",
            "Eval loss: 1.306821112215084, eval f1: 0.5996280179841675\n",
            ". . . . . . . . . . . . . . . \n",
            "\n",
            "Epoch 6\n",
            "Training...\n",
            "Train loss: 1.2804220623621658, train F1: 0.6243069141967111\n",
            ". . . . . . . . . . . . . . . \n",
            "Evaluating...\n"
          ]
        },
        {
          "output_type": "stream",
          "name": "stderr",
          "text": [
            "\r 17%|█▋        | 6/35 [00:15<01:15,  2.59s/it]"
          ]
        },
        {
          "output_type": "stream",
          "name": "stdout",
          "text": [
            "\n",
            "\n",
            "Eval loss: 1.2917956688108236, eval f1: 0.6412128018636774\n",
            ". . . . . . . . . . . . . . . \n",
            "\n",
            "Epoch 7\n",
            "Training...\n",
            "Train loss: 1.2518395479411295, train F1: 0.664505870647082\n",
            ". . . . . . . . . . . . . . . \n",
            "Evaluating...\n"
          ]
        },
        {
          "output_type": "stream",
          "name": "stderr",
          "text": [
            "\r 20%|██        | 7/35 [00:17<01:11,  2.57s/it]"
          ]
        },
        {
          "output_type": "stream",
          "name": "stdout",
          "text": [
            "\n",
            "\n",
            "Eval loss: 1.2594221799913115, eval f1: 0.6649354296009036\n",
            ". . . . . . . . . . . . . . . \n",
            "\n",
            "Epoch 8\n",
            "Training...\n",
            "Train loss: 1.2249598745341714, train F1: 0.6950424003274474\n",
            ". . . . . . . . . . . . . . . \n",
            "Evaluating...\n"
          ]
        },
        {
          "output_type": "stream",
          "name": "stderr",
          "text": [
            "\r 23%|██▎       | 8/35 [00:20<01:08,  2.56s/it]"
          ]
        },
        {
          "output_type": "stream",
          "name": "stdout",
          "text": [
            "\n",
            "\n",
            "Eval loss: 1.2464579361198593, eval f1: 0.669953677776086\n",
            ". . . . . . . . . . . . . . . \n",
            "\n",
            "Epoch 9\n",
            "Training...\n",
            "Train loss: 1.207133642342537, train F1: 0.717588062427904\n",
            ". . . . . . . . . . . . . . . \n",
            "Evaluating...\n"
          ]
        },
        {
          "output_type": "stream",
          "name": "stderr",
          "text": [
            "\r 26%|██▌       | 9/35 [00:23<01:06,  2.55s/it]"
          ]
        },
        {
          "output_type": "stream",
          "name": "stdout",
          "text": [
            "\n",
            "\n",
            "Eval loss: 1.2375823154936743, eval f1: 0.6749719259512685\n",
            ". . . . . . . . . . . . . . . \n",
            "\n",
            "Epoch 10\n",
            "Training...\n",
            "Train loss: 1.1931341355794096, train F1: 0.7261497062635204\n",
            ". . . . . . . . . . . . . . . \n",
            "Evaluating...\n"
          ]
        },
        {
          "output_type": "stream",
          "name": "stderr",
          "text": [
            "\r 29%|██▊       | 10/35 [00:25<01:03,  2.54s/it]"
          ]
        },
        {
          "output_type": "stream",
          "name": "stdout",
          "text": [
            "\n",
            "\n",
            "Eval loss: 1.2267744954485094, eval f1: 0.6863770354403197\n",
            ". . . . . . . . . . . . . . . \n",
            "\n",
            "Epoch 11\n",
            "Training...\n",
            "Train loss: 1.182958917258537, train F1: 0.7327136332041597\n",
            ". . . . . . . . . . . . . . . \n",
            "Evaluating...\n"
          ]
        },
        {
          "output_type": "stream",
          "name": "stderr",
          "text": [
            "\r 31%|███▏      | 11/35 [00:28<01:01,  2.54s/it]"
          ]
        },
        {
          "output_type": "stream",
          "name": "stdout",
          "text": [
            "\n",
            "\n",
            "Eval loss: 1.21350636316912, eval f1: 0.700519371206743\n",
            ". . . . . . . . . . . . . . . \n",
            "\n",
            "Epoch 12\n",
            "Training...\n",
            "Train loss: 1.1747638101447118, train F1: 0.7372798432498218\n",
            ". . . . . . . . . . . . . . . \n",
            "Evaluating...\n"
          ]
        },
        {
          "output_type": "stream",
          "name": "stderr",
          "text": [
            "\r 34%|███▍      | 12/35 [00:30<00:58,  2.54s/it]"
          ]
        },
        {
          "output_type": "stream",
          "name": "stdout",
          "text": [
            "\n",
            "\n",
            "Eval loss: 1.202377734393099, eval f1: 0.7087310500388598\n",
            ". . . . . . . . . . . . . . . \n",
            "\n",
            "Epoch 13\n",
            "Training...\n",
            "Train loss: 1.1646688814576902, train F1: 0.7484099802361232\n",
            ". . . . . . . . . . . . . . . \n",
            "Evaluating...\n"
          ]
        },
        {
          "output_type": "stream",
          "name": "stderr",
          "text": [
            "\r 37%|███▋      | 13/35 [00:33<00:56,  2.55s/it]"
          ]
        },
        {
          "output_type": "stream",
          "name": "stdout",
          "text": [
            "\n",
            "\n",
            "Eval loss: 1.1966628527989354, eval f1: 0.7091872544184218\n",
            ". . . . . . . . . . . . . . . \n",
            "\n",
            "Epoch 14\n",
            "Training...\n",
            "Train loss: 1.1494932563881897, train F1: 0.7758887802084832\n",
            ". . . . . . . . . . . . . . . \n",
            "Evaluating...\n"
          ]
        },
        {
          "output_type": "stream",
          "name": "stderr",
          "text": [
            "\r 40%|████      | 14/35 [00:35<00:53,  2.55s/it]"
          ]
        },
        {
          "output_type": "stream",
          "name": "stdout",
          "text": [
            "\n",
            "\n",
            "Eval loss: 1.185358642226588, eval f1: 0.7251544077030934\n",
            ". . . . . . . . . . . . . . . \n",
            "\n",
            "Epoch 15\n",
            "Training...\n",
            "Train loss: 1.135036616837053, train F1: 0.7947243966468392\n",
            ". . . . . . . . . . . . . . . \n",
            "Evaluating...\n"
          ]
        },
        {
          "output_type": "stream",
          "name": "stderr",
          "text": [
            "\r 43%|████▎     | 15/35 [00:38<00:51,  2.55s/it]"
          ]
        },
        {
          "output_type": "stream",
          "name": "stdout",
          "text": [
            "\n",
            "\n",
            "Eval loss: 1.1721410477248422, eval f1: 0.7437535093648591\n",
            ". . . . . . . . . . . . . . . \n",
            "\n",
            "Epoch 16\n",
            "Training...\n",
            "Train loss: 1.1227497687078503, train F1: 0.8080968685346107\n",
            ". . . . . . . . . . . . . . . \n",
            "Evaluating...\n"
          ]
        },
        {
          "output_type": "stream",
          "name": "stderr",
          "text": [
            "\r 46%|████▌     | 16/35 [00:40<00:48,  2.56s/it]"
          ]
        },
        {
          "output_type": "stream",
          "name": "stdout",
          "text": [
            "\n",
            "\n",
            "Eval loss: 1.1574990727605612, eval f1: 0.7615454801677788\n",
            ". . . . . . . . . . . . . . . \n",
            "\n",
            "Epoch 17\n",
            "Training...\n",
            "Train loss: 1.1127157812793504, train F1: 0.8129484667081267\n",
            ". . . . . . . . . . . . . . . \n",
            "Evaluating...\n"
          ]
        },
        {
          "output_type": "stream",
          "name": "stderr",
          "text": [
            "\r 49%|████▊     | 17/35 [00:43<00:45,  2.55s/it]"
          ]
        },
        {
          "output_type": "stream",
          "name": "stdout",
          "text": [
            "\n",
            "\n",
            "Eval loss: 1.1467535621928473, eval f1: 0.7688447502407715\n",
            ". . . . . . . . . . . . . . . \n",
            "\n",
            "Epoch 18\n",
            "Training...\n",
            "Train loss: 1.105967523844819, train F1: 0.8175146767537887\n",
            ". . . . . . . . . . . . . . . \n",
            "Evaluating...\n"
          ]
        },
        {
          "output_type": "stream",
          "name": "stderr",
          "text": [
            "\r 51%|█████▏    | 18/35 [00:46<00:43,  2.57s/it]"
          ]
        },
        {
          "output_type": "stream",
          "name": "stdout",
          "text": [
            "\n",
            "\n",
            "Eval loss: 1.1393447814196567, eval f1: 0.773862998415954\n",
            ". . . . . . . . . . . . . . . \n",
            "\n",
            "Epoch 19\n",
            "Training...\n",
            "Train loss: 1.1022666869642528, train F1: 0.8184116112587114\n",
            ". . . . . . . . . . . . . . . \n",
            "Evaluating...\n"
          ]
        },
        {
          "output_type": "stream",
          "name": "stderr",
          "text": [
            "\r 54%|█████▍    | 19/35 [00:48<00:40,  2.55s/it]"
          ]
        },
        {
          "output_type": "stream",
          "name": "stdout",
          "text": [
            "\n",
            "\n",
            "Eval loss: 1.1298306345069495, eval f1: 0.7843556991458809\n",
            ". . . . . . . . . . . . . . . \n",
            "\n",
            "Epoch 20\n",
            "Training...\n",
            "Train loss: 1.1059939537418488, train F1: 0.8112769080623644\n",
            ". . . . . . . . . . . . . . . \n",
            "Evaluating...\n"
          ]
        },
        {
          "output_type": "stream",
          "name": "stderr",
          "text": [
            "\r 57%|█████▋    | 20/35 [00:51<00:38,  2.55s/it]"
          ]
        },
        {
          "output_type": "stream",
          "name": "stdout",
          "text": [
            "\n",
            "\n",
            "Eval loss: 1.125453238069576, eval f1: 0.7843556991458809\n",
            ". . . . . . . . . . . . . . . \n",
            "\n",
            "Epoch 21\n",
            "Training...\n",
            "Train loss: 1.097192656776132, train F1: 0.8181262231308576\n",
            ". . . . . . . . . . . . . . . \n",
            "Evaluating...\n"
          ]
        },
        {
          "output_type": "stream",
          "name": "stderr",
          "text": [
            "\r 60%|██████    | 21/35 [00:53<00:35,  2.55s/it]"
          ]
        },
        {
          "output_type": "stream",
          "name": "stdout",
          "text": [
            "\n",
            "\n",
            "Eval loss: 1.1194767360269589, eval f1: 0.7898301517006254\n",
            ". . . . . . . . . . . . . . . \n",
            "\n",
            "Epoch 22\n",
            "Training...\n",
            "Train loss: 1.093365047075977, train F1: 0.8201239400258348\n",
            ". . . . . . . . . . . . . . . \n",
            "Evaluating...\n"
          ]
        },
        {
          "output_type": "stream",
          "name": "stderr",
          "text": [
            "\r 63%|██████▎   | 22/35 [00:56<00:33,  2.55s/it]"
          ]
        },
        {
          "output_type": "stream",
          "name": "stdout",
          "text": [
            "\n",
            "\n",
            "Eval loss: 1.1285717496036614, eval f1: 0.7843556991458809\n",
            ". . . . . . . . . . . . . . . \n",
            "\n",
            "Epoch 23\n",
            "Training...\n",
            "Train loss: 1.0902262139538108, train F1: 0.8226924331765196\n",
            ". . . . . . . . . . . . . . . \n",
            "Evaluating...\n"
          ]
        },
        {
          "output_type": "stream",
          "name": "stderr",
          "text": [
            "\r 66%|██████▌   | 23/35 [00:58<00:30,  2.55s/it]"
          ]
        },
        {
          "output_type": "stream",
          "name": "stdout",
          "text": [
            "\n",
            "\n",
            "Eval loss: 1.1360323859827361, eval f1: 0.7728453117565517\n",
            ". . . . . . . . . . . . . . . \n",
            "\n",
            "Epoch 24\n",
            "Training...\n",
            "Train loss: 1.0807435371015714, train F1: 0.8329664057792594\n",
            ". . . . . . . . . . . . . . . \n",
            "Evaluating...\n"
          ]
        },
        {
          "output_type": "stream",
          "name": "stderr",
          "text": [
            "\r 69%|██████▊   | 24/35 [01:01<00:27,  2.55s/it]"
          ]
        },
        {
          "output_type": "stream",
          "name": "stdout",
          "text": [
            "\n",
            "\n",
            "Eval loss: 1.147013896573199, eval f1: 0.7641774285448729\n",
            ". . . . . . . . . . . . . . . \n",
            "\n",
            "Epoch 25\n",
            "Training...\n",
            "Train loss: 1.0739201759094517, train F1: 0.8398157208477526\n",
            ". . . . . . . . . . . . . . . \n",
            "Evaluating...\n"
          ]
        },
        {
          "output_type": "stream",
          "name": "stderr",
          "text": [
            "\r 71%|███████▏  | 25/35 [01:03<00:25,  2.55s/it]"
          ]
        },
        {
          "output_type": "stream",
          "name": "stdout",
          "text": [
            "\n",
            "\n",
            "Eval loss: 1.1606498887069034, eval f1: 0.7472978665010772\n",
            ". . . . . . . . . . . . . . . \n",
            "\n",
            "Epoch 26\n",
            "Training...\n",
            "Train loss: 1.0681289965159273, train F1: 0.8440965427655608\n",
            ". . . . . . . . . . . . . . . \n",
            "Evaluating...\n"
          ]
        },
        {
          "output_type": "stream",
          "name": "stderr",
          "text": [
            "\r 74%|███████▍  | 26/35 [01:06<00:22,  2.54s/it]"
          ]
        },
        {
          "output_type": "stream",
          "name": "stdout",
          "text": [
            "\n",
            "\n",
            "Eval loss: 1.1117551017851726, eval f1: 0.7971294217736181\n",
            ". . . . . . . . . . . . . . . \n",
            "\n",
            "Epoch 27\n",
            "Training...\n",
            "Train loss: 1.0645145352028276, train F1: 0.8463796477883918\n",
            ". . . . . . . . . . . . . . . \n",
            "Evaluating...\n"
          ]
        },
        {
          "output_type": "stream",
          "name": "stderr",
          "text": [
            "\r 77%|███████▋  | 27/35 [01:09<00:20,  2.57s/it]"
          ]
        },
        {
          "output_type": "stream",
          "name": "stdout",
          "text": [
            "\n",
            "\n",
            "Eval loss: 1.1024735783138415, eval f1: 0.8076221225035451\n",
            ". . . . . . . . . . . . . . . \n",
            "\n",
            "Epoch 28\n",
            "Training...\n",
            "Train loss: 1.0594158251535948, train F1: 0.8526581866011772\n",
            ". . . . . . . . . . . . . . . \n",
            "Evaluating...\n"
          ]
        },
        {
          "output_type": "stream",
          "name": "stderr",
          "text": [
            "\r 80%|████████  | 28/35 [01:11<00:17,  2.57s/it]"
          ]
        },
        {
          "output_type": "stream",
          "name": "stdout",
          "text": [
            "\n",
            "\n",
            "Eval loss: 1.0943527674152904, eval f1: 0.8121841662991656\n",
            ". . . . . . . . . . . . . . . \n",
            "\n",
            "Epoch 29\n",
            "Training...\n",
            "Train loss: 1.0513659274741396, train F1: 0.8629729287809433\n",
            ". . . . . . . . . . . . . . . \n",
            "Evaluating...\n"
          ]
        },
        {
          "output_type": "stream",
          "name": "stderr",
          "text": [
            "\r 83%|████████▎ | 29/35 [01:14<00:15,  2.58s/it]"
          ]
        },
        {
          "output_type": "stream",
          "name": "stdout",
          "text": [
            "\n",
            "\n",
            "Eval loss: 1.0845059178171366, eval f1: 0.8254140933064649\n",
            ". . . . . . . . . . . . . . . \n",
            "\n",
            "Epoch 30\n",
            "Training...\n",
            "Train loss: 1.0423344316547865, train F1: 0.8738176776393908\n",
            ". . . . . . . . . . . . . . . \n",
            "Evaluating...\n"
          ]
        },
        {
          "output_type": "stream",
          "name": "stderr",
          "text": [
            "\r 86%|████████▌ | 30/35 [01:16<00:12,  2.58s/it]"
          ]
        },
        {
          "output_type": "stream",
          "name": "stdout",
          "text": [
            "\n",
            "\n",
            "Eval loss: 1.0764171050412812, eval f1: 0.8381878159342021\n",
            ". . . . . . . . . . . . . . . \n",
            "\n",
            "Epoch 31\n",
            "Training...\n",
            "Train loss: 1.0340184455048549, train F1: 0.8849478146256922\n",
            ". . . . . . . . . . . . . . . \n",
            "Evaluating...\n"
          ]
        },
        {
          "output_type": "stream",
          "name": "stderr",
          "text": [
            "\r 89%|████████▊ | 31/35 [01:19<00:10,  2.57s/it]"
          ]
        },
        {
          "output_type": "stream",
          "name": "stdout",
          "text": [
            "\n",
            "\n",
            "Eval loss: 1.0711196704502524, eval f1: 0.8463994947663189\n",
            ". . . . . . . . . . . . . . . \n",
            "\n",
            "Epoch 32\n",
            "Training...\n",
            "Train loss: 1.0270625742058777, train F1: 0.8903701890549159\n",
            ". . . . . . . . . . . . . . . \n",
            "Evaluating...\n"
          ]
        },
        {
          "output_type": "stream",
          "name": "stderr",
          "text": [
            "\r 91%|█████████▏| 32/35 [01:21<00:07,  2.58s/it]"
          ]
        },
        {
          "output_type": "stream",
          "name": "stdout",
          "text": [
            "\n",
            "\n",
            "Eval loss: 1.0681612504659779, eval f1: 0.8459432903867569\n",
            ". . . . . . . . . . . . . . . \n",
            "\n",
            "Epoch 33\n",
            "Training...\n",
            "Train loss: 1.0216579535236097, train F1: 0.8946510109727241\n",
            ". . . . . . . . . . . . . . . \n",
            "Evaluating...\n"
          ]
        },
        {
          "output_type": "stream",
          "name": "stderr",
          "text": [
            "\r 94%|█████████▍| 33/35 [01:24<00:05,  2.57s/it]"
          ]
        },
        {
          "output_type": "stream",
          "name": "stdout",
          "text": [
            "\n",
            "\n",
            "Eval loss: 1.0652870944816701, eval f1: 0.847768107905005\n",
            ". . . . . . . . . . . . . . . \n",
            "\n",
            "Epoch 34\n",
            "Training...\n",
            "Train loss: 1.0168487266318438, train F1: 0.899787997274094\n",
            ". . . . . . . . . . . . . . . \n",
            "Evaluating...\n"
          ]
        },
        {
          "output_type": "stream",
          "name": "stderr",
          "text": [
            "\r 97%|█████████▋| 34/35 [01:26<00:02,  2.56s/it]"
          ]
        },
        {
          "output_type": "stream",
          "name": "stdout",
          "text": [
            "\n",
            "\n",
            "Eval loss: 1.063032400869105, eval f1: 0.8546111735984356\n",
            ". . . . . . . . . . . . . . . \n",
            "\n",
            "Epoch 35\n",
            "Training...\n",
            "Train loss: 1.0113035073019054, train F1: 0.9063519242147332\n",
            ". . . . . . . . . . . . . . . \n",
            "Evaluating...\n"
          ]
        },
        {
          "output_type": "stream",
          "name": "stderr",
          "text": [
            "100%|██████████| 35/35 [01:29<00:00,  2.56s/it]"
          ]
        },
        {
          "output_type": "stream",
          "name": "stdout",
          "text": [
            "\n",
            "\n",
            "Eval loss: 1.0612678379908096, eval f1: 0.8555235823575598\n",
            ". . . . . . . . . . . . . . . \n"
          ]
        },
        {
          "output_type": "stream",
          "name": "stderr",
          "text": [
            "\n"
          ]
        }
      ]
    },
    {
      "cell_type": "code",
      "source": [
        "plot_training(losses, train_f1, eval_losses, eval_f1)"
      ],
      "metadata": {
        "colab": {
          "base_uri": "https://localhost:8080/",
          "height": 350
        },
        "id": "2V4TY-lTFm-8",
        "outputId": "9dc4ed6c-6cef-4a16-a31d-7aa243a7d7c1"
      },
      "execution_count": 411,
      "outputs": [
        {
          "output_type": "display_data",
          "data": {
            "text/plain": [
              "<Figure size 1080x360 with 2 Axes>"
            ],
            "image/png": "[encoded data removed]"
          },
          "metadata": {
            "needs_background": "light"
          }
        }
      ]
    },
    {
      "cell_type": "markdown",
      "source": [
        "Итак, в итоге мы имеет 0.855 f1"
      ],
      "metadata": {
        "id": "h6KM2n-lMkeD"
      }
    },
    {
      "cell_type": "markdown",
      "source": [
        "# Test data & Classification report"
      ],
      "metadata": {
        "id": "4VAw40O5HkPK"
      }
    },
    {
      "cell_type": "markdown",
      "source": [
        "Сделаем финальную сетку и оценим качество по классам"
      ],
      "metadata": {
        "id": "CkrBXxIoHPpR"
      }
    },
    {
      "cell_type": "code",
      "source": [
        "y_test = []\n",
        "pred_test = []\n",
        "\n",
        "model.eval()\n",
        "\n",
        "with torch.no_grad():\n",
        "    for i, (x_word, x_symbol, y) in enumerate(test_loader):\n",
        "\n",
        "      y = [x.item() for x in y.squeeze()] # 0D target tensor expected, convert items from tensor to torch\n",
        "      y_test.extend(y)\n",
        "\n",
        "      pred = model(x_word, x_symbol).cpu().numpy().argmax(axis=1)\n",
        "      pred_test.extend(pred)"
      ],
      "metadata": {
        "colab": {
          "base_uri": "https://localhost:8080/"
        },
        "id": "r2Oc1ynFJRee",
        "outputId": "17e6c4a2-b1b9-4acd-a9e6-b11cf66e1245"
      },
      "execution_count": 412,
      "outputs": [
        {
          "output_type": "stream",
          "name": "stderr",
          "text": [
            "/usr/local/lib/python3.7/dist-packages/ipykernel_launcher.py:49: UserWarning: Implicit dimension choice for softmax has been deprecated. Change the call to include dim=X as an argument.\n"
          ]
        }
      ]
    },
    {
      "cell_type": "code",
      "source": [
        "print(len(pred_test), len(y_test))"
      ],
      "metadata": {
        "colab": {
          "base_uri": "https://localhost:8080/"
        },
        "id": "W4iVzenCKTtj",
        "outputId": "dee07e1d-93fd-4fff-eade-7dda1afdf109"
      },
      "execution_count": 413,
      "outputs": [
        {
          "output_type": "stream",
          "name": "stdout",
          "text": [
            "2189 2189\n"
          ]
        }
      ]
    },
    {
      "cell_type": "code",
      "source": [
        "labels = {0: \"joy\", 1: \"sadness\", 2: \"surprise\", 3: \"fear\", 4: \"anger\"}"
      ],
      "metadata": {
        "id": "ZkzKvTe1IOUv"
      },
      "execution_count": 414,
      "outputs": []
    },
    {
      "cell_type": "code",
      "source": [
        "from sklearn.metrics import confusion_matrix, classification_report\n",
        "\n",
        "print(classification_report(y_test, pred_test, target_names=labels.values()))"
      ],
      "metadata": {
        "colab": {
          "base_uri": "https://localhost:8080/"
        },
        "id": "HgQf4EJvH24o",
        "outputId": "98b646fb-8af0-4cd5-c45f-50d943a2f464"
      },
      "execution_count": 415,
      "outputs": [
        {
          "output_type": "stream",
          "name": "stdout",
          "text": [
            "              precision    recall  f1-score   support\n",
            "\n",
            "         joy       0.88      0.96      0.92       776\n",
            "     sadness       0.89      0.93      0.91       676\n",
            "    surprise       0.88      0.92      0.90       284\n",
            "        fear       0.89      0.70      0.79       271\n",
            "       anger       0.69      0.49      0.57       182\n",
            "\n",
            "    accuracy                           0.87      2189\n",
            "   macro avg       0.85      0.80      0.82      2189\n",
            "weighted avg       0.87      0.87      0.87      2189\n",
            "\n"
          ]
        }
      ]
    },
    {
      "cell_type": "code",
      "source": [
        "from sklearn.metrics import f1_score\n",
        "\n",
        "\n",
        "print('Macro: ', f1_score(y_test, pred_test, average='macro'))\n",
        "print('Micro: ', f1_score(y_test, pred_test, average='micro'))\n",
        "print('Weigh: ', f1_score(y_test, pred_test, average='weighted'))"
      ],
      "metadata": {
        "colab": {
          "base_uri": "https://localhost:8080/"
        },
        "id": "t5xJzWLBIfoo",
        "outputId": "b28adf91-52c4-4508-b215-cbc6ad7824e5"
      },
      "execution_count": 417,
      "outputs": [
        {
          "output_type": "stream",
          "name": "stdout",
          "text": [
            "Macro:  0.8172687643632669\n",
            "Micro:  0.8734582000913659\n",
            "Weigh:  0.8677059907520305\n"
          ]
        }
      ]
    },
    {
      "cell_type": "markdown",
      "source": [
        "Повторим, что решение на huggingface: f1 macro 0.8348, f1 micro 0.9280 на *ruBERT*.\n",
        "\n",
        "А у нас f1 macro 0.817, f1 micro 0.873\n",
        "\n",
        "Так что мы не так сильно отстали от берта:)"
      ],
      "metadata": {
        "id": "NvsyCu-wM_r9"
      }
    },
    {
      "cell_type": "code",
      "source": [
        "from matplotlib.pyplot import figure\n",
        "\n",
        "def show_confusion_matrix(confusion_matrix):\n",
        "  figure(figsize=(10, 6), dpi=80)\n",
        "  hmap = sns.heatmap(confusion_matrix, annot=True, fmt=\"d\", cmap=\"Blues\")\n",
        "  hmap.yaxis.set_ticklabels(hmap.yaxis.get_ticklabels(), rotation=0, ha='right')\n",
        "  hmap.xaxis.set_ticklabels(hmap.xaxis.get_ticklabels(), rotation=30, ha='right')\n",
        "  plt.ylabel('True POS Eng')\n",
        "  plt.xlabel('Predicted POS Eng');\n",
        "\n",
        "\n",
        "cm = confusion_matrix(y_test, pred_test)\n",
        "df_cm = pd.DataFrame(cm, index=labels.values(), columns=labels.values())\n",
        "show_confusion_matrix(df_cm)"
      ],
      "metadata": {
        "colab": {
          "base_uri": "https://localhost:8080/",
          "height": 448
        },
        "id": "lZTIuDU9MzXe",
        "outputId": "5cf6e9a2-5b88-4573-ce7b-0f4a9a307eb9"
      },
      "execution_count": 420,
      "outputs": [
        {
          "output_type": "display_data",
          "data": {
            "text/plain": [
              "<Figure size 800x480 with 2 Axes>"
            ],
            "image/png": "[encoded data removed]"
          },
          "metadata": {
            "needs_background": "light"
          }
        }
      ]
    },
    {
      "cell_type": "markdown",
      "source": [
        "Итак, у нас не сбалансированный датасет, больше всего joy и sadness, по ним f1 0.92 и 0.91 соответственно. Хуже всего anger (0.57 f1) - но и его меньше всего. Его модель путает боьше всего с самыми большими классами: joy и sadness. Что можно улучшить? Попробовать поиграться с архитектурой, попробовать разбить сначала на 3 класса (joy, sadness и остальное) и потом внутри 3 класса отдельно решать - хотя данных совсем мало."
      ],
      "metadata": {
        "id": "9vC_nA7NNffS"
      }
    },
    {
      "cell_type": "code",
      "source": [
        ""
      ],
      "metadata": {
        "id": "GRfnxNKCOhV5"
      },
      "execution_count": null,
      "outputs": []
    }
  ]
}