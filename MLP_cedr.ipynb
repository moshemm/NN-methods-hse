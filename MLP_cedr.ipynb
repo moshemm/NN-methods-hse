{
  "nbformat": 4,
  "nbformat_minor": 0,
  "metadata": {
    "colab": {
      "name": "MLP_cedr.ipynb",
      "provenance": [],
      "collapsed_sections": [],
      "toc_visible": true,
      "authorship_tag": "ABX9TyNKB0xWBRD7UbVQoT6zGiUw",
      "include_colab_link": true
    },
    "kernelspec": {
      "name": "python3",
      "display_name": "Python 3"
    },
    "language_info": {
      "name": "python"
    },
    "accelerator": "GPU",
    "widgets": {
      "application/vnd.jupyter.widget-state+json": {
        "3562debc04e1456da230a9fa126b6072": {
          "model_module": "@jupyter-widgets/controls",
          "model_name": "HBoxModel",
          "model_module_version": "1.5.0",
          "state": {
            "_dom_classes": [],
            "_model_module": "@jupyter-widgets/controls",
            "_model_module_version": "1.5.0",
            "_model_name": "HBoxModel",
            "_view_count": null,
            "_view_module": "@jupyter-widgets/controls",
            "_view_module_version": "1.5.0",
            "_view_name": "HBoxView",
            "box_style": "",
            "children": [
              "IPY_MODEL_5a1249af889f4d2483fa6f7324bb80db",
              "IPY_MODEL_589d5970f6824f119d340d521aceaf2e",
              "IPY_MODEL_99b25f58e1b34d9293c82851981cfbd2"
            ],
            "layout": "IPY_MODEL_d28e708dc7244622a6db362f79623a14"
          }
        },
        "5a1249af889f4d2483fa6f7324bb80db": {
          "model_module": "@jupyter-widgets/controls",
          "model_name": "HTMLModel",
          "model_module_version": "1.5.0",
          "state": {
            "_dom_classes": [],
            "_model_module": "@jupyter-widgets/controls",
            "_model_module_version": "1.5.0",
            "_model_name": "HTMLModel",
            "_view_count": null,
            "_view_module": "@jupyter-widgets/controls",
            "_view_module_version": "1.5.0",
            "_view_name": "HTMLView",
            "description": "",
            "description_tooltip": null,
            "layout": "IPY_MODEL_f3d8b75e960344fe89db72137eb5d57f",
            "placeholder": "​",
            "style": "IPY_MODEL_002aa93b826647a18ec9baea83df5a06",
            "value": "100%"
          }
        },
        "589d5970f6824f119d340d521aceaf2e": {
          "model_module": "@jupyter-widgets/controls",
          "model_name": "FloatProgressModel",
          "model_module_version": "1.5.0",
          "state": {
            "_dom_classes": [],
            "_model_module": "@jupyter-widgets/controls",
            "_model_module_version": "1.5.0",
            "_model_name": "FloatProgressModel",
            "_view_count": null,
            "_view_module": "@jupyter-widgets/controls",
            "_view_module_version": "1.5.0",
            "_view_name": "ProgressView",
            "bar_style": "success",
            "description": "",
            "description_tooltip": null,
            "layout": "IPY_MODEL_bb1d84ad237e4004a643a609595ec854",
            "max": 2,
            "min": 0,
            "orientation": "horizontal",
            "style": "IPY_MODEL_a128f5b0cba147b69aca9eac71d93176",
            "value": 2
          }
        },
        "99b25f58e1b34d9293c82851981cfbd2": {
          "model_module": "@jupyter-widgets/controls",
          "model_name": "HTMLModel",
          "model_module_version": "1.5.0",
          "state": {
            "_dom_classes": [],
            "_model_module": "@jupyter-widgets/controls",
            "_model_module_version": "1.5.0",
            "_model_name": "HTMLModel",
            "_view_count": null,
            "_view_module": "@jupyter-widgets/controls",
            "_view_module_version": "1.5.0",
            "_view_name": "HTMLView",
            "description": "",
            "description_tooltip": null,
            "layout": "IPY_MODEL_78ce65ef6c3a43e48927eae19ff8b1f0",
            "placeholder": "​",
            "style": "IPY_MODEL_24e929b3364842e2a19fb5b102a561f0",
            "value": " 2/2 [00:00&lt;00:00, 47.29it/s]"
          }
        },
        "d28e708dc7244622a6db362f79623a14": {
          "model_module": "@jupyter-widgets/base",
          "model_name": "LayoutModel",
          "model_module_version": "1.2.0",
          "state": {
            "_model_module": "@jupyter-widgets/base",
            "_model_module_version": "1.2.0",
            "_model_name": "LayoutModel",
            "_view_count": null,
            "_view_module": "@jupyter-widgets/base",
            "_view_module_version": "1.2.0",
            "_view_name": "LayoutView",
            "align_content": null,
            "align_items": null,
            "align_self": null,
            "border": null,
            "bottom": null,
            "display": null,
            "flex": null,
            "flex_flow": null,
            "grid_area": null,
            "grid_auto_columns": null,
            "grid_auto_flow": null,
            "grid_auto_rows": null,
            "grid_column": null,
            "grid_gap": null,
            "grid_row": null,
            "grid_template_areas": null,
            "grid_template_columns": null,
            "grid_template_rows": null,
            "height": null,
            "justify_content": null,
            "justify_items": null,
            "left": null,
            "margin": null,
            "max_height": null,
            "max_width": null,
            "min_height": null,
            "min_width": null,
            "object_fit": null,
            "object_position": null,
            "order": null,
            "overflow": null,
            "overflow_x": null,
            "overflow_y": null,
            "padding": null,
            "right": null,
            "top": null,
            "visibility": null,
            "width": null
          }
        },
        "f3d8b75e960344fe89db72137eb5d57f": {
          "model_module": "@jupyter-widgets/base",
          "model_name": "LayoutModel",
          "model_module_version": "1.2.0",
          "state": {
            "_model_module": "@jupyter-widgets/base",
            "_model_module_version": "1.2.0",
            "_model_name": "LayoutModel",
            "_view_count": null,
            "_view_module": "@jupyter-widgets/base",
            "_view_module_version": "1.2.0",
            "_view_name": "LayoutView",
            "align_content": null,
            "align_items": null,
            "align_self": null,
            "border": null,
            "bottom": null,
            "display": null,
            "flex": null,
            "flex_flow": null,
            "grid_area": null,
            "grid_auto_columns": null,
            "grid_auto_flow": null,
            "grid_auto_rows": null,
            "grid_column": null,
            "grid_gap": null,
            "grid_row": null,
            "grid_template_areas": null,
            "grid_template_columns": null,
            "grid_template_rows": null,
            "height": null,
            "justify_content": null,
            "justify_items": null,
            "left": null,
            "margin": null,
            "max_height": null,
            "max_width": null,
            "min_height": null,
            "min_width": null,
            "object_fit": null,
            "object_position": null,
            "order": null,
            "overflow": null,
            "overflow_x": null,
            "overflow_y": null,
            "padding": null,
            "right": null,
            "top": null,
            "visibility": null,
            "width": null
          }
        },
        "002aa93b826647a18ec9baea83df5a06": {
          "model_module": "@jupyter-widgets/controls",
          "model_name": "DescriptionStyleModel",
          "model_module_version": "1.5.0",
          "state": {
            "_model_module": "@jupyter-widgets/controls",
            "_model_module_version": "1.5.0",
            "_model_name": "DescriptionStyleModel",
            "_view_count": null,
            "_view_module": "@jupyter-widgets/base",
            "_view_module_version": "1.2.0",
            "_view_name": "StyleView",
            "description_width": ""
          }
        },
        "bb1d84ad237e4004a643a609595ec854": {
          "model_module": "@jupyter-widgets/base",
          "model_name": "LayoutModel",
          "model_module_version": "1.2.0",
          "state": {
            "_model_module": "@jupyter-widgets/base",
            "_model_module_version": "1.2.0",
            "_model_name": "LayoutModel",
            "_view_count": null,
            "_view_module": "@jupyter-widgets/base",
            "_view_module_version": "1.2.0",
            "_view_name": "LayoutView",
            "align_content": null,
            "align_items": null,
            "align_self": null,
            "border": null,
            "bottom": null,
            "display": null,
            "flex": null,
            "flex_flow": null,
            "grid_area": null,
            "grid_auto_columns": null,
            "grid_auto_flow": null,
            "grid_auto_rows": null,
            "grid_column": null,
            "grid_gap": null,
            "grid_row": null,
            "grid_template_areas": null,
            "grid_template_columns": null,
            "grid_template_rows": null,
            "height": null,
            "justify_content": null,
            "justify_items": null,
            "left": null,
            "margin": null,
            "max_height": null,
            "max_width": null,
            "min_height": null,
            "min_width": null,
            "object_fit": null,
            "object_position": null,
            "order": null,
            "overflow": null,
            "overflow_x": null,
            "overflow_y": null,
            "padding": null,
            "right": null,
            "top": null,
            "visibility": null,
            "width": null
          }
        },
        "a128f5b0cba147b69aca9eac71d93176": {
          "model_module": "@jupyter-widgets/controls",
          "model_name": "ProgressStyleModel",
          "model_module_version": "1.5.0",
          "state": {
            "_model_module": "@jupyter-widgets/controls",
            "_model_module_version": "1.5.0",
            "_model_name": "ProgressStyleModel",
            "_view_count": null,
            "_view_module": "@jupyter-widgets/base",
            "_view_module_version": "1.2.0",
            "_view_name": "StyleView",
            "bar_color": null,
            "description_width": ""
          }
        },
        "78ce65ef6c3a43e48927eae19ff8b1f0": {
          "model_module": "@jupyter-widgets/base",
          "model_name": "LayoutModel",
          "model_module_version": "1.2.0",
          "state": {
            "_model_module": "@jupyter-widgets/base",
            "_model_module_version": "1.2.0",
            "_model_name": "LayoutModel",
            "_view_count": null,
            "_view_module": "@jupyter-widgets/base",
            "_view_module_version": "1.2.0",
            "_view_name": "LayoutView",
            "align_content": null,
            "align_items": null,
            "align_self": null,
            "border": null,
            "bottom": null,
            "display": null,
            "flex": null,
            "flex_flow": null,
            "grid_area": null,
            "grid_auto_columns": null,
            "grid_auto_flow": null,
            "grid_auto_rows": null,
            "grid_column": null,
            "grid_gap": null,
            "grid_row": null,
            "grid_template_areas": null,
            "grid_template_columns": null,
            "grid_template_rows": null,
            "height": null,
            "justify_content": null,
            "justify_items": null,
            "left": null,
            "margin": null,
            "max_height": null,
            "max_width": null,
            "min_height": null,
            "min_width": null,
            "object_fit": null,
            "object_position": null,
            "order": null,
            "overflow": null,
            "overflow_x": null,
            "overflow_y": null,
            "padding": null,
            "right": null,
            "top": null,
            "visibility": null,
            "width": null
          }
        },
        "24e929b3364842e2a19fb5b102a561f0": {
          "model_module": "@jupyter-widgets/controls",
          "model_name": "DescriptionStyleModel",
          "model_module_version": "1.5.0",
          "state": {
            "_model_module": "@jupyter-widgets/controls",
            "_model_module_version": "1.5.0",
            "_model_name": "DescriptionStyleModel",
            "_view_count": null,
            "_view_module": "@jupyter-widgets/base",
            "_view_module_version": "1.2.0",
            "_view_name": "StyleView",
            "description_width": ""
          }
        }
      }
    }
  },
  "cells": [
    {
      "cell_type": "markdown",
      "metadata": {
        "id": "view-in-github",
        "colab_type": "text"
      },
      "source": [
        "<a href=\"https://colab.research.google.com/github/moshemm/NN-methods-hse/blob/main/MLP_cedr.ipynb\" target=\"_parent\"><img src=\"https://colab.research.google.com/assets/colab-badge.svg\" alt=\"Open In Colab\"/></a>"
      ]
    },
    {
      "cell_type": "markdown",
      "source": [
        "## Imports"
      ],
      "metadata": {
        "id": "SN01Anv5W_LF"
      }
    },
    {
      "cell_type": "code",
      "source": [
        "!pip install datasets -q"
      ],
      "metadata": {
        "id": "NqmVCTmQw4lP"
      },
      "execution_count": 191,
      "outputs": []
    },
    {
      "cell_type": "code",
      "execution_count": 192,
      "metadata": {
        "id": "tMSvwYsswcFT"
      },
      "outputs": [],
      "source": [
        "import pandas as pd\n",
        "import numpy as np\n",
        "from string import punctuation\n",
        "from collections import Counter\n",
        "\n",
        "from sklearn.model_selection import train_test_split\n",
        "from sklearn.utils import shuffle\n",
        "import torch\n",
        "import torch.nn as nn\n",
        "import torch.nn.functional as F\n",
        "from torch.utils.data import Dataset, DataLoader, RandomSampler, SequentialSampler\n",
        "from torch.nn.utils.rnn import pad_sequence\n",
        "import torch.optim as optim\n",
        "\n",
        "from datasets import load_dataset\n",
        "import matplotlib.pyplot as plt\n",
        "from tqdm import tqdm\n",
        "import seaborn as sns"
      ]
    },
    {
      "cell_type": "markdown",
      "source": [
        "We'll write a Multilayer Perceptrone, the dataset consists of Russian texts with emotion labels: {0: \"joy\", 1: \"sadness\", 2: \"surprise\", 3: \"fear\", 4: \"anger\"}. Let's consider only texts with one label"
      ],
      "metadata": {
        "id": "Ef3qyQkUHSXS"
      }
    },
    {
      "cell_type": "markdown",
      "source": [
        "## Uploading and investigating the corpus (cedr from Transformers)"
      ],
      "metadata": {
        "id": "am2YDzU_XFAJ"
      }
    },
    {
      "cell_type": "code",
      "source": [
        "corpus = load_dataset('cedr')\n",
        "\n",
        "corpus"
      ],
      "metadata": {
        "colab": {
          "base_uri": "https://localhost:8080/",
          "height": 273,
          "referenced_widgets": [
            "3562debc04e1456da230a9fa126b6072",
            "5a1249af889f4d2483fa6f7324bb80db",
            "589d5970f6824f119d340d521aceaf2e",
            "99b25f58e1b34d9293c82851981cfbd2",
            "d28e708dc7244622a6db362f79623a14",
            "f3d8b75e960344fe89db72137eb5d57f",
            "002aa93b826647a18ec9baea83df5a06",
            "bb1d84ad237e4004a643a609595ec854",
            "a128f5b0cba147b69aca9eac71d93176",
            "78ce65ef6c3a43e48927eae19ff8b1f0",
            "24e929b3364842e2a19fb5b102a561f0"
          ]
        },
        "id": "K1gRjTf0w6Ky",
        "outputId": "65158551-438a-43da-b47e-712a4023e067"
      },
      "execution_count": 193,
      "outputs": [
        {
          "output_type": "stream",
          "name": "stderr",
          "text": [
            "No config specified, defaulting to: cedr/main\n",
            "Reusing dataset cedr (/root/.cache/huggingface/datasets/cedr/main/0.1.1/117570489cbabbdf8de619bd31918a1cd680a7f286b89d04af340d0691dc2d66)\n"
          ]
        },
        {
          "output_type": "display_data",
          "data": {
            "text/plain": [
              "  0%|          | 0/2 [00:00<?, ?it/s]"
            ],
            "application/vnd.jupyter.widget-view+json": {
              "version_major": 2,
              "version_minor": 0,
              "model_id": "3562debc04e1456da230a9fa126b6072"
            }
          },
          "metadata": {}
        },
        {
          "output_type": "execute_result",
          "data": {
            "text/plain": [
              "DatasetDict({\n",
              "    train: Dataset({\n",
              "        features: ['text', 'labels', 'source'],\n",
              "        num_rows: 7528\n",
              "    })\n",
              "    test: Dataset({\n",
              "        features: ['text', 'labels', 'source'],\n",
              "        num_rows: 1882\n",
              "    })\n",
              "})"
            ]
          },
          "metadata": {},
          "execution_count": 193
        }
      ]
    },
    {
      "cell_type": "code",
      "source": [
        "corpus['train'][:3]"
      ],
      "metadata": {
        "colab": {
          "base_uri": "https://localhost:8080/"
        },
        "id": "nstKkXlmFGBQ",
        "outputId": "e200af66-c0fe-4ed2-b765-6a3324f3ae88"
      },
      "execution_count": 194,
      "outputs": [
        {
          "output_type": "execute_result",
          "data": {
            "text/plain": [
              "{'labels': [[], [], [2]],\n",
              " 'source': ['lj', 'lenta', 'lj'],\n",
              " 'text': ['Суровый гималайский медведь .',\n",
              "  'Так, обнаружено несколько проблем с дисплеем (выгорание, странные зеленые полосы), дефекты динамика и некорректная работа Face ID.',\n",
              "  'У меня остается только один вопрос - является ли этот приступ отчаяния ( а точнее приступ удивления , почему мне не становится лучше , почему мне ничего не помогает ) еще одним испытанием ?']}"
            ]
          },
          "metadata": {},
          "execution_count": 194
        }
      ]
    },
    {
      "cell_type": "markdown",
      "source": [
        "All possible labels"
      ],
      "metadata": {
        "id": "1IHW7m1HLOro"
      }
    },
    {
      "cell_type": "code",
      "source": [
        "from collections import Counter\n",
        "\n",
        "labels = [label[0] for label in corpus['train']['labels'] if len(label) == 1]\n",
        "cnt_labels = Counter(labels)\n",
        "\n",
        "sns.histplot(labels);\n",
        "plt.xlabel('Emotions: {0: \"joy\", 1: \"sadness\", 2: \"surprise\", 3: \"fear\", 4: \"anger\"}')"
      ],
      "metadata": {
        "colab": {
          "base_uri": "https://localhost:8080/",
          "height": 296
        },
        "id": "pFx_LzcBLXcG",
        "outputId": "4cedb10c-5984-409d-f534-3ff382d37ec3"
      },
      "execution_count": 195,
      "outputs": [
        {
          "output_type": "execute_result",
          "data": {
            "text/plain": [
              "Text(0.5, 0, 'Emotions: {0: \"joy\", 1: \"sadness\", 2: \"surprise\", 3: \"fear\", 4: \"anger\"}')"
            ]
          },
          "metadata": {},
          "execution_count": 195
        },
        {
          "output_type": "display_data",
          "data": {
            "text/plain": [
              "<Figure size 432x288 with 1 Axes>"
            ],
            "image/png": "[encoded data removed]"
          },
          "metadata": {
            "needs_background": "light"
          }
        }
      ]
    },
    {
      "cell_type": "markdown",
      "source": [
        "We may say that classes are not balanced. We cannot use Accuracy as metrics. Let's see how it will affect out results - and it will affect, as there is very few inctances of 'surprise', 'fear' and 'anger' conpared to 'joy' and 'safness'."
      ],
      "metadata": {
        "id": "-pODN-JoMwfw"
      }
    },
    {
      "cell_type": "code",
      "source": [
        "texts = list()\n",
        "labels = list()\n",
        "\n",
        "for text, label in zip(corpus['train']['text'], corpus['train']['labels']):\n",
        "    if len(label) == 1:\n",
        "        texts.append(text)\n",
        "        labels.append(label[0])\n",
        "        \n",
        "len(texts)"
      ],
      "metadata": {
        "colab": {
          "base_uri": "https://localhost:8080/"
        },
        "id": "xz97K-CHxHDr",
        "outputId": "ed3e8f29-77f5-488d-ce9e-ae9d86909f52"
      },
      "execution_count": 196,
      "outputs": [
        {
          "output_type": "execute_result",
          "data": {
            "text/plain": [
              "4378"
            ]
          },
          "metadata": {},
          "execution_count": 196
        }
      ]
    },
    {
      "cell_type": "markdown",
      "source": [
        "## Data preprocessing"
      ],
      "metadata": {
        "id": "3LBzdPRWXRG2"
      }
    },
    {
      "cell_type": "code",
      "source": [
        "from nltk.tokenize import word_tokenize, wordpunct_tokenize, ToktokTokenizer\n",
        "from tqdm import tqdm"
      ],
      "metadata": {
        "id": "8G95LvPi2IBj"
      },
      "execution_count": 197,
      "outputs": []
    },
    {
      "cell_type": "code",
      "source": [
        "def preprocess(text):\n",
        "    tokens = wordpunct_tokenize(text.lower())\n",
        "    return tokens\n",
        "\n",
        "\n",
        "vocab = Counter()\n",
        "\n",
        "for text in texts:\n",
        "    vocab.update(preprocess(text))\n",
        "print('всего уникальных токенов:', len(vocab))"
      ],
      "metadata": {
        "colab": {
          "base_uri": "https://localhost:8080/"
        },
        "id": "OklllBxhxaOy",
        "outputId": "d4c4b4f9-b518-4723-f38b-10ec0bc10aea"
      },
      "execution_count": 198,
      "outputs": [
        {
          "output_type": "stream",
          "name": "stdout",
          "text": [
            "всего уникальных токенов: 15690\n"
          ]
        }
      ]
    },
    {
      "cell_type": "code",
      "source": [
        "filtered_vocab = set()\n",
        "\n",
        "for word in vocab:\n",
        "  if vocab[word] > 2:\n",
        "    filtered_vocab.add(word)\n",
        "\n",
        "print(f'Токенов которые встречаются больше 2 раз: {len(filtered_vocab)}')"
      ],
      "metadata": {
        "colab": {
          "base_uri": "https://localhost:8080/"
        },
        "id": "OT1YotTRxm1D",
        "outputId": "6397196a-b46a-4360-8ea8-a8f2a1bb7257"
      },
      "execution_count": 199,
      "outputs": [
        {
          "output_type": "stream",
          "name": "stdout",
          "text": [
            "Токенов которые встречаются больше 2 раз: 2481\n"
          ]
        }
      ]
    },
    {
      "cell_type": "markdown",
      "source": [
        "A lot of unique and rare tokens"
      ],
      "metadata": {
        "id": "mzsm6RDmXXMW"
      }
    },
    {
      "cell_type": "code",
      "source": [
        "word2id = {\n",
        "    'PAD': 0,\n",
        "    'UNK': 1}\n",
        "\n",
        "for word in filtered_vocab:\n",
        "  word2id[word] = word2id.get(word, len(word2id))\n",
        "\n",
        "print(len(word2id))"
      ],
      "metadata": {
        "colab": {
          "base_uri": "https://localhost:8080/"
        },
        "id": "ZlG4BMcyyCRN",
        "outputId": "e223ca3e-a826-4f37-eb1a-938446c33d4c"
      },
      "execution_count": 200,
      "outputs": [
        {
          "output_type": "stream",
          "name": "stdout",
          "text": [
            "2483\n"
          ]
        }
      ]
    },
    {
      "cell_type": "code",
      "source": [
        "id2word = {i:word for word, i in word2id.items()}"
      ],
      "metadata": {
        "id": "_ALwO30nyhFL"
      },
      "execution_count": 201,
      "outputs": []
    },
    {
      "cell_type": "code",
      "source": [
        "id2word[3]"
      ],
      "metadata": {
        "colab": {
          "base_uri": "https://localhost:8080/",
          "height": 37
        },
        "id": "0y394UGTy_T4",
        "outputId": "af821efa-c34f-4153-b247-aef1da3e12e9"
      },
      "execution_count": 202,
      "outputs": [
        {
          "output_type": "execute_result",
          "data": {
            "text/plain": [
              "'денег'"
            ],
            "application/vnd.google.colaboratory.intrinsic+json": {
              "type": "string"
            }
          },
          "metadata": {},
          "execution_count": 202
        }
      ]
    },
    {
      "cell_type": "code",
      "source": [
        "DEVICE = torch.device('cuda') if torch.cuda.is_available() else torch.device('cpu')\n",
        "DEVICE"
      ],
      "metadata": {
        "colab": {
          "base_uri": "https://localhost:8080/"
        },
        "id": "TuLxcrfqzArG",
        "outputId": "7654a523-01b3-41bf-ddb5-67ff1ae8f8ac"
      },
      "execution_count": 203,
      "outputs": [
        {
          "output_type": "execute_result",
          "data": {
            "text/plain": [
              "device(type='cuda')"
            ]
          },
          "metadata": {},
          "execution_count": 203
        }
      ]
    },
    {
      "cell_type": "markdown",
      "source": [
        "### Lets see various tokenizers and how they impact our data preprocessing"
      ],
      "metadata": {
        "id": "g7kXgMdBXkaE"
      }
    },
    {
      "cell_type": "markdown",
      "source": [
        "#### NLTK: wordpunct_tokenize"
      ],
      "metadata": {
        "id": "JWq5KWxiXq65"
      }
    },
    {
      "cell_type": "code",
      "source": [
        "total_n_words = 0\n",
        "unknown_words = list()\n",
        "\n",
        "for sample in tqdm(texts):\n",
        "    # токенизация\n",
        "    tokens = wordpunct_tokenize(sample)\n",
        "    \n",
        "    for tok in tokens:\n",
        "        # проверяем есть ли токен в нашем словаре\n",
        "        if tok not in vocab:\n",
        "            unknown_words.append(tok)\n",
        "            \n",
        "        total_n_words += 1\n",
        "        \n",
        "print(f'\\nМы не знаем {len(unknown_words)} слов из {total_n_words} слов в датасете')\n",
        "print(f'Что составляет {len(unknown_words) * 100 / total_n_words:.2f}% датасета')\n",
        "print()\n",
        "print(f'Уникальных неизвестных слов: {len(set(unknown_words))}')"
      ],
      "metadata": {
        "colab": {
          "base_uri": "https://localhost:8080/"
        },
        "id": "0J-F9men17Oq",
        "outputId": "cfb95b27-de28-4bf5-b03f-db981d689de8"
      },
      "execution_count": 204,
      "outputs": [
        {
          "output_type": "stream",
          "name": "stderr",
          "text": [
            "100%|██████████| 4378/4378 [00:00<00:00, 39819.03it/s]"
          ]
        },
        {
          "output_type": "stream",
          "name": "stdout",
          "text": [
            "\n",
            "Мы не знаем 6350 слов из 66991 слов в датасете\n",
            "Что составляет 9.48% датасета\n",
            "\n",
            "Уникальных неизвестных слов: 3035\n"
          ]
        },
        {
          "output_type": "stream",
          "name": "stderr",
          "text": [
            "\n"
          ]
        }
      ]
    },
    {
      "cell_type": "markdown",
      "source": [
        "#### NLTK: ToktokTokenizer. Classical tokenizer from NLTK"
      ],
      "metadata": {
        "id": "XBIUKbh3Xv3p"
      }
    },
    {
      "cell_type": "code",
      "source": [
        "total_n_words = 0\n",
        "unknown_words = list()\n",
        "\n",
        "for sample in tqdm(texts):\n",
        "    # токенизация\n",
        "    tokens = ToktokTokenizer().tokenize(sample)\n",
        "    \n",
        "    for tok in tokens:\n",
        "        # проверяем есть ли токен в нашем словаре\n",
        "        if tok not in vocab:\n",
        "            unknown_words.append(tok)\n",
        "            \n",
        "        total_n_words += 1\n",
        "        \n",
        "print(f'\\nМы не знаем {len(unknown_words)} слов из {total_n_words} слов в датасете')\n",
        "print(f'Что составляет {len(unknown_words) * 100 / total_n_words:.2f}% датасета')\n",
        "print()\n",
        "print(f'Уникальных неизвестных слов: {len(set(unknown_words))}')"
      ],
      "metadata": {
        "colab": {
          "base_uri": "https://localhost:8080/"
        },
        "id": "ac0UqlGJ2kVz",
        "outputId": "c18061fd-56eb-4eb7-b69e-2b0d99b8819a"
      },
      "execution_count": 205,
      "outputs": [
        {
          "output_type": "stream",
          "name": "stderr",
          "text": [
            "100%|██████████| 4378/4378 [00:00<00:00, 14507.90it/s]"
          ]
        },
        {
          "output_type": "stream",
          "name": "stdout",
          "text": [
            "\n",
            "Мы не знаем 7641 слов из 68007 слов в датасете\n",
            "Что составляет 11.24% датасета\n",
            "\n",
            "Уникальных неизвестных слов: 4126\n"
          ]
        },
        {
          "output_type": "stream",
          "name": "stderr",
          "text": [
            "\n"
          ]
        }
      ]
    },
    {
      "cell_type": "markdown",
      "source": [
        "#### NLTK: word_tokenize (yet anoter classics)"
      ],
      "metadata": {
        "id": "-p6QY_O6X9jm"
      }
    },
    {
      "cell_type": "code",
      "source": [
        "import nltk\n",
        "nltk.download('punkt')\n",
        "\n",
        "\n",
        "punct = punctuation + \"«»\"\n",
        "total_n_words = 0\n",
        "unknown_words = list()\n",
        "\n",
        "for sample in tqdm(texts):\n",
        "    # токенизация\n",
        "    tokens = word_tokenize(sample)\n",
        "    \n",
        "    for tok in tokens:\n",
        "        # проверяем есть ли токен в нашем словаре\n",
        "        if tok not in vocab:\n",
        "            unknown_words.append(tok)\n",
        "            \n",
        "        total_n_words += 1\n",
        "        \n",
        "print(f'\\nМы не знаем {len(unknown_words)} слов из {total_n_words} слов в датасете')\n",
        "print(f'Что составляет {len(unknown_words) * 100 / total_n_words:.2f}% датасета')\n",
        "print()\n",
        "print(f'Уникальных неизвестных слов: {len(set(unknown_words))}')"
      ],
      "metadata": {
        "colab": {
          "base_uri": "https://localhost:8080/"
        },
        "id": "j7tOtkx225FR",
        "outputId": "2ca5d3a9-a6de-4cb3-dc2d-49d7ffa1ac88"
      },
      "execution_count": 206,
      "outputs": [
        {
          "output_type": "stream",
          "name": "stdout",
          "text": [
            "[nltk_data] Downloading package punkt to /root/nltk_data...\n",
            "[nltk_data]   Package punkt is already up-to-date!\n"
          ]
        },
        {
          "output_type": "stream",
          "name": "stderr",
          "text": [
            "100%|██████████| 4378/4378 [00:00<00:00, 5337.29it/s]"
          ]
        },
        {
          "output_type": "stream",
          "name": "stdout",
          "text": [
            "\n",
            "Мы не знаем 7321 слов из 68818 слов в датасете\n",
            "Что составляет 10.64% датасета\n",
            "\n",
            "Уникальных неизвестных слов: 3630\n"
          ]
        },
        {
          "output_type": "stream",
          "name": "stderr",
          "text": [
            "\n"
          ]
        }
      ]
    },
    {
      "cell_type": "markdown",
      "source": [
        "### Tokenizer - final decision"
      ],
      "metadata": {
        "id": "tdLHWAfXYms_"
      }
    },
    {
      "cell_type": "markdown",
      "source": [
        "The less unknown words the better: we prefer wordpunct_tokenize."
      ],
      "metadata": {
        "id": "_1eV1jckYLQZ"
      }
    },
    {
      "cell_type": "code",
      "source": [
        "lengths = [len(wordpunct_tokenize(sample)) for sample in tqdm(texts)]\n"
      ],
      "metadata": {
        "colab": {
          "base_uri": "https://localhost:8080/"
        },
        "id": "_gVY1ub56z0B",
        "outputId": "50af96fa-7f57-454a-b0fe-a3b568807f94"
      },
      "execution_count": 207,
      "outputs": [
        {
          "output_type": "stream",
          "name": "stderr",
          "text": [
            "100%|██████████| 4378/4378 [00:00<00:00, 130816.15it/s]\n"
          ]
        }
      ]
    },
    {
      "cell_type": "code",
      "source": [
        "plt.figure(figsize=(16, 10))\n",
        "plt.grid()\n",
        "plt.title(\"Распределение длин\")\n",
        "plt.xlabel(\"Длина в токенах\")\n",
        "sns.histplot(lengths)"
      ],
      "metadata": {
        "colab": {
          "base_uri": "https://localhost:8080/",
          "height": 639
        },
        "id": "PT36ssRj66Wj",
        "outputId": "e08e487e-aed1-4335-eaaf-fe9028f842e6"
      },
      "execution_count": 208,
      "outputs": [
        {
          "output_type": "execute_result",
          "data": {
            "text/plain": [
              "<matplotlib.axes._subplots.AxesSubplot at 0x7f22220d0f50>"
            ]
          },
          "metadata": {},
          "execution_count": 208
        },
        {
          "output_type": "display_data",
          "data": {
            "text/plain": [
              "<Figure size 1152x720 with 1 Axes>"
            ],
            "image/png": "[encoded data removed]"
          },
          "metadata": {
            "needs_background": "light"
          }
        }
      ]
    },
    {
      "cell_type": "code",
      "source": [
        "np.percentile(lengths, 97)"
      ],
      "metadata": {
        "colab": {
          "base_uri": "https://localhost:8080/"
        },
        "id": "r47Z7ZKe8dQW",
        "outputId": "19cbb5b7-6ba8-42dc-f4b8-003aba6ae37b"
      },
      "execution_count": 209,
      "outputs": [
        {
          "output_type": "execute_result",
          "data": {
            "text/plain": [
              "34.0"
            ]
          },
          "metadata": {},
          "execution_count": 209
        }
      ]
    },
    {
      "cell_type": "code",
      "source": [
        "from torch.utils.data import Dataset, DataLoader\n",
        "import torch.nn.functional as F\n",
        "import torch.nn as nn"
      ],
      "metadata": {
        "id": "vuc1D9m92Bkt"
      },
      "execution_count": 210,
      "outputs": []
    },
    {
      "cell_type": "markdown",
      "source": [
        "## Dataset and DataLoader"
      ],
      "metadata": {
        "id": "teK4cXeEYdv3"
      }
    },
    {
      "cell_type": "code",
      "source": [
        "class CedrDataset(Dataset):\n",
        "\n",
        "    def __init__(self, texts, labels, word2id, DEVICE, tokenizer, vocab, max_len=32):\n",
        "        self.texts = texts\n",
        "        self.labels = labels\n",
        "\n",
        "        self.word2id = word2id\n",
        "        self.device = DEVICE\n",
        "        self.tokenizer = tokenizer\n",
        "        self.vocab = vocab\n",
        "        self.max_len = max_len\n",
        "\n",
        "    def __len__(self): #это обязательный метод, он должен уметь считать длину датасета\n",
        "        return len(self.texts)\n",
        "\n",
        "\n",
        "    def tokenize(self, text):\n",
        "      tokenized_text = self.tokenizer(text)\n",
        "      \n",
        "      return tokenized_text\n",
        "\n",
        "\n",
        "    def indexing(self, tokenized_text):\n",
        "      tokenized_text = [self.word2id[tok] if tok in self.word2id else self.word2id['UNK'] for tok in tokenized_text]\n",
        "\n",
        "      return tokenized_text\n",
        "\n",
        "\n",
        "    def padding(self, token_indices):\n",
        "      token_indices = token_indices[:self.max_len]\n",
        "      token_indices = F.pad(torch.LongTensor(token_indices), (0, self.max_len - len(token_indices)))\n",
        "\n",
        "      return token_indices\n",
        "\n",
        "\n",
        "\n",
        "    def __getitem__(self, index): #еще один обязательный метод. По индексу возвращает элемент выборки\n",
        "        \n",
        "        text = self.texts[index]\n",
        "        target = self.labels[index]\n",
        "\n",
        "        tokenized_text = self.tokenize(text)\n",
        "        token_indices = self.indexing(tokenized_text)\n",
        "\n",
        "        token_indices = self.padding(token_indices)\n",
        "        \n",
        "        ids = torch.tensor(token_indices, dtype=torch.long).to(self.device)\n",
        "        target = torch.tensor(target, dtype=torch.long).to(self.device)\n",
        "\n",
        "\n",
        "        return ids, target\n",
        "\n",
        "    def collate_fn(self, batch): #этот метод можно реализовывать и отдельно,\n",
        "    # он понадобится для DataLoader во время итерации по батчам\n",
        "        ids, target = list(zip(*batch))\n",
        "        ids = torch.tensor(ids).to(self.device)\n",
        "        target = torch.tensor(target).to(self.device) # tuple ([1], [0], [1])  -> Tensor [[1.], [0.], [1.]] \n",
        "        return ids, y"
      ],
      "metadata": {
        "id": "9yTHjClgzKwc"
      },
      "execution_count": 211,
      "outputs": []
    },
    {
      "cell_type": "code",
      "source": [
        "x_y = list(zip(texts, labels))\n",
        "shuffle(x_y)\n",
        "texts, labels = zip(*x_y)"
      ],
      "metadata": {
        "id": "OADNV5fwPzLM"
      },
      "execution_count": 212,
      "outputs": []
    },
    {
      "cell_type": "code",
      "source": [
        "train_sentences, val_sentences, train_y, val_y = train_test_split(texts, labels, test_size=0.1)"
      ],
      "metadata": {
        "id": "6eRHejw5LTmd"
      },
      "execution_count": 213,
      "outputs": []
    },
    {
      "cell_type": "code",
      "source": [
        "train_dataset = CedrDataset(texts=train_sentences, labels=train_y, word2id=word2id, DEVICE=DEVICE,\n",
        "                     tokenizer=wordpunct_tokenize, vocab=vocab, max_len=32)\n",
        "train_loader = DataLoader(train_dataset, batch_size=128)\n"
      ],
      "metadata": {
        "id": "QCXmD72iAQyx"
      },
      "execution_count": 214,
      "outputs": []
    },
    {
      "cell_type": "code",
      "source": [
        "len(train_loader)"
      ],
      "metadata": {
        "colab": {
          "base_uri": "https://localhost:8080/"
        },
        "id": "GUukN8oESnZu",
        "outputId": "62a3c331-48b5-456a-f21b-b0253c70240e"
      },
      "execution_count": 215,
      "outputs": [
        {
          "output_type": "execute_result",
          "data": {
            "text/plain": [
              "31"
            ]
          },
          "metadata": {},
          "execution_count": 215
        }
      ]
    },
    {
      "cell_type": "code",
      "source": [
        "batch = next(iter(train_loader))\n",
        "batch"
      ],
      "metadata": {
        "colab": {
          "base_uri": "https://localhost:8080/"
        },
        "id": "RtcF9TPSaKwr",
        "outputId": "dcc57a52-779f-4451-ea6f-46a0a7337398"
      },
      "execution_count": 216,
      "outputs": [
        {
          "output_type": "stream",
          "name": "stderr",
          "text": [
            "/usr/local/lib/python3.7/dist-packages/ipykernel_launcher.py:47: UserWarning: To copy construct from a tensor, it is recommended to use sourceTensor.clone().detach() or sourceTensor.clone().detach().requires_grad_(True), rather than torch.tensor(sourceTensor).\n"
          ]
        },
        {
          "output_type": "execute_result",
          "data": {
            "text/plain": [
              "[tensor([[1065, 2456,   45,  ...,    0,    0,    0],\n",
              "         [1982,    1,    1,  ...,    0,    0,    0],\n",
              "         [   1, 1444, 2479,  ...,    1,  269, 1313],\n",
              "         ...,\n",
              "         [1982,    1,  965,  ...,    0,    0,    0],\n",
              "         [ 685,  276, 1772,  ...,    0,    0,    0],\n",
              "         [   1,  269,    1,  ...,    0,    0,    0]], device='cuda:0'),\n",
              " tensor([4, 1, 3, 1, 1, 1, 0, 1, 0, 4, 1, 0, 1, 0, 0, 2, 1, 1, 2, 0, 0, 1, 0, 1,\n",
              "         2, 2, 2, 1, 4, 3, 1, 0, 0, 1, 0, 2, 1, 0, 2, 1, 0, 0, 3, 1, 2, 4, 3, 0,\n",
              "         0, 0, 0, 1, 4, 1, 3, 1, 2, 4, 2, 1, 0, 0, 1, 0, 2, 1, 1, 4, 4, 3, 0, 0,\n",
              "         0, 2, 0, 3, 0, 1, 2, 0, 1, 0, 2, 1, 0, 0, 0, 1, 4, 0, 0, 1, 2, 1, 0, 3,\n",
              "         1, 0, 2, 1, 4, 0, 1, 0, 1, 0, 0, 3, 1, 4, 0, 0, 4, 3, 2, 4, 0, 4, 0, 0,\n",
              "         3, 3, 1, 0, 2, 2, 2, 3], device='cuda:0')]"
            ]
          },
          "metadata": {},
          "execution_count": 216
        }
      ]
    },
    {
      "cell_type": "code",
      "source": [
        "x, y = train_dataset[1]\n",
        "x"
      ],
      "metadata": {
        "colab": {
          "base_uri": "https://localhost:8080/"
        },
        "id": "9wPiSTPJAWkT",
        "outputId": "a8f07a62-9b2e-4741-a5e9-2a7a6d54234f"
      },
      "execution_count": 217,
      "outputs": [
        {
          "output_type": "stream",
          "name": "stderr",
          "text": [
            "/usr/local/lib/python3.7/dist-packages/ipykernel_launcher.py:47: UserWarning: To copy construct from a tensor, it is recommended to use sourceTensor.clone().detach() or sourceTensor.clone().detach().requires_grad_(True), rather than torch.tensor(sourceTensor).\n"
          ]
        },
        {
          "output_type": "execute_result",
          "data": {
            "text/plain": [
              "tensor([1982,    1,    1, 2091, 2418, 2087,    1,  817,  269, 1371,  671,  269,\n",
              "         882, 1479,    1,  269,    1, 1444, 1596,    1,  269, 1785,  860,  558,\n",
              "        1772,    0,    0,    0,    0,    0,    0,    0], device='cuda:0')"
            ]
          },
          "metadata": {},
          "execution_count": 217
        }
      ]
    },
    {
      "cell_type": "markdown",
      "source": [
        "We can convert ids back to words to see sentences"
      ],
      "metadata": {
        "id": "B2S1GnfcY3eB"
      }
    },
    {
      "cell_type": "code",
      "source": [
        "[id2word[idx.item()] for idx in x]"
      ],
      "metadata": {
        "colab": {
          "base_uri": "https://localhost:8080/"
        },
        "id": "1g_QqYiH_iDy",
        "outputId": "87fd97fe-10bf-492b-a2a8-57a0ccfa5315"
      },
      "execution_count": 218,
      "outputs": [
        {
          "output_type": "execute_result",
          "data": {
            "text/plain": [
              "['«',\n",
              " 'UNK',\n",
              " 'UNK',\n",
              " 'ко',\n",
              " 'мне',\n",
              " 'в',\n",
              " 'UNK',\n",
              " 'такие',\n",
              " ',',\n",
              " 'плачут',\n",
              " 'девочки',\n",
              " ',',\n",
              " 'что',\n",
              " 'ребенка',\n",
              " 'UNK',\n",
              " ',',\n",
              " 'UNK',\n",
              " 'и',\n",
              " 'так',\n",
              " 'UNK',\n",
              " ',',\n",
              " '—',\n",
              " 'отметила',\n",
              " 'она',\n",
              " '.',\n",
              " 'PAD',\n",
              " 'PAD',\n",
              " 'PAD',\n",
              " 'PAD',\n",
              " 'PAD',\n",
              " 'PAD',\n",
              " 'PAD']"
            ]
          },
          "metadata": {},
          "execution_count": 218
        }
      ]
    },
    {
      "cell_type": "code",
      "source": [
        "val_dataset = CedrDataset(texts=val_sentences, labels=val_y, word2id=word2id, DEVICE=DEVICE,\n",
        "                     tokenizer=wordpunct_tokenize, vocab=vocab, max_len=32)\n",
        "val_loader = DataLoader(val_dataset, batch_size=128)"
      ],
      "metadata": {
        "id": "rd3cW1KcMICT"
      },
      "execution_count": 219,
      "outputs": []
    },
    {
      "cell_type": "code",
      "source": [
        "len(val_loader)"
      ],
      "metadata": {
        "colab": {
          "base_uri": "https://localhost:8080/"
        },
        "id": "AeBj0Mm9UVSZ",
        "outputId": "310fc989-228e-4074-ac4c-525401f95310"
      },
      "execution_count": 220,
      "outputs": [
        {
          "output_type": "execute_result",
          "data": {
            "text/plain": [
              "4"
            ]
          },
          "metadata": {},
          "execution_count": 220
        }
      ]
    },
    {
      "cell_type": "markdown",
      "source": [
        "## Model, training loop"
      ],
      "metadata": {
        "id": "URJqbO2jZAU3"
      }
    },
    {
      "cell_type": "code",
      "source": [
        "print(f'Embedding dim should be sqrt of vocabulary size: {len(word2id)}, emd_dim: {len(word2id) ** 0.5}')"
      ],
      "metadata": {
        "colab": {
          "base_uri": "https://localhost:8080/"
        },
        "id": "VTGVIDSinkLp",
        "outputId": "f2d53413-3b4f-4153-a662-e18327361baa"
      },
      "execution_count": 260,
      "outputs": [
        {
          "output_type": "stream",
          "name": "stdout",
          "text": [
            "Embedding dim should be sqrt of vocabulary size: 2483, emd_dim: 49.82971001320397\n"
          ]
        }
      ]
    },
    {
      "cell_type": "code",
      "source": [
        "class MLP(nn.Module):\n",
        "    \n",
        "    def __init__(self, vocab_size, embedding_dim):\n",
        "        \n",
        "        super().__init__()          \n",
        "        # указываем в атрибутах класса, какие слои и активации нам понадобятся\n",
        "        self.embedding = nn.Embedding(vocab_size, embedding_dim)\n",
        "        self.emb2h = nn.Linear(embedding_dim, 100) \n",
        "        self.act = nn.ReLU()\n",
        "        self.linear = nn.Linear(100, 200)\n",
        "        self.dropout = nn.Dropout(p=0.5)\n",
        "        self.h2out = nn.Linear(200, 5)\n",
        "        self.act_out = nn.Softmax()\n",
        "        \n",
        "        \n",
        "    def forward(self, text): #необходимый метод,  в нем указываем, как именно связываются слои/активации между собой\n",
        "        # batch_size x seq_len\n",
        "        #ipdb.set_trace()\n",
        "        embedded = self.embedding(text)   # переводим последовательность индексов в последовательность эмбеддингов\n",
        "        # batch_size x seq_len x embedding_dim\n",
        "        \n",
        "        mean_emb = torch.mean(embedded, dim=1) # считаем средний эмбеддинг предложения\n",
        "        # batch_size x embedding_dim\n",
        "        hidden = self.emb2h(mean_emb) # пропускаем эмбеддинг через полносвязный слой \n",
        "        # batch_size x 10\n",
        "        hidden = self.act(hidden)\n",
        "        # batch_size x 10\n",
        "        hidden = self.dropout(hidden)\n",
        "        hidden = self.linear(hidden)\n",
        "        hidden = self.act(hidden)\n",
        "        hidden = self.dropout(hidden)\n",
        "        # batch_size x 10\n",
        "        out = self.h2out(hidden) # возвращаем одно число для каждого семпла\n",
        "        # batch_size x 1\n",
        "        proba = self.act_out(out) # пропускаем число через сигмоиду, делая из него вероятность класса\n",
        "        # batch_size x 1\n",
        "        return proba"
      ],
      "metadata": {
        "id": "vuJV2sA2KbSi"
      },
      "execution_count": 269,
      "outputs": []
    },
    {
      "cell_type": "code",
      "source": [
        "def train(model, iterator, optimizer, criterion):\n",
        "    print('Training...')\n",
        "    epoch_loss = 0 # для подсчета среднего лосса на всех батчах\n",
        "    model.train()  # ставим модель в обучение, явно указываем, что сейчас надо будет хранить градиенты у всех весов\n",
        "\n",
        "    for i, (texts, ys) in enumerate(iterator): #итерируемся по батчам\n",
        "        optimizer.zero_grad()  #обнуляем градиенты\n",
        "        #ipdb.set_trace()\n",
        "        predictions = model(texts) #прогоняем данные через модель\n",
        "        loss = criterion(predictions, ys) #считаем значение функции потерь  \n",
        "        loss.backward() #считаем градиенты  \n",
        "        optimizer.step() #обновляем веса \n",
        "        epoch_loss += loss.item() #сохраняем значение функции потерь\n",
        "        \n",
        "        if not (i + 1) % 20:\n",
        "            print(f'Train loss: {epoch_loss/i}')\n",
        "        \n",
        "    return epoch_loss / len(iterator), predictions # возвращаем среднее значение функции потерь по всей выборке"
      ],
      "metadata": {
        "id": "pqaAUcbGNhST"
      },
      "execution_count": 270,
      "outputs": []
    },
    {
      "cell_type": "code",
      "source": [
        "def evaluate(model, iterator, criterion):\n",
        "    print(\"\\nValidating...\")\n",
        "    epoch_loss = 0\n",
        "    model.eval() \n",
        "    with torch.no_grad():\n",
        "        for i, (texts, ys) in enumerate(iterator):   \n",
        "            predictions = model(texts)  # делаем предсказания на тесте\n",
        "            loss = criterion(predictions, ys)   # считаем значения функции ошибки для статистики  \n",
        "            epoch_loss += loss.item() \n",
        "            \n",
        "            if not (i + 1) % 5:\n",
        "              print(f'Val loss: {epoch_loss/i}')\n",
        "        \n",
        "    return epoch_loss / len(iterator), predictions # возвращаем средний лосс по батчам"
      ],
      "metadata": {
        "id": "caDIMuA8Up9i"
      },
      "execution_count": 271,
      "outputs": []
    },
    {
      "cell_type": "code",
      "source": [
        "model = MLP(len(word2id), 50)\n",
        "optimizer = optim.Adam(model.parameters(), lr=0.001)\n",
        "criterion = nn.CrossEntropyLoss() \n",
        "\n",
        "# веса модели и значения лосса храним там же, где и все остальные тензоры\n",
        "model = model.to(DEVICE)\n",
        "criterion = criterion.to(DEVICE)"
      ],
      "metadata": {
        "id": "thrSu5kuUreH"
      },
      "execution_count": 272,
      "outputs": []
    },
    {
      "cell_type": "code",
      "source": [
        "losses = []\n",
        "losses_eval = []\n",
        "\n",
        "\n",
        "for i in range(20):\n",
        "    print(f'\\nstarting Epoch {i}')\n",
        "    epoch_loss, tr_pred = train(model, train_loader, optimizer, criterion)\n",
        "    losses.append(epoch_loss)\n",
        "\n",
        "    epoch_loss_on_test, val_pred = evaluate(model, val_loader, criterion)\n",
        "    losses_eval.append(epoch_loss_on_test)\n"
      ],
      "metadata": {
        "colab": {
          "base_uri": "https://localhost:8080/"
        },
        "id": "fNyYhVKTVfwv",
        "outputId": "579c7659-b7fc-4d20-d8d3-0e0bc249c714"
      },
      "execution_count": 273,
      "outputs": [
        {
          "output_type": "stream",
          "name": "stdout",
          "text": [
            "\n",
            "starting Epoch 0\n",
            "Training...\n"
          ]
        },
        {
          "output_type": "stream",
          "name": "stderr",
          "text": [
            "/usr/local/lib/python3.7/dist-packages/ipykernel_launcher.py:47: UserWarning: To copy construct from a tensor, it is recommended to use sourceTensor.clone().detach() or sourceTensor.clone().detach().requires_grad_(True), rather than torch.tensor(sourceTensor).\n",
            "/usr/local/lib/python3.7/dist-packages/ipykernel_launcher.py:35: UserWarning: Implicit dimension choice for softmax has been deprecated. Change the call to include dim=X as an argument.\n"
          ]
        },
        {
          "output_type": "stream",
          "name": "stdout",
          "text": [
            "Train loss: 1.647600337078697\n",
            "\n",
            "Validating...\n",
            "\n",
            "starting Epoch 1\n",
            "Training...\n",
            "Train loss: 1.5981058133275885\n",
            "\n",
            "Validating...\n",
            "\n",
            "starting Epoch 2\n",
            "Training...\n",
            "Train loss: 1.5967037175831043\n",
            "\n",
            "Validating...\n",
            "\n",
            "starting Epoch 3\n",
            "Training...\n",
            "Train loss: 1.5917626556597257\n",
            "\n",
            "Validating...\n",
            "\n",
            "starting Epoch 4\n",
            "Training...\n",
            "Train loss: 1.587576847327383\n",
            "\n",
            "Validating...\n",
            "\n",
            "starting Epoch 5\n",
            "Training...\n",
            "Train loss: 1.5711620669615896\n",
            "\n",
            "Validating...\n",
            "\n",
            "starting Epoch 6\n",
            "Training...\n",
            "Train loss: 1.5461837241524143\n",
            "\n",
            "Validating...\n",
            "\n",
            "starting Epoch 7\n",
            "Training...\n",
            "Train loss: 1.508578018138283\n",
            "\n",
            "Validating...\n",
            "\n",
            "starting Epoch 8\n",
            "Training...\n",
            "Train loss: 1.4769713000247353\n",
            "\n",
            "Validating...\n",
            "\n",
            "starting Epoch 9\n",
            "Training...\n",
            "Train loss: 1.4482195440091585\n",
            "\n",
            "Validating...\n",
            "\n",
            "starting Epoch 10\n",
            "Training...\n",
            "Train loss: 1.4272717613922923\n",
            "\n",
            "Validating...\n",
            "\n",
            "starting Epoch 11\n",
            "Training...\n",
            "Train loss: 1.4130801276156777\n",
            "\n",
            "Validating...\n",
            "\n",
            "starting Epoch 12\n",
            "Training...\n",
            "Train loss: 1.4017311271868254\n",
            "\n",
            "Validating...\n",
            "\n",
            "starting Epoch 13\n",
            "Training...\n",
            "Train loss: 1.3911089395221912\n",
            "\n",
            "Validating...\n",
            "\n",
            "starting Epoch 14\n",
            "Training...\n",
            "Train loss: 1.3836612324965627\n",
            "\n",
            "Validating...\n",
            "\n",
            "starting Epoch 15\n",
            "Training...\n",
            "Train loss: 1.382463674796255\n",
            "\n",
            "Validating...\n",
            "\n",
            "starting Epoch 16\n",
            "Training...\n",
            "Train loss: 1.3734239026119834\n",
            "\n",
            "Validating...\n",
            "\n",
            "starting Epoch 17\n",
            "Training...\n",
            "Train loss: 1.3707837368312634\n",
            "\n",
            "Validating...\n",
            "\n",
            "starting Epoch 18\n",
            "Training...\n",
            "Train loss: 1.370688977994417\n",
            "\n",
            "Validating...\n",
            "\n",
            "starting Epoch 19\n",
            "Training...\n",
            "Train loss: 1.3780810268301713\n",
            "\n",
            "Validating...\n"
          ]
        }
      ]
    },
    {
      "cell_type": "markdown",
      "source": [
        "## Plotted loss for train and val"
      ],
      "metadata": {
        "id": "vbjUD6BNZNau"
      }
    },
    {
      "cell_type": "code",
      "source": [
        "import matplotlib.pyplot as plt\n",
        "plt.plot(losses)\n",
        "plt.plot(losses_eval)\n",
        "plt.title('CrossEntropy loss value')\n",
        "plt.ylabel('CrossEntropy loss')\n",
        "plt.xlabel('epoch')\n",
        "plt.legend(['train', 'val'], loc='upper right');"
      ],
      "metadata": {
        "colab": {
          "base_uri": "https://localhost:8080/",
          "height": 295
        },
        "id": "Iq0MDWRMVmwB",
        "outputId": "eafaef96-6f79-4b7f-eab4-ff55b153e8f9"
      },
      "execution_count": 274,
      "outputs": [
        {
          "output_type": "display_data",
          "data": {
            "text/plain": [
              "<Figure size 432x288 with 1 Axes>"
            ],
            "image/png": "[encoded data removed]"
          },
          "metadata": {
            "needs_background": "light"
          }
        }
      ]
    },
    {
      "cell_type": "code",
      "source": [
        "batch, y = next(iter(val_loader))\n",
        "print(len(y))\n",
        "\n",
        "with torch.no_grad():\n",
        "  preds = np.argmax(model(batch).detach().cpu().numpy(), axis=1)"
      ],
      "metadata": {
        "colab": {
          "base_uri": "https://localhost:8080/"
        },
        "id": "1vjsG3OJWqNY",
        "outputId": "88d9b309-5246-4832-aecb-4014c4d0ac47"
      },
      "execution_count": 276,
      "outputs": [
        {
          "output_type": "stream",
          "name": "stdout",
          "text": [
            "128\n"
          ]
        },
        {
          "output_type": "stream",
          "name": "stderr",
          "text": [
            "/usr/local/lib/python3.7/dist-packages/ipykernel_launcher.py:47: UserWarning: To copy construct from a tensor, it is recommended to use sourceTensor.clone().detach() or sourceTensor.clone().detach().requires_grad_(True), rather than torch.tensor(sourceTensor).\n",
            "/usr/local/lib/python3.7/dist-packages/ipykernel_launcher.py:35: UserWarning: Implicit dimension choice for softmax has been deprecated. Change the call to include dim=X as an argument.\n"
          ]
        }
      ]
    },
    {
      "cell_type": "code",
      "source": [
        "from sklearn.metrics import classification_report\n",
        "\n",
        "print(classification_report(y.detach().cpu().numpy(), preds));"
      ],
      "metadata": {
        "colab": {
          "base_uri": "https://localhost:8080/"
        },
        "id": "jWXZ6n-ch2PI",
        "outputId": "2d0ebb6b-145b-4f56-aa2d-14abf4469237"
      },
      "execution_count": 277,
      "outputs": [
        {
          "output_type": "stream",
          "name": "stdout",
          "text": [
            "              precision    recall  f1-score   support\n",
            "\n",
            "           0       0.58      0.76      0.66        42\n",
            "           1       0.54      0.93      0.68        41\n",
            "           2       0.33      0.04      0.08        23\n",
            "           3       0.00      0.00      0.00        15\n",
            "           4       0.00      0.00      0.00         7\n",
            "\n",
            "    accuracy                           0.55       128\n",
            "   macro avg       0.29      0.35      0.28       128\n",
            "weighted avg       0.42      0.55      0.45       128\n",
            "\n"
          ]
        },
        {
          "output_type": "stream",
          "name": "stderr",
          "text": [
            "/usr/local/lib/python3.7/dist-packages/sklearn/metrics/_classification.py:1318: UndefinedMetricWarning: Precision and F-score are ill-defined and being set to 0.0 in labels with no predicted samples. Use `zero_division` parameter to control this behavior.\n",
            "  _warn_prf(average, modifier, msg_start, len(result))\n",
            "/usr/local/lib/python3.7/dist-packages/sklearn/metrics/_classification.py:1318: UndefinedMetricWarning: Precision and F-score are ill-defined and being set to 0.0 in labels with no predicted samples. Use `zero_division` parameter to control this behavior.\n",
            "  _warn_prf(average, modifier, msg_start, len(result))\n",
            "/usr/local/lib/python3.7/dist-packages/sklearn/metrics/_classification.py:1318: UndefinedMetricWarning: Precision and F-score are ill-defined and being set to 0.0 in labels with no predicted samples. Use `zero_division` parameter to control this behavior.\n",
            "  _warn_prf(average, modifier, msg_start, len(result))\n"
          ]
        }
      ]
    },
    {
      "cell_type": "markdown",
      "source": [
        "As we may see, our MLP classifier is too weak and simple for this task. For this batch it doesn't predict labels 3 and 4 for any text and very few 2 labels."
      ],
      "metadata": {
        "id": "XeEpC0-BkOJ5"
      }
    },
    {
      "cell_type": "code",
      "source": [
        ""
      ],
      "metadata": {
        "id": "yWfacxbAoe7s"
      },
      "execution_count": null,
      "outputs": []
    }
  ]
}